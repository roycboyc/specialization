{
 "cells": [
  {
   "cell_type": "code",
   "execution_count": 3,
   "metadata": {
    "collapsed": true
   },
   "outputs": [],
   "source": [
    "#scrapes Impressionist Paintings on Wikimedia, stores all images as jpeg links in url_list at bottom\n",
    "\n",
    "import cv2\n",
    "from bs4 import BeautifulSoup\n",
    "import requests"
   ]
  },
  {
   "cell_type": "code",
   "execution_count": 8,
   "metadata": {
    "collapsed": false
   },
   "outputs": [],
   "source": [
    "r  = requests.get(\"https://commons.wikimedia.org/wiki/Category:Impressionist_paintings\")\n",
    "\n",
    "data = r.text\n",
    "\n",
    "soup = BeautifulSoup(data, \"html.parser\")"
   ]
  },
  {
   "cell_type": "code",
   "execution_count": 31,
   "metadata": {
    "collapsed": false
   },
   "outputs": [],
   "source": [
    "imgBank = soup.find_all(\"img\")"
   ]
  },
  {
   "cell_type": "code",
   "execution_count": 45,
   "metadata": {
    "collapsed": false
   },
   "outputs": [],
   "source": [
    "st = str(imgBank[0])"
   ]
  },
  {
   "cell_type": "code",
   "execution_count": 54,
   "metadata": {
    "collapsed": false
   },
   "outputs": [
    {
     "data": {
      "text/plain": [
       "<img alt=\"CasinCaillebotte.jpg\" data-file-height=\"2636\" data-file-width=\"3136\" height=\"101\" src=\"https://upload.wikimedia.org/wikipedia/commons/thumb/1/12/CasinCaillebotte.jpg/120px-CasinCaillebotte.jpg\" srcset=\"https://upload.wikimedia.org/wikipedia/commons/thumb/1/12/CasinCaillebotte.jpg/180px-CasinCaillebotte.jpg 1.5x, https://upload.wikimedia.org/wikipedia/commons/thumb/1/12/CasinCaillebotte.jpg/240px-CasinCaillebotte.jpg 2x\" width=\"120\"/>"
      ]
     },
     "execution_count": 54,
     "metadata": {},
     "output_type": "execute_result"
    }
   ],
   "source": [
    "imgBank[0]"
   ]
  },
  {
   "cell_type": "code",
   "execution_count": 55,
   "metadata": {
    "collapsed": false
   },
   "outputs": [
    {
     "data": {
      "text/plain": [
       "<img alt=\"Childe Hassam - Building a Schooner, Provincetown.JPG\" data-file-height=\"1498\" data-file-width=\"1625\" height=\"111\" src=\"https://upload.wikimedia.org/wikipedia/commons/thumb/9/93/Childe_Hassam_-_Building_a_Schooner%2C_Provincetown.JPG/120px-Childe_Hassam_-_Building_a_Schooner%2C_Provincetown.JPG\" srcset=\"https://upload.wikimedia.org/wikipedia/commons/thumb/9/93/Childe_Hassam_-_Building_a_Schooner%2C_Provincetown.JPG/180px-Childe_Hassam_-_Building_a_Schooner%2C_Provincetown.JPG 1.5x, https://upload.wikimedia.org/wikipedia/commons/thumb/9/93/Childe_Hassam_-_Building_a_Schooner%2C_Provincetown.JPG/240px-Childe_Hassam_-_Building_a_Schooner%2C_Provincetown.JPG 2x\" width=\"120\"/>"
      ]
     },
     "execution_count": 55,
     "metadata": {},
     "output_type": "execute_result"
    }
   ],
   "source": [
    "imgBank[100]"
   ]
  },
  {
   "cell_type": "code",
   "execution_count": 51,
   "metadata": {
    "collapsed": false
   },
   "outputs": [
    {
     "name": "stdout",
     "output_type": "stream",
     "text": [
      "https://upload.wikimedia.org/wikipedia/commons/thumb/1/12/CasinCaillebotte.jpg/240px-CasinCaillebotte.jpg\n"
     ]
    }
   ],
   "source": [
    "def find_between( s, first, last ):\n",
    "    try:\n",
    "        start = s.index( first ) + len( first )\n",
    "        end = s.index( last, start )\n",
    "        return s[start:end]\n",
    "    except ValueError:\n",
    "        return \"\"\n",
    "\n",
    "def find_between_r( s, first, last ):\n",
    "    try:\n",
    "        start = s.rindex( first ) + len( first )\n",
    "        end = s.rindex( last, start )\n",
    "        return s[start:end]\n",
    "    except ValueError:\n",
    "        return \"\"\n",
    "\n",
    "\n",
    "print find_between( st, \"1.5x, \", ' 2x' )\n"
   ]
  },
  {
   "cell_type": "code",
   "execution_count": 61,
   "metadata": {
    "collapsed": false
   },
   "outputs": [],
   "source": [
    "url_list = []\n",
    "for i in range(len(imgBank)):\n",
    "    st = str(imgBank[i])\n",
    "    url_list.append(find_between( st, \"1.5x, \", ' 2x' ))"
   ]
  },
  {
   "cell_type": "code",
   "execution_count": 62,
   "metadata": {
    "collapsed": false
   },
   "outputs": [
    {
     "data": {
      "text/plain": [
       "['https://upload.wikimedia.org/wikipedia/commons/thumb/1/12/CasinCaillebotte.jpg/240px-CasinCaillebotte.jpg',\n",
       " 'https://upload.wikimedia.org/wikipedia/commons/thumb/8/8b/Nicolae_Grigorescu_029.jpg/189px-Nicolae_Grigorescu_029.jpg',\n",
       " 'https://upload.wikimedia.org/wikipedia/commons/thumb/0/09/Sisley-chemin-montant-Mus%C3%A9eRouen.jpg/207px-Sisley-chemin-montant-Mus%C3%A9eRouen.jpg',\n",
       " 'https://upload.wikimedia.org/wikipedia/commons/thumb/e/e0/1895Gauguin.jpg/240px-1895Gauguin.jpg',\n",
       " 'https://upload.wikimedia.org/wikipedia/commons/thumb/1/14/Pissaro-pont-mus%C3%A9eRouen.jpg/240px-Pissaro-pont-mus%C3%A9eRouen.jpg',\n",
       " 'https://upload.wikimedia.org/wikipedia/commons/thumb/d/d7/Lovis_Corinth_010.jpg/240px-Lovis_Corinth_010.jpg',\n",
       " 'https://upload.wikimedia.org/wikipedia/commons/thumb/4/44/1913_Liebermann_Selbstbildnis_mit_Pinsel_anagoria.JPG/176px-1913_Liebermann_Selbstbildnis_mit_Pinsel_anagoria.JPG',\n",
       " 'https://upload.wikimedia.org/wikipedia/commons/thumb/f/fb/The_Black_Hat.png/174px-The_Black_Hat.png',\n",
       " 'https://upload.wikimedia.org/wikipedia/commons/thumb/2/22/2017-02_Abraham_Hulk_-_Calm_waters.jpg/240px-2017-02_Abraham_Hulk_-_Calm_waters.jpg',\n",
       " 'https://upload.wikimedia.org/wikipedia/commons/thumb/0/06/2017-02_Adolphe_Alexandre_Lesrel_-_A_winning_hand.jpg/171px-2017-02_Adolphe_Alexandre_Lesrel_-_A_winning_hand.jpg',\n",
       " 'https://upload.wikimedia.org/wikipedia/commons/thumb/f/f5/2017-02_Albert_Chevallier_Tayler_-_On_the_promenade.jpg/240px-2017-02_Albert_Chevallier_Tayler_-_On_the_promenade.jpg',\n",
       " 'https://upload.wikimedia.org/wikipedia/commons/thumb/5/52/2017-02_Alberto_Pasini_-_Landscape_with_Arab_horsemen.jpg/147px-2017-02_Alberto_Pasini_-_Landscape_with_Arab_horsemen.jpg',\n",
       " 'https://upload.wikimedia.org/wikipedia/commons/thumb/f/fa/2017-02_Alexander_M._Rossi_-_Reflection.jpg/171px-2017-02_Alexander_M._Rossi_-_Reflection.jpg',\n",
       " 'https://upload.wikimedia.org/wikipedia/commons/thumb/d/d8/2017-02_Andrea_Landini_-_The_Cardinal%27s_favourite.jpg/196px-2017-02_Andrea_Landini_-_The_Cardinal%27s_favourite.jpg',\n",
       " 'https://upload.wikimedia.org/wikipedia/commons/thumb/a/a1/2017-02_Archibald_Thorburn_-_A_male_Wheatear.jpg/240px-2017-02_Archibald_Thorburn_-_A_male_Wheatear.jpg',\n",
       " 'https://upload.wikimedia.org/wikipedia/commons/thumb/1/1d/2017-02_Archibald_Thorburn_-_A_Stone_Curlew_and_a_pair_of_French_Partridge.jpg/162px-2017-02_Archibald_Thorburn_-_A_Stone_Curlew_and_a_pair_of_French_Partridge.jpg',\n",
       " 'https://upload.wikimedia.org/wikipedia/commons/thumb/6/67/2017-02_Archibald_Thorburn_-_Bartram%27s_Plover.jpg/240px-2017-02_Archibald_Thorburn_-_Bartram%27s_Plover.jpg',\n",
       " 'https://upload.wikimedia.org/wikipedia/commons/thumb/1/17/2017-02_Archibald_Thorburn_-_Pectoral_Sandpiper.jpg/240px-2017-02_Archibald_Thorburn_-_Pectoral_Sandpiper.jpg',\n",
       " 'https://upload.wikimedia.org/wikipedia/commons/thumb/3/33/2017-02_Archibald_Thorburn_-_Pheasant_in_flight.jpg/240px-2017-02_Archibald_Thorburn_-_Pheasant_in_flight.jpg',\n",
       " 'https://upload.wikimedia.org/wikipedia/commons/thumb/4/46/2017-02_Attributed_to_Edmund_Bristow_-_Pointers_in_a_landscape.jpg/240px-2017-02_Attributed_to_Edmund_Bristow_-_Pointers_in_a_landscape.jpg',\n",
       " 'https://upload.wikimedia.org/wikipedia/commons/thumb/d/d0/2017-02_Augustus_Edwin_Mulready_-_An_old_soldier%27s_story.jpg/188px-2017-02_Augustus_Edwin_Mulready_-_An_old_soldier%27s_story.jpg',\n",
       " 'https://upload.wikimedia.org/wikipedia/commons/thumb/4/40/2017-02_Bartolomeo_Giuliano_-_The_Reception_at_Villa_Carlotta%2C_Lake_Como.jpg/240px-2017-02_Bartolomeo_Giuliano_-_The_Reception_at_Villa_Carlotta%2C_Lake_Como.jpg',\n",
       " 'https://upload.wikimedia.org/wikipedia/commons/thumb/9/99/2017-02_Edward_Fox_-_The_Chain_Pier%2C_Brighton.jpg/240px-2017-02_Edward_Fox_-_The_Chain_Pier%2C_Brighton.jpg',\n",
       " 'https://upload.wikimedia.org/wikipedia/commons/thumb/a/ac/2017-02_Eugen_von_Blaas_-_The_Italian_seamstress.jpg/188px-2017-02_Eugen_von_Blaas_-_The_Italian_seamstress.jpg',\n",
       " 'https://upload.wikimedia.org/wikipedia/commons/thumb/1/1a/2017-02_Eug%C3%A8ne_Modeste_Edmond_Le_Poitevin_-_A_picnic.jpg/240px-2017-02_Eug%C3%A8ne_Modeste_Edmond_Le_Poitevin_-_A_picnic.jpg',\n",
       " 'https://upload.wikimedia.org/wikipedia/commons/thumb/2/27/2017-02_Eug%C3%A8ne_Verboeckhoven_-_Farm_animals_by_a_field_shelter.jpg/240px-2017-02_Eug%C3%A8ne_Verboeckhoven_-_Farm_animals_by_a_field_shelter.jpg',\n",
       " 'https://upload.wikimedia.org/wikipedia/commons/thumb/8/8d/2017-02_Franz_Knebel_-_A_view_of_Rome.jpg/240px-2017-02_Franz_Knebel_-_A_view_of_Rome.jpg',\n",
       " 'https://upload.wikimedia.org/wikipedia/commons/thumb/b/b2/2017-02_Franz_Richard_Unterberger_-_Canale_San_Barnaba%2C_Venise.jpg/185px-2017-02_Franz_Richard_Unterberger_-_Canale_San_Barnaba%2C_Venise.jpg',\n",
       " 'https://upload.wikimedia.org/wikipedia/commons/thumb/2/2d/2017-02_Frederick_Smith_-_A_wet_night_in_the_streets.jpg/240px-2017-02_Frederick_Smith_-_A_wet_night_in_the_streets.jpg',\n",
       " 'https://upload.wikimedia.org/wikipedia/commons/thumb/6/6f/2017-02_Frederick_Stead_-_A_picnic.jpg/240px-2017-02_Frederick_Stead_-_A_picnic.jpg',\n",
       " 'https://upload.wikimedia.org/wikipedia/commons/thumb/e/ef/2017-02_George_Bernard_O%27Neill_-_Piggy-back.jpg/240px-2017-02_George_Bernard_O%27Neill_-_Piggy-back.jpg',\n",
       " 'https://upload.wikimedia.org/wikipedia/commons/thumb/f/f9/2017-02_Georges_Washington_-_The_hunt.jpg/240px-2017-02_Georges_Washington_-_The_hunt.jpg',\n",
       " 'https://upload.wikimedia.org/wikipedia/commons/thumb/0/0e/2017-02_Giovanni_Boldini_-_Signora_con_collana_di_perle.jpg/181px-2017-02_Giovanni_Boldini_-_Signora_con_collana_di_perle.jpg',\n",
       " 'https://upload.wikimedia.org/wikipedia/commons/thumb/7/7c/2017-02_Giuseppe_Costa_-_A_tavern_scene.jpg/240px-2017-02_Giuseppe_Costa_-_A_tavern_scene.jpg',\n",
       " 'https://upload.wikimedia.org/wikipedia/commons/thumb/e/e0/2017-02_Gustave_Courbet_-_Paysage_du_Jura.jpg/240px-2017-02_Gustave_Courbet_-_Paysage_du_Jura.jpg',\n",
       " 'https://upload.wikimedia.org/wikipedia/commons/thumb/a/a1/2017-02_Gustave_L%C3%A9onhard_de_Jonghe_-_The_recital.jpg/194px-2017-02_Gustave_L%C3%A9onhard_de_Jonghe_-_The_recital.jpg',\n",
       " 'https://upload.wikimedia.org/wikipedia/commons/thumb/f/f1/2017-02_Harold_Harvey_-_Marsh_landscape.jpg/240px-2017-02_Harold_Harvey_-_Marsh_landscape.jpg',\n",
       " 'https://upload.wikimedia.org/wikipedia/commons/thumb/0/0b/2017-02_Henry_Nelson_O%27Neil_-_Esther.jpg/180px-2017-02_Henry_Nelson_O%27Neil_-_Esther.jpg',\n",
       " 'https://upload.wikimedia.org/wikipedia/commons/thumb/3/33/2017-02_Henry_Pether_-_Lambeth_Palace_from_the_Thames.jpg/240px-2017-02_Henry_Pether_-_Lambeth_Palace_from_the_Thames.jpg',\n",
       " 'https://upload.wikimedia.org/wikipedia/commons/thumb/d/d5/2017-02_Hippolyte_Camille_Delpy_-_A_tree-lined_river_landscape%2C_a_village_beyond.jpg/240px-2017-02_Hippolyte_Camille_Delpy_-_A_tree-lined_river_landscape%2C_a_village_beyond.jpg',\n",
       " 'https://upload.wikimedia.org/wikipedia/commons/thumb/4/42/2017-02_Hippolyte_Camille_Delpy_-_Evening_on_the_Loire.jpg/240px-2017-02_Hippolyte_Camille_Delpy_-_Evening_on_the_Loire.jpg',\n",
       " 'https://upload.wikimedia.org/wikipedia/commons/thumb/9/9d/2017-02_Isaac_Israels_-_Young_boy_on_a_beach.jpg/140px-2017-02_Isaac_Israels_-_Young_boy_on_a_beach.jpg',\n",
       " 'https://upload.wikimedia.org/wikipedia/commons/thumb/e/eb/2017-02_Isaac_Whitehead_-_In_Milford_Sound%2C_West_Coast%2C_New_Zealand.jpg/240px-2017-02_Isaac_Whitehead_-_In_Milford_Sound%2C_West_Coast%2C_New_Zealand.jpg',\n",
       " 'https://upload.wikimedia.org/wikipedia/commons/thumb/6/62/2017-02_Joaquin_Sorolla_y_Bastida_-_Barcas_y_pescadoras%2C_Playa_de_Valencia.jpg/240px-2017-02_Joaquin_Sorolla_y_Bastida_-_Barcas_y_pescadoras%2C_Playa_de_Valencia.jpg',\n",
       " 'https://upload.wikimedia.org/wikipedia/commons/thumb/b/be/2017-02_Johann_Wilhelm_Preyer_-_Still_life_with_champagne_and_oysters.jpg/217px-2017-02_Johann_Wilhelm_Preyer_-_Still_life_with_champagne_and_oysters.jpg',\n",
       " 'https://upload.wikimedia.org/wikipedia/commons/thumb/8/8e/2017-02_John_Frederick_Herring_-_Horses%2C_pigs_and_chickens_in_a_farmyard.jpg/240px-2017-02_John_Frederick_Herring_-_Horses%2C_pigs_and_chickens_in_a_farmyard.jpg',\n",
       " 'https://upload.wikimedia.org/wikipedia/commons/thumb/d/d5/2017-02_John_Singer_Sargent_RA_-_Charles_Russell%2C_Baron_Russell_of_Killowen.jpg/197px-2017-02_John_Singer_Sargent_RA_-_Charles_Russell%2C_Baron_Russell_of_Killowen.jpg',\n",
       " 'https://upload.wikimedia.org/wikipedia/commons/thumb/e/e9/2017-02_L%C3%A9on_Augustin_Lhermitte_-_Le_Labourage.jpg/240px-2017-02_L%C3%A9on_Augustin_Lhermitte_-_Le_Labourage.jpg',\n",
       " 'https://upload.wikimedia.org/wikipedia/commons/thumb/5/5f/2017-02_Madeline_Green_-_Miss_Brown.jpg/132px-2017-02_Madeline_Green_-_Miss_Brown.jpg',\n",
       " 'https://upload.wikimedia.org/wikipedia/commons/thumb/c/cd/2017-02_Madeline_Green_-_The_Holland_smock.jpg/195px-2017-02_Madeline_Green_-_The_Holland_smock.jpg',\n",
       " 'https://upload.wikimedia.org/wikipedia/commons/thumb/a/a4/2017-02_Mary_Hayllar_-_Breakfast.jpg/240px-2017-02_Mary_Hayllar_-_Breakfast.jpg',\n",
       " 'https://upload.wikimedia.org/wikipedia/commons/thumb/3/32/2017-02_No%C3%A9_Bordignon_-_Sharing_lamplight.jpg/240px-2017-02_No%C3%A9_Bordignon_-_Sharing_lamplight.jpg',\n",
       " 'https://upload.wikimedia.org/wikipedia/commons/thumb/0/0a/2017-02_Rom%C3%A1n_Ribera_Cirera_-_Before_the_ball.jpg/164px-2017-02_Rom%C3%A1n_Ribera_Cirera_-_Before_the_ball.jpg',\n",
       " 'https://upload.wikimedia.org/wikipedia/commons/thumb/1/18/2017-02_Santiago_Arcos_y_Megalde_-_The_Scholar.jpg/173px-2017-02_Santiago_Arcos_y_Megalde_-_The_Scholar.jpg',\n",
       " 'https://upload.wikimedia.org/wikipedia/commons/thumb/b/b5/2017-02_Sarah_Paxton_Ball_Dodson_-_Butterflies.jpg/175px-2017-02_Sarah_Paxton_Ball_Dodson_-_Butterflies.jpg',\n",
       " 'https://upload.wikimedia.org/wikipedia/commons/thumb/1/16/2017-02_Sir_Arthur_Ernest_Streeton_-_South_Kensington_Museum_under_construction.jpg/240px-2017-02_Sir_Arthur_Ernest_Streeton_-_South_Kensington_Museum_under_construction.jpg',\n",
       " 'https://upload.wikimedia.org/wikipedia/commons/thumb/7/76/2017-02_Sir_Augustus_Wall_Callcott_RA_-_Capriccio_of_Verona.jpg/240px-2017-02_Sir_Augustus_Wall_Callcott_RA_-_Capriccio_of_Verona.jpg',\n",
       " 'https://upload.wikimedia.org/wikipedia/commons/thumb/3/3a/2017-02_Sir_James_Jebusa_Shannon_-_Portrait_of_Mrs_Senior_%28n%C3%A9e_Hammersley%29_%281864-1943%29.jpg/196px-2017-02_Sir_James_Jebusa_Shannon_-_Portrait_of_Mrs_Senior_%28n%C3%A9e_Hammersley%29_%281864-1943%29.jpg',\n",
       " 'https://upload.wikimedia.org/wikipedia/commons/thumb/6/69/2017-02_Sir_John_Everett_Millais_-_The_Minuet.jpg/166px-2017-02_Sir_John_Everett_Millais_-_The_Minuet.jpg',\n",
       " 'https://upload.wikimedia.org/wikipedia/commons/thumb/2/2d/2017-02_Sir_Lawrence_Alma-Tadema_-_A_Solicitation.jpg/240px-2017-02_Sir_Lawrence_Alma-Tadema_-_A_Solicitation.jpg',\n",
       " 'https://upload.wikimedia.org/wikipedia/commons/thumb/b/bd/2017-02_The_Hon_John_Collier_-_Mrs_Dalahaye.jpg/148px-2017-02_The_Hon_John_Collier_-_Mrs_Dalahaye.jpg',\n",
       " 'https://upload.wikimedia.org/wikipedia/commons/thumb/f/f4/2017-02_Thomas_Allom_-_Queen%27s_Park%2C_Brighton.jpg/240px-2017-02_Thomas_Allom_-_Queen%27s_Park%2C_Brighton.jpg',\n",
       " 'https://upload.wikimedia.org/wikipedia/commons/thumb/4/48/2017-02_Thomas_Sidney_Cooper_-_Cattle_and_sheep_resting.jpg/240px-2017-02_Thomas_Sidney_Cooper_-_Cattle_and_sheep_resting.jpg',\n",
       " 'https://upload.wikimedia.org/wikipedia/commons/thumb/f/fa/2017-02_Vittorio_Matteo_Corcos_-_Due_giovani_ragazze.jpg/178px-2017-02_Vittorio_Matteo_Corcos_-_Due_giovani_ragazze.jpg',\n",
       " 'https://upload.wikimedia.org/wikipedia/commons/thumb/d/d6/2017-02_Walter_Frederick_Osborne_RHA_-_When_the_boats_come_in.jpg/240px-2017-02_Walter_Frederick_Osborne_RHA_-_When_the_boats_come_in.jpg',\n",
       " 'https://upload.wikimedia.org/wikipedia/commons/thumb/e/ef/2017-02_William_Degouve_de_Nuncques_-_The_greenhouse.jpg/240px-2017-02_William_Degouve_de_Nuncques_-_The_greenhouse.jpg',\n",
       " 'https://upload.wikimedia.org/wikipedia/commons/thumb/1/1e/A_Bedouin_Arab.jpg/168px-A_Bedouin_Arab.jpg',\n",
       " 'https://upload.wikimedia.org/wikipedia/commons/thumb/0/03/AE_Backus.jpg/240px-AE_Backus.jpg',\n",
       " 'https://upload.wikimedia.org/wikipedia/commons/thumb/8/8d/Afternoon_Tea_by_Richard_Emil_Miller.jpg/192px-Afternoon_Tea_by_Richard_Emil_Miller.jpg',\n",
       " 'https://upload.wikimedia.org/wikipedia/commons/thumb/f/fd/Ambroise_Vollard_avec_un_foulard_rouge.jpg/183px-Ambroise_Vollard_avec_un_foulard_rouge.jpg',\n",
       " 'https://upload.wikimedia.org/wikipedia/commons/thumb/a/ac/An_image_of_the_painting_from_an_obituary_in_Le_Figaro_%281926%29..png/240px-An_image_of_the_painting_from_an_obituary_in_Le_Figaro_%281926%29..png',\n",
       " 'https://upload.wikimedia.org/wikipedia/commons/thumb/9/94/Armand_Guillaumin_-_Soleil_couchant_%C3%A0_Ivry_-_1869.jpg/240px-Armand_Guillaumin_-_Soleil_couchant_%C3%A0_Ivry_-_1869.jpg',\n",
       " 'https://upload.wikimedia.org/wikipedia/commons/thumb/0/01/Armando_Spadini_001.jpg/240px-Armando_Spadini_001.jpg',\n",
       " 'https://upload.wikimedia.org/wikipedia/commons/thumb/3/3d/Auguste_Michel_Nobillet_Landschaft_mit_junger_Frau.jpg/240px-Auguste_Michel_Nobillet_Landschaft_mit_junger_Frau.jpg',\n",
       " 'https://upload.wikimedia.org/wikipedia/commons/thumb/3/39/Autoportrait_par_Georges-%C3%89mile_Lebacq_%281914%29.jpg/185px-Autoportrait_par_Georges-%C3%89mile_Lebacq_%281914%29.jpg',\n",
       " 'https://upload.wikimedia.org/wikipedia/commons/thumb/2/23/Barcos.jpg/240px-Barcos.jpg',\n",
       " 'https://upload.wikimedia.org/wikipedia/commons/thumb/0/04/Barnett_Clipping.jpg/223px-Barnett_Clipping.jpg',\n",
       " 'https://upload.wikimedia.org/wikipedia/commons/thumb/4/44/Barnett_forestparklandscape2.jpg/240px-Barnett_forestparklandscape2.jpg',\n",
       " 'https://upload.wikimedia.org/wikipedia/commons/thumb/f/f9/Barnett_winter_painting.jpg/240px-Barnett_winter_painting.jpg',\n",
       " 'https://upload.wikimedia.org/wikipedia/commons/thumb/f/fc/Barnett_winter_river.jpg/240px-Barnett_winter_river.jpg',\n",
       " 'https://upload.wikimedia.org/wikipedia/commons/thumb/5/53/Bateaux_de_peche_rentrant_%C3%A0_Berck_Lepic.jpg/240px-Bateaux_de_peche_rentrant_%C3%A0_Berck_Lepic.jpg',\n",
       " 'https://upload.wikimedia.org/wikipedia/commons/thumb/8/86/Bath_Road%2C_London_by_Camille_Pissarro.jpg/240px-Bath_Road%2C_London_by_Camille_Pissarro.jpg',\n",
       " 'https://upload.wikimedia.org/wikipedia/commons/thumb/c/c8/Berthe_Morisot_-_Psych%C3%A9.JPG/195px-Berthe_Morisot_-_Psych%C3%A9.JPG',\n",
       " 'https://upload.wikimedia.org/wikipedia/commons/thumb/7/75/Berthe_Morisot_005.jpg/240px-Berthe_Morisot_005.jpg',\n",
       " 'https://upload.wikimedia.org/wikipedia/commons/thumb/e/ed/Bobo1.gif/240px-Bobo1.gif',\n",
       " 'https://upload.wikimedia.org/wikipedia/commons/thumb/7/76/Bobo2.gif/188px-Bobo2.gif',\n",
       " 'https://upload.wikimedia.org/wikipedia/commons/thumb/b/b5/Bracquemond.sevres.jpg/240px-Bracquemond.sevres.jpg',\n",
       " 'https://upload.wikimedia.org/wikipedia/commons/thumb/9/97/Cagnes_sur_mer-1910.jpg/240px-Cagnes_sur_mer-1910.jpg',\n",
       " 'https://upload.wikimedia.org/wikipedia/commons/thumb/4/46/Cagnes-1910.JPG/240px-Cagnes-1910.JPG',\n",
       " 'https://upload.wikimedia.org/wikipedia/commons/thumb/f/f5/Cagnes-Georges-Emile-Lebacq.JPG/240px-Cagnes-Georges-Emile-Lebacq.JPG',\n",
       " 'https://upload.wikimedia.org/wikipedia/commons/thumb/5/55/Gustave_Caillebotte_-_The_Yellow_Fields_at_Gennevilliers.JPG/240px-Gustave_Caillebotte_-_The_Yellow_Fields_at_Gennevilliers.JPG',\n",
       " 'https://upload.wikimedia.org/wikipedia/commons/thumb/d/db/Carl_Fredrik_Hill_001.jpg/240px-Carl_Fredrik_Hill_001.jpg',\n",
       " 'https://upload.wikimedia.org/wikipedia/commons/thumb/6/60/Carl_Fredrik_Hill_002.jpg/240px-Carl_Fredrik_Hill_002.jpg',\n",
       " 'https://upload.wikimedia.org/wikipedia/commons/thumb/f/ff/Carl_Fredrik_Hill_003.jpg/240px-Carl_Fredrik_Hill_003.jpg',\n",
       " 'https://upload.wikimedia.org/wikipedia/commons/thumb/d/de/Carl_Oesterley_Hl._Geist_Hospital_im_Winter_mit_dem_Blick_auf_St._Jacobi_und_dem_Pastorat%2C.png/240px-Carl_Oesterley_Hl._Geist_Hospital_im_Winter_mit_dem_Blick_auf_St._Jacobi_und_dem_Pastorat%2C.png',\n",
       " 'https://upload.wikimedia.org/wikipedia/commons/thumb/5/51/Carl_Oesterley_jun_Geh%C3%B6ft.jpg/240px-Carl_Oesterley_jun_Geh%C3%B6ft.jpg',\n",
       " 'https://upload.wikimedia.org/wikipedia/commons/thumb/e/ec/Charles_Conder_-_Under_a_southern_sun_%28Timber_splitter%27s_camp%29_-_Google_Art_Project.jpg/120px-Charles_Conder_-_Under_a_southern_sun_%28Timber_splitter%27s_camp%29_-_Google_Art_Project.jpg',\n",
       " 'https://upload.wikimedia.org/wikipedia/commons/thumb/c/c5/Chemin_en_Dordogne.JPG/240px-Chemin_en_Dordogne.JPG',\n",
       " 'https://upload.wikimedia.org/wikipedia/commons/thumb/6/6d/Chemin-Carennac.JPG/240px-Chemin-Carennac.JPG',\n",
       " 'https://upload.wikimedia.org/wikipedia/commons/thumb/3/3d/Child_with_red_hair_reading.jpeg/174px-Child_with_red_hair_reading.jpeg',\n",
       " 'https://upload.wikimedia.org/wikipedia/commons/thumb/9/93/Childe_Hassam_-_Building_a_Schooner%2C_Provincetown.JPG/240px-Childe_Hassam_-_Building_a_Schooner%2C_Provincetown.JPG',\n",
       " 'https://upload.wikimedia.org/wikipedia/commons/thumb/a/a1/Childe_Hassam_-_Champs_Elys%C3%A9es%2C_Paris.JPG/240px-Childe_Hassam_-_Champs_Elys%C3%A9es%2C_Paris.JPG',\n",
       " 'https://upload.wikimedia.org/wikipedia/commons/thumb/c/c9/Childe_Hassam_-_La_Val-de-Gr%C3%A2ce%2C_Spring_Morning.JPG/240px-Childe_Hassam_-_La_Val-de-Gr%C3%A2ce%2C_Spring_Morning.JPG',\n",
       " 'https://upload.wikimedia.org/wikipedia/commons/thumb/0/00/Christian_Krohg_-_Braiding_her_Hair_-_Google_Art_Project.jpg/210px-Christian_Krohg_-_Braiding_her_Hair_-_Google_Art_Project.jpg',\n",
       " 'https://upload.wikimedia.org/wikipedia/commons/thumb/6/69/Christian_Krohg_001.jpg/204px-Christian_Krohg_001.jpg',\n",
       " 'https://upload.wikimedia.org/wikipedia/commons/thumb/2/2f/Close_of_a_Winter_Day.jpg/240px-Close_of_a_Winter_Day.jpg',\n",
       " 'https://upload.wikimedia.org/wikipedia/commons/thumb/a/a3/Colin_Campbell_Cooper_-_Columbus_Circle.JPG/240px-Colin_Campbell_Cooper_-_Columbus_Circle.JPG',\n",
       " 'https://upload.wikimedia.org/wikipedia/commons/thumb/0/0e/Colin_Campbell_Cooper_-_Flatiron_Building.JPG/116px-Colin_Campbell_Cooper_-_Flatiron_Building.JPG',\n",
       " 'https://upload.wikimedia.org/wikipedia/commons/thumb/c/c9/Construction_of_the_River_des_Peres_Channel_in_Forest_Park.jpg/240px-Construction_of_the_River_des_Peres_Channel_in_Forest_Park.jpg',\n",
       " 'https://upload.wikimedia.org/wikipedia/commons/thumb/e/e4/Lovis_Corinth_-_Frau_mit_Rosenhut_%28Alte_Nationalgalerie_Berlin%29.jpg/198px-Lovis_Corinth_-_Frau_mit_Rosenhut_%28Alte_Nationalgalerie_Berlin%29.jpg',\n",
       " 'https://upload.wikimedia.org/wikipedia/commons/thumb/5/50/Lovis_Corinth_005.jpg/189px-Lovis_Corinth_005.jpg',\n",
       " 'https://upload.wikimedia.org/wikipedia/commons/thumb/a/a0/Lovis_Corinth_003.jpg/182px-Lovis_Corinth_003.jpg',\n",
       " 'https://upload.wikimedia.org/wikipedia/commons/thumb/7/7a/Corridors_of_San_Juan_Capistrano_by_Benjamin_Chambers_Brown.jpg/240px-Corridors_of_San_Juan_Capistrano_by_Benjamin_Chambers_Brown.jpg',\n",
       " 'https://upload.wikimedia.org/wikipedia/commons/thumb/e/ef/CrosdeCagnes.JPG/240px-CrosdeCagnes.JPG',\n",
       " 'https://upload.wikimedia.org/wikipedia/commons/thumb/8/89/DeCamp_Joseph_Blue_Bird.jpg/240px-DeCamp_Joseph_Blue_Bird.jpg',\n",
       " 'https://upload.wikimedia.org/wikipedia/commons/thumb/f/fd/DeCamp_Joseph_The_Blue_Cup.jpg/198px-DeCamp_Joseph_The_Blue_Cup.jpg',\n",
       " 'https://upload.wikimedia.org/wikipedia/commons/thumb/1/17/DeCamp_Joseph_The_Fur_Jacket_detail_of_hat.jpg/240px-DeCamp_Joseph_The_Fur_Jacket_detail_of_hat.jpg',\n",
       " 'https://upload.wikimedia.org/wikipedia/commons/thumb/2/23/DeCamp_Joseph_The_Seamstress.jpg/175px-DeCamp_Joseph_The_Seamstress.jpg',\n",
       " 'https://upload.wikimedia.org/wikipedia/commons/thumb/e/e5/DeCamp_Joseph_The_Steward.jpg/177px-DeCamp_Joseph_The_Steward.jpg',\n",
       " 'https://upload.wikimedia.org/wikipedia/commons/thumb/4/49/DeCamp_Joseph_The_Window_Blind.jpg/208px-DeCamp_Joseph_The_Window_Blind.jpg',\n",
       " 'https://upload.wikimedia.org/wikipedia/commons/thumb/f/f4/Joseph_DeCamp_La_Penserosa.jpg/217px-Joseph_DeCamp_La_Penserosa.jpg',\n",
       " 'https://upload.wikimedia.org/wikipedia/commons/thumb/e/e9/Degas.etoile.jpg/175px-Degas.etoile.jpg',\n",
       " 'https://upload.wikimedia.org/wikipedia/commons/thumb/3/35/Der_gemuesegartenwytsmanjuliette2.JPG/240px-Der_gemuesegartenwytsmanjuliette2.JPG',\n",
       " 'https://upload.wikimedia.org/wikipedia/commons/thumb/0/0e/Desnudo_de_mujer_-_Joaqu%C3%ADn_Sorolla_-_1902.jpg/240px-Desnudo_de_mujer_-_Joaqu%C3%ADn_Sorolla_-_1902.jpg',\n",
       " 'https://upload.wikimedia.org/wikipedia/commons/thumb/d/d4/Dunes_%28Flandre%29.JPG/240px-Dunes_%28Flandre%29.JPG',\n",
       " 'https://upload.wikimedia.org/wikipedia/commons/thumb/3/37/Edgar_Germain_Hilaire_Degas_018.jpg/167px-Edgar_Germain_Hilaire_Degas_018.jpg',\n",
       " 'https://upload.wikimedia.org/wikipedia/commons/thumb/7/7f/Edgar_Germain_Hilaire_Degas_025.jpg/133px-Edgar_Germain_Hilaire_Degas_025.jpg',\n",
       " 'https://upload.wikimedia.org/wikipedia/commons/thumb/d/df/Edgar_Germain_Hilaire_Degas_031.jpg/240px-Edgar_Germain_Hilaire_Degas_031.jpg',\n",
       " 'https://upload.wikimedia.org/wikipedia/commons/thumb/0/0a/Edgar_Germain_Hilaire_Degas_033.jpg/240px-Edgar_Germain_Hilaire_Degas_033.jpg',\n",
       " 'https://upload.wikimedia.org/wikipedia/commons/thumb/7/76/Edgar_Germain_Hilaire_Degas_034.jpg/240px-Edgar_Germain_Hilaire_Degas_034.jpg',\n",
       " 'https://upload.wikimedia.org/wikipedia/commons/thumb/a/a9/Edgar_Germain_Hilaire_Degas_036.jpg/240px-Edgar_Germain_Hilaire_Degas_036.jpg',\n",
       " 'https://upload.wikimedia.org/wikipedia/commons/thumb/7/72/Edgar_Germain_Hilaire_Degas_040.jpg/240px-Edgar_Germain_Hilaire_Degas_040.jpg',\n",
       " 'https://upload.wikimedia.org/wikipedia/commons/thumb/4/4d/Edgar_Germain_Hilaire_Degas_045.jpg/240px-Edgar_Germain_Hilaire_Degas_045.jpg',\n",
       " 'https://upload.wikimedia.org/wikipedia/commons/thumb/b/b6/Edgar_Germain_Hilaire_Degas_066.jpg/183px-Edgar_Germain_Hilaire_Degas_066.jpg',\n",
       " 'https://upload.wikimedia.org/wikipedia/commons/thumb/2/28/Edgar_Germain_Hilaire_Degas_071.jpg/210px-Edgar_Germain_Hilaire_Degas_071.jpg',\n",
       " 'https://upload.wikimedia.org/wikipedia/commons/thumb/9/97/Edgar_Germain_Hilaire_Degas_084.jpg/240px-Edgar_Germain_Hilaire_Degas_084.jpg',\n",
       " 'https://upload.wikimedia.org/wikipedia/commons/thumb/6/67/El_Velorio_by_Francisco_Oller.jpg/240px-El_Velorio_by_Francisco_Oller.jpg',\n",
       " 'https://upload.wikimedia.org/wikipedia/commons/thumb/7/78/Elenora_Muse_in_a_Blue_Dress_by_Benjamin_Chambers_Brown.jpg/150px-Elenora_Muse_in_a_Blue_Dress_by_Benjamin_Chambers_Brown.jpg',\n",
       " 'https://upload.wikimedia.org/wikipedia/commons/thumb/1/1a/Eug%C3%A8ne_Boudin_001.jpg/240px-Eug%C3%A8ne_Boudin_001.jpg',\n",
       " 'https://upload.wikimedia.org/wikipedia/commons/thumb/5/5a/Eug%C3%A8ne_Boudin_002.jpg/240px-Eug%C3%A8ne_Boudin_002.jpg',\n",
       " 'https://upload.wikimedia.org/wikipedia/commons/thumb/b/be/Eug%C3%A8ne_Boudin_003.jpg/240px-Eug%C3%A8ne_Boudin_003.jpg',\n",
       " 'https://upload.wikimedia.org/wikipedia/commons/thumb/5/50/Eug%C3%A8ne_Boudin_004.jpg/240px-Eug%C3%A8ne_Boudin_004.jpg',\n",
       " 'https://upload.wikimedia.org/wikipedia/commons/thumb/0/06/Eug%C3%A8ne_Boudin_005.jpg/240px-Eug%C3%A8ne_Boudin_005.jpg',\n",
       " 'https://upload.wikimedia.org/wikipedia/commons/thumb/6/64/Eug%C3%A8ne_Boudin_006.jpg/240px-Eug%C3%A8ne_Boudin_006.jpg',\n",
       " 'https://upload.wikimedia.org/wikipedia/commons/thumb/a/ae/Eug%C3%A8ne_Boudin_007.jpg/240px-Eug%C3%A8ne_Boudin_007.jpg',\n",
       " 'https://upload.wikimedia.org/wikipedia/commons/thumb/9/91/Eug%C3%A8ne_Boudin_008.jpg/240px-Eug%C3%A8ne_Boudin_008.jpg',\n",
       " 'https://upload.wikimedia.org/wikipedia/commons/thumb/b/bc/Eug%C3%A8ne_Boudin_009.jpg/240px-Eug%C3%A8ne_Boudin_009.jpg',\n",
       " 'https://upload.wikimedia.org/wikipedia/commons/thumb/8/84/Eug%C3%A8ne_Boudin_011.jpg/240px-Eug%C3%A8ne_Boudin_011.jpg',\n",
       " 'https://upload.wikimedia.org/wikipedia/commons/thumb/1/13/Eug%C3%A8ne_Boudin_012.jpg/240px-Eug%C3%A8ne_Boudin_012.jpg',\n",
       " 'https://upload.wikimedia.org/wikipedia/commons/thumb/c/c0/Eug%C3%A8ne_Boudin_Cotenord.jpg/240px-Eug%C3%A8ne_Boudin_Cotenord.jpg',\n",
       " 'https://upload.wikimedia.org/wikipedia/commons/thumb/f/fc/Femme_avec_chapeau_%28recto%29_-_Paul_de_Castro.JPG/196px-Femme_avec_chapeau_%28recto%29_-_Paul_de_Castro.JPG',\n",
       " 'https://upload.wikimedia.org/wikipedia/commons/thumb/7/71/Frieseke.jpg/240px-Frieseke.jpg',\n",
       " 'https://upload.wikimedia.org/wikipedia/commons/thumb/9/91/F%C3%A9lix_Ziem_-_Stamboul.jpg/240px-F%C3%A9lix_Ziem_-_Stamboul.jpg',\n",
       " 'https://upload.wikimedia.org/wikipedia/commons/thumb/b/b2/Gathering_Clouds_by_Benjamin_Chambers_Brown.jpg/240px-Gathering_Clouds_by_Benjamin_Chambers_Brown.jpg',\n",
       " 'https://upload.wikimedia.org/wikipedia/commons/thumb/3/3e/Georg_Hendrik_Breitner_001.jpg/240px-Georg_Hendrik_Breitner_001.jpg',\n",
       " 'https://upload.wikimedia.org/wikipedia/commons/thumb/2/2d/Gerard_Byrne_%27Time_is_The_Enemy%27_96x142cm_oil_on_canvas.jpg/150px-Gerard_Byrne_%27Time_is_The_Enemy%27_96x142cm_oil_on_canvas.jpg',\n",
       " 'https://upload.wikimedia.org/wikipedia/commons/thumb/7/75/Gerard_Byrne_Boys_without_Toys_November_2014_charcoal_on_canvas.jpg/240px-Gerard_Byrne_Boys_without_Toys_November_2014_charcoal_on_canvas.jpg',\n",
       " 'https://upload.wikimedia.org/wikipedia/commons/thumb/a/a6/Gerard_Byrne_It%27s_not_you%2C_it%27s_me_December_2015_oil_on_canvas.jpg/163px-Gerard_Byrne_It%27s_not_you%2C_it%27s_me_December_2015_oil_on_canvas.jpg',\n",
       " 'https://upload.wikimedia.org/wikipedia/commons/thumb/2/21/Gerard_Byrne_Shoulder_Bacon_December_2015_oil_on_canvas.jpg/169px-Gerard_Byrne_Shoulder_Bacon_December_2015_oil_on_canvas.jpg',\n",
       " 'https://upload.wikimedia.org/wikipedia/commons/thumb/9/99/Gerard_Byrne_Sorrento_Terrace_Dalkey_Ireland_July_2014_oil_on_canvas.jpg/238px-Gerard_Byrne_Sorrento_Terrace_Dalkey_Ireland_July_2014_oil_on_canvas.jpg',\n",
       " 'https://upload.wikimedia.org/wikipedia/commons/thumb/7/7a/Gerard_Byrne_Summer_Breeze_Richmond_London_United_Kingdom_July_2015_charcoal_on_canvas.jpg/240px-Gerard_Byrne_Summer_Breeze_Richmond_London_United_Kingdom_July_2015_charcoal_on_canvas.jpg',\n",
       " 'https://upload.wikimedia.org/wikipedia/commons/thumb/b/b2/Gerard_Byrne_Sunset_on_Clifton_Terrace_Brighton_United_Kingdom_September_2015_oil_on_canvas.jpg/240px-Gerard_Byrne_Sunset_on_Clifton_Terrace_Brighton_United_Kingdom_September_2015_oil_on_canvas.jpg',\n",
       " 'https://upload.wikimedia.org/wikipedia/commons/thumb/d/dc/Girl_with_Pitcher_Nicolae_Grigorescu.jpg/131px-Girl_with_Pitcher_Nicolae_Grigorescu.jpg',\n",
       " 'https://upload.wikimedia.org/wikipedia/commons/thumb/0/0c/Giuseppe_de_Nittis_001.jpg/177px-Giuseppe_de_Nittis_001.jpg',\n",
       " 'https://upload.wikimedia.org/wikipedia/commons/thumb/7/7e/Grand_Canyon_painting_by_Benjamin_Chambers_Brown.jpg/168px-Grand_Canyon_painting_by_Benjamin_Chambers_Brown.jpg',\n",
       " 'https://upload.wikimedia.org/wikipedia/commons/thumb/2/2a/Nicolae_Grigorescu_-_Andreescu_la_Barbizon_2.jpg/176px-Nicolae_Grigorescu_-_Andreescu_la_Barbizon_2.jpg',\n",
       " 'https://upload.wikimedia.org/wikipedia/commons/thumb/9/93/Nicolae_Grigorescu_-_Andreescu_la_Barbizon.JPG/180px-Nicolae_Grigorescu_-_Andreescu_la_Barbizon.JPG',\n",
       " 'https://upload.wikimedia.org/wikipedia/commons/thumb/1/13/Gustave_Caillebotte_001.jpg/197px-Gustave_Caillebotte_001.jpg',\n",
       " 'https://upload.wikimedia.org/wikipedia/commons/thumb/1/11/Hagemeister2.jpg/240px-Hagemeister2.jpg',\n",
       " 'https://upload.wikimedia.org/wikipedia/commons/thumb/5/5f/Henry_Somm_-_%27L%27%C3%89l%C3%A9gante_Japonaise%27%2C_watercolor_over_graphite%2C_c._1880s%2C.jpg/154px-Henry_Somm_-_%27L%27%C3%89l%C3%A9gante_Japonaise%27%2C_watercolor_over_graphite%2C_c._1880s%2C.jpg',\n",
       " 'https://upload.wikimedia.org/wikipedia/commons/thumb/7/70/Hofmann_Karl_3.jpg/240px-Hofmann_Karl_3.jpg',\n",
       " 'https://upload.wikimedia.org/wikipedia/commons/thumb/2/26/Hubert_Krains_-_Berne_-1907.JPG/218px-Hubert_Krains_-_Berne_-1907.JPG',\n",
       " 'https://upload.wikimedia.org/wikipedia/commons/thumb/3/3b/Ignacio_Pinazo_-_Petite_fille_lisant.jpg/240px-Ignacio_Pinazo_-_Petite_fille_lisant.jpg',\n",
       " 'https://upload.wikimedia.org/wikipedia/commons/thumb/3/39/Inondation_-_La_Seine_%C3%A0_Vaux_le_P%C3%A9nil_-_Seine_et_Marne_1924.jpg/240px-Inondation_-_La_Seine_%C3%A0_Vaux_le_P%C3%A9nil_-_Seine_et_Marne_1924.jpg',\n",
       " 'https://upload.wikimedia.org/wikipedia/commons/thumb/4/44/Jean-Baptiste_Armand_Guillaumin_001.jpg/195px-Jean-Baptiste_Armand_Guillaumin_001.jpg',\n",
       " 'https://upload.wikimedia.org/wikipedia/commons/thumb/a/a6/Jean-Baptiste_Armand_Guillaumin_002.jpg/240px-Jean-Baptiste_Armand_Guillaumin_002.jpg',\n",
       " 'https://upload.wikimedia.org/wikipedia/commons/thumb/2/26/Jen%C3%B6_pozsonyi_Sonnenuntergang.jpg/240px-Jen%C3%B6_pozsonyi_Sonnenuntergang.jpg',\n",
       " 'https://upload.wikimedia.org/wikipedia/commons/thumb/b/bc/Jeune_Fille_au_Manteau_Vert_by_Berthe_Morisot.jpg/162px-Jeune_Fille_au_Manteau_Vert_by_Berthe_Morisot.jpg',\n",
       " 'https://upload.wikimedia.org/wikipedia/commons/thumb/5/59/Joaquin_Sorolla_Bastida_-_Equestrian_Competition_in_Ondarreta.jpg/183px-Joaquin_Sorolla_Bastida_-_Equestrian_Competition_in_Ondarreta.jpg',\n",
       " 'https://upload.wikimedia.org/wikipedia/commons/thumb/4/41/Joaqu%C3%ADn_Sorolla_005.jpg/240px-Joaqu%C3%ADn_Sorolla_005.jpg',\n",
       " 'https://upload.wikimedia.org/wikipedia/commons/thumb/1/1b/Johan_Barthold_Jongkind_001.jpg/240px-Johan_Barthold_Jongkind_001.jpg',\n",
       " 'https://upload.wikimedia.org/wikipedia/commons/thumb/a/a6/John_H._Twachtman_001.jpg/240px-John_H._Twachtman_001.jpg',\n",
       " 'https://upload.wikimedia.org/wikipedia/commons/thumb/6/6b/John_Singer_Sargent_-_autoportrait_1906.jpg/174px-John_Singer_Sargent_-_autoportrait_1906.jpg',\n",
       " 'https://upload.wikimedia.org/wikipedia/commons/thumb/6/6d/John_Singer_Sargent_002.jpg/193px-John_Singer_Sargent_002.jpg',\n",
       " 'https://upload.wikimedia.org/wikipedia/commons/thumb/d/da/Josef_Israels_001.jpg/160px-Josef_Israels_001.jpg',\n",
       " 'https://upload.wikimedia.org/wikipedia/commons/thumb/3/30/Joyous_Garden_by_Benjamin_Chambers_Brown.jpg/240px-Joyous_Garden_by_Benjamin_Chambers_Brown.jpg',\n",
       " 'https://upload.wikimedia.org/wikipedia/commons/thumb/5/55/Jozef_Israels_Boerenmaaltijd_in_Delden.jpg/240px-Jozef_Israels_Boerenmaaltijd_in_Delden.jpg',\n",
       " 'https://upload.wikimedia.org/wikipedia/commons/thumb/f/fc/Jules_Bastien-Lepage_The_Blind_Beggar.jpg/213px-Jules_Bastien-Lepage_The_Blind_Beggar.jpg',\n",
       " 'https://upload.wikimedia.org/wikipedia/commons/thumb/e/ec/Julian_Alden_Weir_001.jpg/240px-Julian_Alden_Weir_001.jpg',\n",
       " 'https://upload.wikimedia.org/wikipedia/commons/thumb/f/f0/Karl_Edvard_Diriks_-_H%C3%B8stdag.jpg/240px-Karl_Edvard_Diriks_-_H%C3%B8stdag.jpg',\n",
       " 'https://upload.wikimedia.org/wikipedia/commons/thumb/8/8b/Kola%C5%BC.jpg/240px-Kola%C5%BC.jpg',\n",
       " 'https://upload.wikimedia.org/wikipedia/commons/thumb/3/34/L%27Arbre%2C_Balagny_%28Oise%29.JPG/240px-L%27Arbre%2C_Balagny_%28Oise%29.JPG',\n",
       " 'https://upload.wikimedia.org/wikipedia/commons/thumb/1/1f/La_Maison_Bombard%C3%A9e_%28Front_de_Flandre_1917%29.jpg/240px-La_Maison_Bombard%C3%A9e_%28Front_de_Flandre_1917%29.jpg',\n",
       " 'https://upload.wikimedia.org/wikipedia/commons/thumb/a/a5/La_Mare-1926.jpg/240px-La_Mare-1926.jpg',\n",
       " 'https://upload.wikimedia.org/wikipedia/commons/thumb/2/22/Jules_Bastien-Lepage_001.jpg/240px-Jules_Bastien-Lepage_001.jpg',\n",
       " 'https://upload.wikimedia.org/wikipedia/commons/thumb/b/bc/La_Toussaint_Jules_Bastien-Lepage.jpg/240px-La_Toussaint_Jules_Bastien-Lepage.jpg',\n",
       " 'https://upload.wikimedia.org/wikipedia/commons/thumb/5/56/Le_Front_de_l%27Yser_%28Flandre%29_par_Georges-%C3%89mile_Lebacq.jpg/240px-Le_Front_de_l%27Yser_%28Flandre%29_par_Georges-%C3%89mile_Lebacq.jpg',\n",
       " 'https://upload.wikimedia.org/wikipedia/commons/thumb/1/12/Le_Sidaner-moonlight.jpeg/240px-Le_Sidaner-moonlight.jpeg',\n",
       " 'https://upload.wikimedia.org/wikipedia/commons/thumb/9/97/Lemon_and_a_half_on_leaf.JPG/240px-Lemon_and_a_half_on_leaf.JPG',\n",
       " 'https://upload.wikimedia.org/wikipedia/commons/thumb/0/0a/Lilla_Cabot_Perry_-_A_Stream_Beneath_Poplars_-_c._1890-1900.jpg/240px-Lilla_Cabot_Perry_-_A_Stream_Beneath_Poplars_-_c._1890-1900.jpg',\n",
       " '',\n",
       " '/static/images/wikimedia-button-2x.png',\n",
       " '/static/images/poweredby_mediawiki_176x62.png']"
      ]
     },
     "execution_count": 62,
     "metadata": {},
     "output_type": "execute_result"
    }
   ],
   "source": [
    "url_list"
   ]
  },
  {
   "cell_type": "code",
   "execution_count": 63,
   "metadata": {
    "collapsed": true
   },
   "outputs": [],
   "source": [
    "r2  = requests.get('https://commons.wikimedia.org/w/index.php?title=Category:Impressionist_paintings&filefrom=Lilla+Cabot+Perry%2C+1889+-+La+Petite+Ang%C3%A8le+II.jpg#mw-category-media')\n",
    "data = r2.text\n",
    "soup2 = BeautifulSoup(data, \"html.parser\")"
   ]
  },
  {
   "cell_type": "code",
   "execution_count": 64,
   "metadata": {
    "collapsed": true
   },
   "outputs": [],
   "source": [
    "imgBank2 = soup2.find_all(\"img\")"
   ]
  },
  {
   "cell_type": "code",
   "execution_count": 65,
   "metadata": {
    "collapsed": true
   },
   "outputs": [],
   "source": [
    "for i in range(len(imgBank2)):\n",
    "    st = str(imgBank2[i])\n",
    "    url_list.append(find_between( st, \"1.5x, \", ' 2x' ))"
   ]
  },
  {
   "cell_type": "code",
   "execution_count": 66,
   "metadata": {
    "collapsed": false
   },
   "outputs": [
    {
     "data": {
      "text/plain": [
       "377"
      ]
     },
     "execution_count": 66,
     "metadata": {},
     "output_type": "execute_result"
    }
   ],
   "source": [
    "len(url_list)"
   ]
  },
  {
   "cell_type": "markdown",
   "metadata": {},
   "source": [
    "# end of scrape"
   ]
  },
  {
   "cell_type": "code",
   "execution_count": 68,
   "metadata": {
    "collapsed": false
   },
   "outputs": [
    {
     "ename": "ImportError",
     "evalue": "No module named keras.preprocessing.image",
     "output_type": "error",
     "traceback": [
      "\u001b[0;31m---------------------------------------------------------------------------\u001b[0m",
      "\u001b[0;31mImportError\u001b[0m                               Traceback (most recent call last)",
      "\u001b[0;32m<ipython-input-68-fe6240451925>\u001b[0m in \u001b[0;36m<module>\u001b[0;34m()\u001b[0m\n\u001b[0;32m----> 1\u001b[0;31m \u001b[0;32mfrom\u001b[0m \u001b[0mkeras\u001b[0m\u001b[0;34m.\u001b[0m\u001b[0mpreprocessing\u001b[0m\u001b[0;34m.\u001b[0m\u001b[0mimage\u001b[0m \u001b[0;32mimport\u001b[0m \u001b[0mImageDataGenerator\u001b[0m\u001b[0;34m\u001b[0m\u001b[0m\n\u001b[0m",
      "\u001b[0;31mImportError\u001b[0m: No module named keras.preprocessing.image"
     ]
    }
   ],
   "source": [
    "from keras.preprocessing.image import ImageDataGenerator\n"
   ]
  },
  {
   "cell_type": "code",
   "execution_count": null,
   "metadata": {
    "collapsed": true
   },
   "outputs": [],
   "source": []
  }
 ],
 "metadata": {
  "kernelspec": {
   "display_name": "specialization",
   "language": "python",
   "name": "specialization"
  },
  "language_info": {
   "codemirror_mode": {
    "name": "ipython",
    "version": 2
   },
   "file_extension": ".py",
   "mimetype": "text/x-python",
   "name": "python",
   "nbconvert_exporter": "python",
   "pygments_lexer": "ipython2",
   "version": "2.7.13"
  }
 },
 "nbformat": 4,
 "nbformat_minor": 1
}
