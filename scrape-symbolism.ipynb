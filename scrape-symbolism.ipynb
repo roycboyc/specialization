{
 "cells": [
  {
   "cell_type": "code",
   "execution_count": 1,
   "metadata": {
    "collapsed": true
   },
   "outputs": [],
   "source": [
    "#scrapes Symbolist Paintings on Wikimedia, stores all images as jpeg links in url_list at bottom\n",
    "\n",
    "import cv2\n",
    "from bs4 import BeautifulSoup\n",
    "import requests"
   ]
  },
  {
   "cell_type": "code",
   "execution_count": 2,
   "metadata": {
    "collapsed": false
   },
   "outputs": [],
   "source": [
    "r  = requests.get(\"https://commons.wikimedia.org/wiki/Category:Symbolist_paintings\")\n",
    "\n",
    "data = r.text\n",
    "\n",
    "soup = BeautifulSoup(data, \"html.parser\")"
   ]
  },
  {
   "cell_type": "code",
   "execution_count": 3,
   "metadata": {
    "collapsed": false
   },
   "outputs": [],
   "source": [
    "imgBank = soup.find_all(\"img\")"
   ]
  },
  {
   "cell_type": "code",
   "execution_count": 4,
   "metadata": {
    "collapsed": false
   },
   "outputs": [],
   "source": [
    "st = str(imgBank[0])"
   ]
  },
  {
   "cell_type": "code",
   "execution_count": 5,
   "metadata": {
    "collapsed": false
   },
   "outputs": [
    {
     "name": "stdout",
     "output_type": "stream",
     "text": [
      "https://upload.wikimedia.org/wikipedia/commons/thumb/7/76/A_New_Generation_1892_Jan_Toorop.jpg/240px-A_New_Generation_1892_Jan_Toorop.jpg\n"
     ]
    }
   ],
   "source": [
    "def find_between( s, first, last ):\n",
    "    try:\n",
    "        start = s.index( first ) + len( first )\n",
    "        end = s.index( last, start )\n",
    "        return s[start:end]\n",
    "    except ValueError:\n",
    "        return \"\"\n",
    "\n",
    "def find_between_r( s, first, last ):\n",
    "    try:\n",
    "        start = s.rindex( first ) + len( first )\n",
    "        end = s.rindex( last, start )\n",
    "        return s[start:end]\n",
    "    except ValueError:\n",
    "        return \"\"\n",
    "\n",
    "\n",
    "print find_between( st, \"1.5x, \", ' 2x' )\n"
   ]
  },
  {
   "cell_type": "code",
   "execution_count": 6,
   "metadata": {
    "collapsed": false
   },
   "outputs": [],
   "source": [
    "url_list = []\n",
    "for i in range(len(imgBank)):\n",
    "    st = str(imgBank[i])\n",
    "    url_list.append(find_between( st, \"1.5x, \", ' 2x' ))"
   ]
  },
  {
   "cell_type": "code",
   "execution_count": 7,
   "metadata": {
    "collapsed": false
   },
   "outputs": [
    {
     "data": {
      "text/plain": [
       "198"
      ]
     },
     "execution_count": 7,
     "metadata": {},
     "output_type": "execute_result"
    }
   ],
   "source": [
    "len(url_list)"
   ]
  },
  {
   "cell_type": "code",
   "execution_count": 8,
   "metadata": {
    "collapsed": false
   },
   "outputs": [
    {
     "data": {
      "text/plain": [
       "['https://upload.wikimedia.org/wikipedia/commons/thumb/7/76/A_New_Generation_1892_Jan_Toorop.jpg/240px-A_New_Generation_1892_Jan_Toorop.jpg',\n",
       " 'https://upload.wikimedia.org/wikipedia/commons/thumb/4/4c/Albert_Pinkham_Ryder_002.jpg/240px-Albert_Pinkham_Ryder_002.jpg',\n",
       " 'https://upload.wikimedia.org/wikipedia/commons/thumb/2/22/Albert_Pinkham_Ryder_003.jpg/240px-Albert_Pinkham_Ryder_003.jpg',\n",
       " 'https://upload.wikimedia.org/wikipedia/commons/thumb/7/74/Albin_Egger-Lienz_001.jpg/240px-Albin_Egger-Lienz_001.jpg',\n",
       " 'https://upload.wikimedia.org/wikipedia/commons/thumb/5/54/Albin_Egger-Lienz_002.jpg/240px-Albin_Egger-Lienz_002.jpg',\n",
       " 'https://upload.wikimedia.org/wikipedia/commons/thumb/8/8e/Albin_Egger-Lienz_004.jpg/240px-Albin_Egger-Lienz_004.jpg',\n",
       " 'https://upload.wikimedia.org/wikipedia/commons/thumb/d/d1/Albin_Egger-Lienz_005.jpg/240px-Albin_Egger-Lienz_005.jpg',\n",
       " 'https://upload.wikimedia.org/wikipedia/commons/thumb/d/d4/Antonio_Ambrogio_Alciati_Spasmo_1907.jpg/240px-Antonio_Ambrogio_Alciati_Spasmo_1907.jpg',\n",
       " 'https://upload.wikimedia.org/wikipedia/commons/thumb/5/54/Arnold_B%C3%B6cklin_001.jpg/240px-Arnold_B%C3%B6cklin_001.jpg',\n",
       " 'https://upload.wikimedia.org/wikipedia/commons/thumb/2/25/Arnold_B%C3%B6cklin_008.jpg/240px-Arnold_B%C3%B6cklin_008.jpg',\n",
       " 'https://upload.wikimedia.org/wikipedia/commons/thumb/9/90/Arnold_B%C3%B6cklin_005.jpg/240px-Arnold_B%C3%B6cklin_005.jpg',\n",
       " 'https://upload.wikimedia.org/wikipedia/commons/thumb/d/d3/Arnold_B%C3%B6cklin_007.jpg/240px-Arnold_B%C3%B6cklin_007.jpg',\n",
       " 'https://upload.wikimedia.org/wikipedia/commons/thumb/0/03/B%C3%B6cklin%2C_Arnold_-_Angelika%2C_von_einem_Drachen_bewacht-_1873.jpg/190px-B%C3%B6cklin%2C_Arnold_-_Angelika%2C_von_einem_Drachen_bewacht-_1873.jpg',\n",
       " 'https://upload.wikimedia.org/wikipedia/commons/thumb/1/15/Arnold_B%C3%B6cklin_003.jpg/191px-Arnold_B%C3%B6cklin_003.jpg',\n",
       " 'https://upload.wikimedia.org/wikipedia/commons/thumb/d/de/Arnold_B%C3%B6cklin_-_Die_Toteninsel_I_%28Basel%2C_Kunstmuseum%29.jpg/240px-Arnold_B%C3%B6cklin_-_Die_Toteninsel_I_%28Basel%2C_Kunstmuseum%29.jpg',\n",
       " 'https://upload.wikimedia.org/wikipedia/commons/thumb/a/af/Arnold_B%C3%B6cklin_-_Die_Toteninsel_II_%28Metropolitan_Museum_of_Art%29.jpg/240px-Arnold_B%C3%B6cklin_-_Die_Toteninsel_II_%28Metropolitan_Museum_of_Art%29.jpg',\n",
       " 'https://upload.wikimedia.org/wikipedia/commons/thumb/d/d8/Arnold_B%C3%B6cklin_004.jpg/240px-Arnold_B%C3%B6cklin_004.jpg',\n",
       " 'https://upload.wikimedia.org/wikipedia/commons/thumb/3/3f/Arnold_B%C3%B6cklin_Il_bosco_sacro.jpg/240px-Arnold_B%C3%B6cklin_Il_bosco_sacro.jpg',\n",
       " 'https://upload.wikimedia.org/wikipedia/commons/thumb/5/50/A._B%C3%B6cklin_%28Alte_Nationalgalerie%2C_Berlin%29_%286094012361%29.jpg/240px-A._B%C3%B6cklin_%28Alte_Nationalgalerie%2C_Berlin%29_%286094012361%29.jpg',\n",
       " 'https://upload.wikimedia.org/wikipedia/commons/thumb/0/0b/Arnold_Boecklin_-_Island_of_the_Dead%2C_Third_Version.JPG/240px-Arnold_Boecklin_-_Island_of_the_Dead%2C_Third_Version.JPG',\n",
       " 'https://upload.wikimedia.org/wikipedia/commons/thumb/a/a8/Arnold_B%C3%B6cklin_-_Die_Toteninsel_-_Version_4_sw.jpg/240px-Arnold_B%C3%B6cklin_-_Die_Toteninsel_-_Version_4_sw.jpg',\n",
       " 'https://upload.wikimedia.org/wikipedia/commons/thumb/7/73/Arnold_B%C3%B6cklin_-_Heiliger_Hain.jpg/240px-Arnold_B%C3%B6cklin_-_Heiliger_Hain.jpg',\n",
       " 'https://upload.wikimedia.org/wikipedia/commons/thumb/6/60/Arnold_B%C3%B6cklin_002.jpg/181px-Arnold_B%C3%B6cklin_002.jpg',\n",
       " 'https://upload.wikimedia.org/wikipedia/commons/thumb/d/d6/Carl_Spitzweg_-_Die_Lekt%C3%BCre.jpg/197px-Carl_Spitzweg_-_Die_Lekt%C3%BCre.jpg',\n",
       " 'https://upload.wikimedia.org/wikipedia/commons/thumb/d/d1/De_La_Touche%2C_L%27Aube.jpg/240px-De_La_Touche%2C_L%27Aube.jpg',\n",
       " 'https://upload.wikimedia.org/wikipedia/commons/thumb/5/5b/1901_Denis_Fr%C3%BChst%C3%BCck_anagoria.JPG/240px-1901_Denis_Fr%C3%BChst%C3%BCck_anagoria.JPG',\n",
       " 'https://upload.wikimedia.org/wikipedia/commons/thumb/9/90/Douzechansons.jpg/240px-Douzechansons.jpg',\n",
       " 'https://upload.wikimedia.org/wikipedia/commons/thumb/4/48/Charles-Marie_Dulac_-_An_autumn_landscape_with_resting_cattle_%281895%29.jpg/182px-Charles-Marie_Dulac_-_An_autumn_landscape_with_resting_cattle_%281895%29.jpg',\n",
       " 'https://upload.wikimedia.org/wikipedia/commons/thumb/c/c3/Charles-Marie_Dulac_-_Paysage_%281896%29.jpg/237px-Charles-Marie_Dulac_-_Paysage_%281896%29.jpg',\n",
       " 'https://upload.wikimedia.org/wikipedia/commons/thumb/c/c6/Charles-Marie_Dulac_-_L%27eau_et_le_feu_%281894%29.jpg/240px-Charles-Marie_Dulac_-_L%27eau_et_le_feu_%281894%29.jpg',\n",
       " 'https://upload.wikimedia.org/wikipedia/commons/thumb/6/64/Retrospection%2C_by_Thomas_Eakins%2C_YUAG.jpg/168px-Retrospection%2C_by_Thomas_Eakins%2C_YUAG.jpg',\n",
       " 'https://upload.wikimedia.org/wikipedia/commons/thumb/b/bb/Ernest_Lincker-La_mort_de_la_m%C3%A8re.jpg/240px-Ernest_Lincker-La_mort_de_la_m%C3%A8re.jpg',\n",
       " 'https://upload.wikimedia.org/wikipedia/commons/thumb/8/80/Ernst_Josephson_001.jpg/188px-Ernst_Josephson_001.jpg',\n",
       " 'https://upload.wikimedia.org/wikipedia/commons/thumb/5/55/Eug%C3%A8ne_Carri%C3%A8re_001.jpg/240px-Eug%C3%A8ne_Carri%C3%A8re_001.jpg',\n",
       " 'https://upload.wikimedia.org/wikipedia/commons/thumb/e/e9/Ferdinand_Hodler_-_O_Lenhador%2C_1910.jpg/213px-Ferdinand_Hodler_-_O_Lenhador%2C_1910.jpg',\n",
       " 'https://upload.wikimedia.org/wikipedia/commons/thumb/d/de/Ferdinand_Hodler_001.jpg/240px-Ferdinand_Hodler_001.jpg',\n",
       " 'https://upload.wikimedia.org/wikipedia/commons/thumb/2/21/Ferdinand_Hodler_003.jpg/240px-Ferdinand_Hodler_003.jpg',\n",
       " 'https://upload.wikimedia.org/wikipedia/commons/thumb/f/f1/Ferdinand_Hodler_004.jpg/240px-Ferdinand_Hodler_004.jpg',\n",
       " 'https://upload.wikimedia.org/wikipedia/commons/thumb/e/e4/Ferdinand_Hodler_005.jpg/240px-Ferdinand_Hodler_005.jpg',\n",
       " 'https://upload.wikimedia.org/wikipedia/commons/thumb/2/24/Ferdinand_Hodler_006.jpg/102px-Ferdinand_Hodler_006.jpg',\n",
       " 'https://upload.wikimedia.org/wikipedia/commons/thumb/5/54/Ferdinand_Hodler_007.jpg/240px-Ferdinand_Hodler_007.jpg',\n",
       " 'https://upload.wikimedia.org/wikipedia/commons/thumb/3/3d/Ferdinand_Hodler_Die_Lebensm%C3%BCden.jpg/240px-Ferdinand_Hodler_Die_Lebensm%C3%BCden.jpg',\n",
       " 'https://upload.wikimedia.org/wikipedia/commons/thumb/e/ed/Fernand_Khnopff_-_Caresses_-_Google_Art_Project.jpg/240px-Fernand_Khnopff_-_Caresses_-_Google_Art_Project.jpg',\n",
       " 'https://upload.wikimedia.org/wikipedia/commons/thumb/4/45/Fernand_Khnopff_001.jpg/240px-Fernand_Khnopff_001.jpg',\n",
       " 'https://upload.wikimedia.org/wikipedia/commons/thumb/2/21/Fernand_Khnopff_002.jpg/240px-Fernand_Khnopff_002.jpg',\n",
       " 'https://upload.wikimedia.org/wikipedia/commons/thumb/b/b6/Fernand_Khnopff_003.jpg/139px-Fernand_Khnopff_003.jpg',\n",
       " 'https://upload.wikimedia.org/wikipedia/commons/thumb/a/a3/Franz_Von_Stuck_-_Dancers.jpg/240px-Franz_Von_Stuck_-_Dancers.jpg',\n",
       " 'https://upload.wikimedia.org/wikipedia/commons/thumb/0/0e/Franz_von_Stuck_-_Sphinx.jpg/240px-Franz_von_Stuck_-_Sphinx.jpg',\n",
       " 'https://upload.wikimedia.org/wikipedia/commons/thumb/f/f8/Franz_von_Stuck_005.jpg/234px-Franz_von_Stuck_005.jpg',\n",
       " 'https://upload.wikimedia.org/wikipedia/commons/thumb/a/aa/Franz_von_Stuck_006.jpg/93px-Franz_von_Stuck_006.jpg',\n",
       " 'https://upload.wikimedia.org/wikipedia/commons/thumb/a/a5/Franz_von_Stuck_007.jpg/238px-Franz_von_Stuck_007.jpg',\n",
       " 'https://upload.wikimedia.org/wikipedia/commons/thumb/a/a9/Franz_von_Stuck_008.jpg/216px-Franz_von_Stuck_008.jpg',\n",
       " 'https://upload.wikimedia.org/wikipedia/commons/thumb/3/32/Franz_von_Stuck_009.jpg/231px-Franz_von_Stuck_009.jpg',\n",
       " 'https://upload.wikimedia.org/wikipedia/commons/thumb/6/6e/Franz_von_Stuck_011.jpg/238px-Franz_von_Stuck_011.jpg',\n",
       " 'https://upload.wikimedia.org/wikipedia/commons/thumb/8/84/Franz_von_Stuck_012.jpg/240px-Franz_von_Stuck_012.jpg',\n",
       " 'https://upload.wikimedia.org/wikipedia/commons/thumb/5/56/Franz_von_Stuck_014.jpg/209px-Franz_von_Stuck_014.jpg',\n",
       " 'https://upload.wikimedia.org/wikipedia/commons/thumb/9/9e/Franz_von_Stuck_015.jpg/240px-Franz_von_Stuck_015.jpg',\n",
       " 'https://upload.wikimedia.org/wikipedia/commons/thumb/8/83/Franz_von_Stuck_Salome_Dt01.jpg/110px-Franz_von_Stuck_Salome_Dt01.jpg',\n",
       " 'https://upload.wikimedia.org/wikipedia/commons/thumb/b/be/Franz_von_Stuck_Sphinx.jpg/240px-Franz_von_Stuck_Sphinx.jpg',\n",
       " 'https://upload.wikimedia.org/wikipedia/commons/thumb/b/b5/Franz-Von-Stuck-adam-and-Eve.jpg/240px-Franz-Von-Stuck-adam-and-Eve.jpg',\n",
       " 'https://upload.wikimedia.org/wikipedia/commons/thumb/b/b6/Gaetano_previati_-_paisagem_01.jpg/240px-Gaetano_previati_-_paisagem_01.jpg',\n",
       " 'https://upload.wikimedia.org/wikipedia/commons/thumb/2/26/George_Frederic_Watts%2C_Fata_Morgana.jpg/120px-George_Frederic_Watts%2C_Fata_Morgana.jpg',\n",
       " 'https://upload.wikimedia.org/wikipedia/commons/thumb/c/c4/George_Frederick_Watts%2C_1860-62%2C_Sir_Galahad%2C_oil_on_canvas%2C_191.8_x_107_cm%2C_Harvard_Art_Museums%2C_Fogg_Museum.jpg/130px-George_Frederick_Watts%2C_1860-62%2C_Sir_Galahad%2C_oil_on_canvas%2C_191.8_x_107_cm%2C_Harvard_Art_Museums%2C_Fogg_Museum.jpg',\n",
       " 'https://upload.wikimedia.org/wikipedia/commons/thumb/1/17/Giovanni_Segantini_001.jpg/240px-Giovanni_Segantini_001.jpg',\n",
       " 'https://upload.wikimedia.org/wikipedia/commons/thumb/6/69/Giovanni_Segantini_002.jpg/240px-Giovanni_Segantini_002.jpg',\n",
       " 'https://upload.wikimedia.org/wikipedia/commons/thumb/3/39/Giovanni_Segantini_003.jpg/240px-Giovanni_Segantini_003.jpg',\n",
       " 'https://upload.wikimedia.org/wikipedia/commons/thumb/0/01/Giovanni_Segantini_005.jpg/146px-Giovanni_Segantini_005.jpg',\n",
       " 'https://upload.wikimedia.org/wikipedia/commons/thumb/1/1e/Giovanni_Segantini_006.jpg/240px-Giovanni_Segantini_006.jpg',\n",
       " 'https://upload.wikimedia.org/wikipedia/commons/thumb/e/ec/Good_Samaritan_%28Watts%29.jpg/175px-Good_Samaritan_%28Watts%29.jpg',\n",
       " 'https://upload.wikimedia.org/wikipedia/commons/thumb/c/c2/GrottoGroux.jpg/240px-GrottoGroux.jpg',\n",
       " 'https://upload.wikimedia.org/wikipedia/commons/thumb/2/2d/Guirand_de_Scevola-la_princesse.jpg/193px-Guirand_de_Scevola-la_princesse.jpg',\n",
       " 'https://upload.wikimedia.org/wikipedia/commons/thumb/9/9f/Gustave_Moreau_001.jpg/172px-Gustave_Moreau_001.jpg',\n",
       " 'https://upload.wikimedia.org/wikipedia/commons/thumb/6/68/Gustave_Moreau_001a.jpg/184px-Gustave_Moreau_001a.jpg',\n",
       " 'https://upload.wikimedia.org/wikipedia/commons/thumb/e/ee/Gustave_Moreau_002.jpg/148px-Gustave_Moreau_002.jpg',\n",
       " 'https://upload.wikimedia.org/wikipedia/commons/thumb/b/b8/Gustave_Moreau_002a.jpg/160px-Gustave_Moreau_002a.jpg',\n",
       " 'https://upload.wikimedia.org/wikipedia/commons/thumb/6/61/Gustave_Moreau_003.jpg/205px-Gustave_Moreau_003.jpg',\n",
       " 'https://upload.wikimedia.org/wikipedia/commons/thumb/c/c0/Gustave_Moreau_004a.jpg/163px-Gustave_Moreau_004a.jpg',\n",
       " 'https://upload.wikimedia.org/wikipedia/commons/thumb/6/6e/Gustave_Moreau_006.jpg/142px-Gustave_Moreau_006.jpg',\n",
       " 'https://upload.wikimedia.org/wikipedia/commons/thumb/e/e0/Gustave_Moreau_007.jpg/152px-Gustave_Moreau_007.jpg',\n",
       " 'https://upload.wikimedia.org/wikipedia/commons/thumb/7/72/Gustave_Moreau_008.jpg/239px-Gustave_Moreau_008.jpg',\n",
       " 'https://upload.wikimedia.org/wikipedia/commons/thumb/b/b8/Gustave_Moreau_Jupiter_et_Europe_MG-M.jpg/175px-Gustave_Moreau_Jupiter_et_Europe_MG-M.jpg',\n",
       " 'https://upload.wikimedia.org/wikipedia/commons/thumb/6/6d/Gustave_Moreau_Jupiter_et_Semele_MG-M.jpg/193px-Gustave_Moreau_Jupiter_et_Semele_MG-M.jpg',\n",
       " 'https://upload.wikimedia.org/wikipedia/commons/thumb/0/0d/Gustave_Moreau_Les_Licornes.jpg/194px-Gustave_Moreau_Les_Licornes.jpg',\n",
       " 'https://upload.wikimedia.org/wikipedia/commons/thumb/6/64/Gustave_Moreau_Prometheus.jpg/142px-Gustave_Moreau_Prometheus.jpg',\n",
       " 'https://upload.wikimedia.org/wikipedia/commons/thumb/0/07/1901_Hammersh%C3%B8i_Interieur_Strandgade_30_anagoria.JPG/185px-1901_Hammersh%C3%B8i_Interieur_Strandgade_30_anagoria.JPG',\n",
       " 'https://upload.wikimedia.org/wikipedia/commons/thumb/b/bf/Hans_Baluschek_Der_Tod.jpg/240px-Hans_Baluschek_Der_Tod.jpg',\n",
       " 'https://upload.wikimedia.org/wikipedia/commons/thumb/e/e0/Hans_Thoma_001.jpg/171px-Hans_Thoma_001.jpg',\n",
       " 'https://upload.wikimedia.org/wikipedia/commons/thumb/1/1e/Hodler_Holzf%C3%A4ller.jpg/191px-Hodler_Holzf%C3%A4ller.jpg',\n",
       " 'https://upload.wikimedia.org/wikipedia/commons/thumb/6/68/Hodler%2C_Ferdinand_-_Le_Jour_III_-_c._1910.jpg/240px-Hodler%2C_Ferdinand_-_Le_Jour_III_-_c._1910.jpg',\n",
       " 'https://upload.wikimedia.org/wikipedia/commons/thumb/a/a2/Ferdinand_Hodler_-_Berthe_Jacques.jpg/196px-Ferdinand_Hodler_-_Berthe_Jacques.jpg',\n",
       " 'https://upload.wikimedia.org/wikipedia/commons/thumb/f/fc/Ferdinand_Hodler_-_General_Ulrich_Wille_%28Kunstmuseum_Bern%29.jpg/191px-Ferdinand_Hodler_-_General_Ulrich_Wille_%28Kunstmuseum_Bern%29.jpg',\n",
       " 'https://upload.wikimedia.org/wikipedia/commons/thumb/e/ef/Ferdinand_Hodler_009.jpg/200px-Ferdinand_Hodler_009.jpg',\n",
       " 'https://upload.wikimedia.org/wikipedia/commons/thumb/0/03/Ann%C3%A4herung%2C_Margret_Hofheinz-D%C3%B6ring%2C_1989_%28WV-Nr.7863%29.jpg/240px-Ann%C3%A4herung%2C_Margret_Hofheinz-D%C3%B6ring%2C_1989_%28WV-Nr.7863%29.jpg',\n",
       " 'https://upload.wikimedia.org/wikipedia/commons/thumb/e/e1/Ikarus-Painting.jpg/168px-Ikarus-Painting.jpg',\n",
       " 'https://upload.wikimedia.org/wikipedia/commons/thumb/6/68/Stuck_Susanna_2.jpg/78px-Stuck_Susanna_2.jpg',\n",
       " 'https://upload.wikimedia.org/wikipedia/commons/thumb/d/d3/Jan_Toorop_001.jpg/240px-Jan_Toorop_001.jpg',\n",
       " 'https://upload.wikimedia.org/wikipedia/commons/thumb/3/33/Jan_Toorop_002.jpg/240px-Jan_Toorop_002.jpg',\n",
       " 'https://upload.wikimedia.org/wikipedia/commons/thumb/6/6a/Jan_Toorop_De_Sphinx_28102016_1.jpg/240px-Jan_Toorop_De_Sphinx_28102016_1.jpg',\n",
       " 'https://upload.wikimedia.org/wikipedia/commons/thumb/4/4b/Jan_Toorop_De_Sphinx_28102016_2.jpg/240px-Jan_Toorop_De_Sphinx_28102016_2.jpg',\n",
       " 'https://upload.wikimedia.org/wikipedia/commons/thumb/2/2e/Jan_Toorop_O_Grave_1892_28102016_1.jpg/240px-Jan_Toorop_O_Grave_1892_28102016_1.jpg',\n",
       " 'https://upload.wikimedia.org/wikipedia/commons/thumb/c/c1/Jan_Toorop_O_Grave_1892_28102016_2.jpg/240px-Jan_Toorop_O_Grave_1892_28102016_2.jpg',\n",
       " 'https://upload.wikimedia.org/wikipedia/commons/thumb/f/f1/Jan_Toorop_Organ_1891_28102016.jpg/240px-Jan_Toorop_Organ_1891_28102016.jpg',\n",
       " 'https://upload.wikimedia.org/wikipedia/commons/thumb/5/5f/Jan_Toorop_Prowlers_1892_28102016.jpg/240px-Jan_Toorop_Prowlers_1892_28102016.jpg',\n",
       " 'https://upload.wikimedia.org/wikipedia/commons/thumb/4/48/Jan_Toorop_The_three_brides_1892_28102016_1.jpg/240px-Jan_Toorop_The_three_brides_1892_28102016_1.jpg',\n",
       " 'https://upload.wikimedia.org/wikipedia/commons/thumb/2/2f/Jan_Toorop_The_three_brides_1892_28102016_2.jpg/240px-Jan_Toorop_The_three_brides_1892_28102016_2.jpg',\n",
       " 'https://upload.wikimedia.org/wikipedia/commons/thumb/b/bd/Jan_Toorop_The_three_brides_1892_28102016_3.jpg/240px-Jan_Toorop_The_three_brides_1892_28102016_3.jpg',\n",
       " 'https://upload.wikimedia.org/wikipedia/commons/thumb/e/e4/Jan_Toorop_The_Young_Generation_1892_28102016.jpg/240px-Jan_Toorop_The_Young_Generation_1892_28102016.jpg',\n",
       " 'https://upload.wikimedia.org/wikipedia/commons/thumb/9/94/Jeune_Fille_De_Face_Guirand_de_Scevola.jpg/240px-Jeune_Fille_De_Face_Guirand_de_Scevola.jpg',\n",
       " 'https://upload.wikimedia.org/wikipedia/commons/thumb/f/fd/Jupiter_and_Semele_by_Gustave_Moreau.jpg/133px-Jupiter_and_Semele_by_Gustave_Moreau.jpg',\n",
       " 'https://upload.wikimedia.org/wikipedia/commons/thumb/d/da/Karl_Wilhelm_Diefenbach_Frage_an_die_Sterne_1898.jpg/117px-Karl_Wilhelm_Diefenbach_Frage_an_die_Sterne_1898.jpg',\n",
       " 'https://upload.wikimedia.org/wikipedia/commons/thumb/b/b3/Le_reve-Puvis_de_Chavannes-Orsay-cadre.jpg/240px-Le_reve-Puvis_de_Chavannes-Orsay-cadre.jpg',\n",
       " 'https://upload.wikimedia.org/wikipedia/commons/thumb/6/60/Le_Reve-Puvis_de_Chavannes-Orsay.jpg/240px-Le_Reve-Puvis_de_Chavannes-Orsay.jpg',\n",
       " 'https://upload.wikimedia.org/wikipedia/commons/thumb/2/25/Leandro_Oroz_Antonio_Machado_y_su_musa_1915.jpg/186px-Leandro_Oroz_Antonio_Machado_y_su_musa_1915.jpg',\n",
       " 'https://upload.wikimedia.org/wikipedia/commons/thumb/f/fd/Loch-Ness-Monster.jpg/240px-Loch-Ness-Monster.jpg',\n",
       " 'https://upload.wikimedia.org/wikipedia/commons/thumb/9/9e/LucienVictor_HeadofaLady.jpg/193px-LucienVictor_HeadofaLady.jpg',\n",
       " 'https://upload.wikimedia.org/wikipedia/commons/thumb/5/59/LucienVictor_TheKingsDaughter.jpg/203px-LucienVictor_TheKingsDaughter.jpg',\n",
       " 'https://upload.wikimedia.org/wikipedia/commons/thumb/4/4d/Madonna_in_Tulpenland_%28Bij_het_kruis%29.jpg/135px-Madonna_in_Tulpenland_%28Bij_het_kruis%29.jpg',\n",
       " 'https://upload.wikimedia.org/wikipedia/commons/thumb/d/d2/Manolo_Yanes_Pothos_Series_Icarus.jpg/240px-Manolo_Yanes_Pothos_Series_Icarus.jpg',\n",
       " 'https://upload.wikimedia.org/wikipedia/commons/thumb/3/33/Marie_Luplau_Symbolistisk_Gadeparti_1898.jpg/200px-Marie_Luplau_Symbolistisk_Gadeparti_1898.jpg',\n",
       " 'https://upload.wikimedia.org/wikipedia/commons/thumb/6/65/Max_Frey_-_Das_Wunder_1931.JPG/210px-Max_Frey_-_Das_Wunder_1931.JPG',\n",
       " 'https://upload.wikimedia.org/wikipedia/commons/thumb/a/a2/Max_Frey_-_Mit_der_Dummheit_k%C3%A4mpfen_Menschen_nicht_vergebens%2C_1927.jpg/239px-Max_Frey_-_Mit_der_Dummheit_k%C3%A4mpfen_Menschen_nicht_vergebens%2C_1927.jpg',\n",
       " 'https://upload.wikimedia.org/wikipedia/commons/thumb/d/db/Max_Frey_-_Roter_Vogel_1931.JPG/231px-Max_Frey_-_Roter_Vogel_1931.JPG',\n",
       " 'https://upload.wikimedia.org/wikipedia/commons/thumb/f/fc/Max_Frey_-_Tier_und_Mensch_1931.JPG/223px-Max_Frey_-_Tier_und_Mensch_1931.JPG',\n",
       " 'https://upload.wikimedia.org/wikipedia/commons/thumb/1/18/Max_Frey_-_Wanderv%C3%B6gel._ca._1931.JPG/240px-Max_Frey_-_Wanderv%C3%B6gel._ca._1931.JPG',\n",
       " 'https://upload.wikimedia.org/wikipedia/commons/thumb/f/fe/Max_Frey_Fliegende_J%C3%A4gerinnen.xcf/238px-Max_Frey_Fliegende_J%C3%A4gerinnen.xcf.png',\n",
       " 'https://upload.wikimedia.org/wikipedia/commons/thumb/a/ae/Max_Klinger_001.jpg/240px-Max_Klinger_001.jpg',\n",
       " 'https://upload.wikimedia.org/wikipedia/commons/thumb/8/8d/Max_Klinger_003.jpg/159px-Max_Klinger_003.jpg',\n",
       " 'https://upload.wikimedia.org/wikipedia/commons/thumb/d/dd/Max_Klinger_004.jpg/240px-Max_Klinger_004.jpg',\n",
       " 'https://upload.wikimedia.org/wikipedia/commons/thumb/9/95/GM-00-Lite.jpg/188px-GM-00-Lite.jpg',\n",
       " 'https://upload.wikimedia.org/wikipedia/commons/thumb/0/06/Moreau_-_Prometheus.jpg/142px-Moreau_-_Prometheus.jpg',\n",
       " 'https://upload.wikimedia.org/wikipedia/commons/thumb/f/f1/Moreau_Peri_1865.jpg/172px-Moreau_Peri_1865.jpg',\n",
       " 'https://upload.wikimedia.org/wikipedia/commons/thumb/a/ac/Moreau%2C_Gustave_-_Jupiter_und_Semele_-_1896.jpg/183px-Moreau%2C_Gustave_-_Jupiter_und_Semele_-_1896.jpg',\n",
       " 'https://upload.wikimedia.org/wikipedia/commons/thumb/0/01/Odilon_Redon_001.jpg/187px-Odilon_Redon_001.jpg',\n",
       " 'https://upload.wikimedia.org/wikipedia/commons/thumb/4/4b/Odilon_Redon_002.jpg/187px-Odilon_Redon_002.jpg',\n",
       " 'https://upload.wikimedia.org/wikipedia/commons/thumb/b/b3/Odilon_Redon_003.jpg/240px-Odilon_Redon_003.jpg',\n",
       " 'https://upload.wikimedia.org/wikipedia/commons/thumb/0/0e/Odilon_Redon%2C_Le_Silence.jpg/234px-Odilon_Redon%2C_Le_Silence.jpg',\n",
       " 'https://upload.wikimedia.org/wikipedia/commons/thumb/1/12/Pierre-C%C3%A9cile_Puvis_de_Chavannes_001.jpg/240px-Pierre-C%C3%A9cile_Puvis_de_Chavannes_001.jpg',\n",
       " 'https://upload.wikimedia.org/wikipedia/commons/thumb/0/05/Pierre-C%C3%A9cile_Puvis_de_Chavannes_002.jpg/172px-Pierre-C%C3%A9cile_Puvis_de_Chavannes_002.jpg',\n",
       " 'https://upload.wikimedia.org/wikipedia/commons/thumb/f/f0/Pierre-C%C3%A9cile_Puvis_de_Chavannes_003.jpg/240px-Pierre-C%C3%A9cile_Puvis_de_Chavannes_003.jpg',\n",
       " 'https://upload.wikimedia.org/wikipedia/commons/thumb/7/75/Pierre-C%C3%A9cile_Puvis_de_Chavannes_004.jpg/240px-Pierre-C%C3%A9cile_Puvis_de_Chavannes_004.jpg',\n",
       " 'https://upload.wikimedia.org/wikipedia/commons/thumb/b/bf/Pierre-C%C3%A9cile_Puvis_de_Chavannes_005.jpg/162px-Pierre-C%C3%A9cile_Puvis_de_Chavannes_005.jpg',\n",
       " 'https://upload.wikimedia.org/wikipedia/commons/thumb/6/62/Pierre-C%C3%A9cile_Puvis_de_Chavannes_006.jpg/183px-Pierre-C%C3%A9cile_Puvis_de_Chavannes_006.jpg',\n",
       " 'https://upload.wikimedia.org/wikipedia/commons/thumb/7/75/Pierre-C%C3%A9cile_Puvis_de_Chavannes_007.jpg/240px-Pierre-C%C3%A9cile_Puvis_de_Chavannes_007.jpg',\n",
       " 'https://upload.wikimedia.org/wikipedia/commons/thumb/e/e4/Pierre-C%C3%A9cile_Puvis_de_Chavannes_008.jpg/240px-Pierre-C%C3%A9cile_Puvis_de_Chavannes_008.jpg',\n",
       " 'https://upload.wikimedia.org/wikipedia/commons/thumb/9/9b/Pierre-C%C3%A9cile_Puvis_de_Chavannes_009.jpg/161px-Pierre-C%C3%A9cile_Puvis_de_Chavannes_009.jpg',\n",
       " 'https://upload.wikimedia.org/wikipedia/commons/thumb/e/e9/Pierre-C%C3%A9cile_Puvis_de_Chavannes_010.jpg/223px-Pierre-C%C3%A9cile_Puvis_de_Chavannes_010.jpg',\n",
       " 'https://upload.wikimedia.org/wikipedia/commons/thumb/2/28/Portrait_of_Aung_San_Suu_Kyi.JPG/173px-Portrait_of_Aung_San_Suu_Kyi.JPG',\n",
       " 'https://upload.wikimedia.org/wikipedia/commons/thumb/9/9f/Portrait_of_the_poet_Alexander_Block.jpg/240px-Portrait_of_the_poet_Alexander_Block.jpg',\n",
       " 'https://upload.wikimedia.org/wikipedia/commons/thumb/1/15/Puvis_de_Chavannes-Mary_Magdalene_in_the_Desert%2C1869.jpg/181px-Puvis_de_Chavannes-Mary_Magdalene_in_the_Desert%2C1869.jpg',\n",
       " 'https://upload.wikimedia.org/wikipedia/commons/thumb/a/a9/Rosetti_sibyl.jpg/198px-Rosetti_sibyl.jpg',\n",
       " 'https://upload.wikimedia.org/wikipedia/commons/thumb/8/81/Albert_Pinkham_Ryder_-_Siegfried_und_die_Rheint%C3%B6chter.jpg/240px-Albert_Pinkham_Ryder_-_Siegfried_und_die_Rheint%C3%B6chter.jpg',\n",
       " 'https://upload.wikimedia.org/wikipedia/commons/thumb/a/a9/Albert_Pinkham_Ryder_004.jpg/240px-Albert_Pinkham_Ryder_004.jpg',\n",
       " 'https://upload.wikimedia.org/wikipedia/commons/thumb/0/01/Sandreuter_Himmelspforte.jpg/240px-Sandreuter_Himmelspforte.jpg',\n",
       " 'https://upload.wikimedia.org/wikipedia/commons/thumb/9/93/Segantini_Die_Strafe_der_Woll%C3%BCstigen.jpg/240px-Segantini_Die_Strafe_der_Woll%C3%BCstigen.jpg',\n",
       " 'https://upload.wikimedia.org/wikipedia/commons/thumb/a/a0/The_Evil_Mothers_by_Giovanni_Segantini.jpg/240px-The_Evil_Mothers_by_Giovanni_Segantini.jpg',\n",
       " 'https://upload.wikimedia.org/wikipedia/commons/thumb/f/f2/Giovanni_Segantini_-_Le_cattive_Madri_%281896-97%29.jpg/240px-Giovanni_Segantini_-_Le_cattive_Madri_%281896-97%29.jpg',\n",
       " 'https://upload.wikimedia.org/wikipedia/commons/thumb/b/b1/Giovanni_Segantini_-_A_Mermaid_being_mobbed_by_Seagulls.jpg/154px-Giovanni_Segantini_-_A_Mermaid_being_mobbed_by_Seagulls.jpg',\n",
       " 'https://upload.wikimedia.org/wikipedia/commons/thumb/c/ce/Shulammite_maiden_Moreau.jpg/123px-Shulammite_maiden_Moreau.jpg',\n",
       " 'https://upload.wikimedia.org/wikipedia/commons/thumb/0/03/Franz_von_Stuck_013.jpg/91px-Franz_von_Stuck_013.jpg',\n",
       " 'https://upload.wikimedia.org/wikipedia/commons/thumb/d/d8/Stuck_Susanna.jpg/174px-Stuck_Susanna.jpg',\n",
       " 'https://upload.wikimedia.org/wikipedia/commons/thumb/a/ab/Franz_von_Stuck_-_Die_S%C3%BCnde_1893_-_Detail.jpg/143px-Franz_von_Stuck_-_Die_S%C3%BCnde_1893_-_Detail.jpg',\n",
       " 'https://upload.wikimedia.org/wikipedia/commons/thumb/1/17/Franz_von_Stuck_004.jpg/149px-Franz_von_Stuck_004.jpg',\n",
       " 'https://upload.wikimedia.org/wikipedia/commons/thumb/2/28/Franz_von_Stuck_001.jpg/240px-Franz_von_Stuck_001.jpg',\n",
       " 'https://upload.wikimedia.org/wikipedia/commons/thumb/1/16/Franz_Von_Stuck_-_The_Guardian_of_Paradise.jpg/171px-Franz_Von_Stuck_-_The_Guardian_of_Paradise.jpg',\n",
       " 'https://upload.wikimedia.org/wikipedia/commons/thumb/d/d9/Franz_von_Stuck_003.jpg/176px-Franz_von_Stuck_003.jpg',\n",
       " 'https://upload.wikimedia.org/wikipedia/commons/thumb/e/e0/Franz_Von_Stuck_-_Sisyphus.jpg/171px-Franz_Von_Stuck_-_Sisyphus.jpg',\n",
       " 'https://upload.wikimedia.org/wikipedia/commons/thumb/0/0f/Sisyphus_by_von_Stuck.jpg/208px-Sisyphus_by_von_Stuck.jpg',\n",
       " 'https://upload.wikimedia.org/wikipedia/commons/thumb/1/11/Franz_Von_Stuck_-_The_Struggle_for_Woman.jpg/240px-Franz_Von_Stuck_-_The_Struggle_for_Woman.jpg',\n",
       " 'https://upload.wikimedia.org/wikipedia/commons/thumb/3/3a/Franz_von_Stuck_002.jpg/240px-Franz_von_Stuck_002.jpg',\n",
       " 'https://upload.wikimedia.org/wikipedia/commons/thumb/c/ca/Franz_von_Stuck_-_Wilde_Jagd_-_Musee_d_Orsay_-_Paris_-_1899.jpg/168px-Franz_von_Stuck_-_Wilde_Jagd_-_Musee_d_Orsay_-_Paris_-_1899.jpg',\n",
       " 'https://upload.wikimedia.org/wikipedia/commons/thumb/b/b0/Franz_Von_Stuck_-_Wounded_Amazon_%28Detail%29.jpg/240px-Franz_Von_Stuck_-_Wounded_Amazon_%28Detail%29.jpg',\n",
       " 'https://upload.wikimedia.org/wikipedia/commons/thumb/9/96/Franz_von_Stuck_-Wounded_Amazon%2C_1903.jpg/240px-Franz_von_Stuck_-Wounded_Amazon%2C_1903.jpg',\n",
       " 'https://upload.wikimedia.org/wikipedia/commons/thumb/8/88/Franz_von_Stuck_010.jpg/189px-Franz_von_Stuck_010.jpg',\n",
       " 'https://upload.wikimedia.org/wikipedia/commons/thumb/c/c4/Franz_von_Stuck_Salome_II.jpg/240px-Franz_von_Stuck_Salome_II.jpg',\n",
       " 'https://upload.wikimedia.org/wikipedia/commons/thumb/2/22/Franz_von_Stuck_Salome.jpg/176px-Franz_von_Stuck_Salome.jpg',\n",
       " 'https://upload.wikimedia.org/wikipedia/commons/thumb/e/eb/Student_at_Jena_Fernidand_Hodler.jpg/103px-Student_at_Jena_Fernidand_Hodler.jpg',\n",
       " 'https://upload.wikimedia.org/wikipedia/commons/thumb/8/80/The_Spring_-_Franz_von_Stuck.jpg/230px-The_Spring_-_Franz_von_Stuck.jpg',\n",
       " 'https://upload.wikimedia.org/wikipedia/commons/thumb/9/9c/Tsar_Moroku.jpg/215px-Tsar_Moroku.jpg',\n",
       " 'https://upload.wikimedia.org/wikipedia/commons/thumb/a/a6/Venus_redon.jpeg/102px-Venus_redon.jpeg',\n",
       " 'https://upload.wikimedia.org/wikipedia/commons/thumb/6/64/Watts_%E2%80%93_After_the_Deluge_cropped.jpg/240px-Watts_%E2%80%93_After_the_Deluge_cropped.jpg',\n",
       " 'https://upload.wikimedia.org/wikipedia/commons/thumb/8/8f/Watts_%E2%80%93_After_the_Deluge.jpg/240px-Watts_%E2%80%93_After_the_Deluge.jpg',\n",
       " 'https://upload.wikimedia.org/wikipedia/commons/thumb/1/1d/Watts_%E2%80%93_Progress_%28Watts_Gallery_version%29.jpg/120px-Watts_%E2%80%93_Progress_%28Watts_Gallery_version%29.jpg',\n",
       " 'https://upload.wikimedia.org/wikipedia/commons/thumb/7/77/Watts_%E2%80%93_The_Genius_of_Greek_Poetry.jpg/184px-Watts_%E2%80%93_The_Genius_of_Greek_Poetry.jpg',\n",
       " 'https://upload.wikimedia.org/wikipedia/commons/thumb/1/10/Watts_%E2%80%93_Faith%2C_Hope_%26_Charity.jpg/118px-Watts_%E2%80%93_Faith%2C_Hope_%26_Charity.jpg',\n",
       " 'https://upload.wikimedia.org/wikipedia/commons/thumb/1/18/Watts_%E2%80%93_Hope_%28rainbow_version%29.jpg/168px-Watts_%E2%80%93_Hope_%28rainbow_version%29.jpg',\n",
       " 'https://upload.wikimedia.org/wikipedia/commons/thumb/e/ef/Watts_%E2%80%93_Hope_%28Walker%29.jpg/186px-Watts_%E2%80%93_Hope_%28Walker%29.jpg',\n",
       " 'https://upload.wikimedia.org/wikipedia/commons/thumb/6/61/Watts_%E2%80%93_Mammon.jpg/139px-Watts_%E2%80%93_Mammon.jpg',\n",
       " 'https://upload.wikimedia.org/wikipedia/commons/thumb/4/4f/Watts_%E2%80%93_The_Wife_of_Plutus.jpg/185px-Watts_%E2%80%93_The_Wife_of_Plutus.jpg',\n",
       " 'https://upload.wikimedia.org/wikipedia/commons/thumb/6/60/George_Frederic_Watts%2C_1885%2C_Hope.jpg/173px-George_Frederic_Watts%2C_1885%2C_Hope.jpg',\n",
       " 'https://upload.wikimedia.org/wikipedia/commons/thumb/a/a1/Watts-Hope2.jpg/174px-Watts-Hope2.jpg',\n",
       " 'https://upload.wikimedia.org/wikipedia/commons/thumb/e/eb/Assistants_and_George_Frederic_Watts_-_Hope_-_Google_Art_Project.jpg/190px-Assistants_and_George_Frederic_Watts_-_Hope_-_Google_Art_Project.jpg',\n",
       " 'https://upload.wikimedia.org/wikipedia/commons/thumb/7/75/George_Frederick_Watts_001.jpg/165px-George_Frederick_Watts_001.jpg',\n",
       " 'https://upload.wikimedia.org/wikipedia/commons/thumb/6/69/The_Sower_of_the_Systems_-_G._F._Watts.jpg/181px-The_Sower_of_the_Systems_-_G._F._Watts.jpg',\n",
       " 'https://upload.wikimedia.org/wikipedia/commons/thumb/5/58/Xavier_Mellery.jpg/240px-Xavier_Mellery.jpg',\n",
       " 'https://upload.wikimedia.org/wikipedia/commons/thumb/1/15/%C3%89mile_Bernard_Autoportrait_symbolique_1891.jpg/180px-%C3%89mile_Bernard_Autoportrait_symbolique_1891.jpg',\n",
       " '',\n",
       " '/static/images/wikimedia-button-2x.png',\n",
       " '/static/images/poweredby_mediawiki_176x62.png']"
      ]
     },
     "execution_count": 8,
     "metadata": {},
     "output_type": "execute_result"
    }
   ],
   "source": [
    "url_list"
   ]
  },
  {
   "cell_type": "markdown",
   "metadata": {},
   "source": [
    "# end of scrape"
   ]
  },
  {
   "cell_type": "code",
   "execution_count": null,
   "metadata": {
    "collapsed": true
   },
   "outputs": [],
   "source": []
  }
 ],
 "metadata": {
  "kernelspec": {
   "display_name": "specialization",
   "language": "python",
   "name": "specialization"
  },
  "language_info": {
   "codemirror_mode": {
    "name": "ipython",
    "version": 2
   },
   "file_extension": ".py",
   "mimetype": "text/x-python",
   "name": "python",
   "nbconvert_exporter": "python",
   "pygments_lexer": "ipython2",
   "version": "2.7.13"
  }
 },
 "nbformat": 4,
 "nbformat_minor": 1
}
