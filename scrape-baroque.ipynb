{
 "cells": [
  {
   "cell_type": "code",
   "execution_count": 2,
   "metadata": {
    "collapsed": true
   },
   "outputs": [],
   "source": [
    "#scrapes Baroque Paintings on Wikimedia, stores all images as jpeg links in url_list at bottom\n",
    "\n",
    "import cv2\n",
    "from bs4 import BeautifulSoup\n",
    "import requests"
   ]
  },
  {
   "cell_type": "code",
   "execution_count": 16,
   "metadata": {
    "collapsed": false
   },
   "outputs": [],
   "source": [
    "r  = requests.get(\"https://commons.wikimedia.org/wiki/Category:Baroque_paintings\")\n",
    "\n",
    "data = r.text\n",
    "\n",
    "soup = BeautifulSoup(data, \"html.parser\")"
   ]
  },
  {
   "cell_type": "code",
   "execution_count": 17,
   "metadata": {
    "collapsed": false
   },
   "outputs": [],
   "source": [
    "imgBank = soup.find_all(\"img\")"
   ]
  },
  {
   "cell_type": "code",
   "execution_count": 18,
   "metadata": {
    "collapsed": false
   },
   "outputs": [],
   "source": [
    "st = str(imgBank[0])"
   ]
  },
  {
   "cell_type": "code",
   "execution_count": 19,
   "metadata": {
    "collapsed": false
   },
   "outputs": [
    {
     "name": "stdout",
     "output_type": "stream",
     "text": [
      "https://upload.wikimedia.org/wikipedia/commons/thumb/8/8a/BERCHEM_Nicolaes_-_Loenen_sur_la_Vecht%2C_Ch%C3%A2teau_de_Cronenburch.jpg/240px-BERCHEM_Nicolaes_-_Loenen_sur_la_Vecht%2C_Ch%C3%A2teau_de_Cronenburch.jpg\n"
     ]
    }
   ],
   "source": [
    "def find_between( s, first, last ):\n",
    "    try:\n",
    "        start = s.index( first ) + len( first )\n",
    "        end = s.index( last, start )\n",
    "        return s[start:end]\n",
    "    except ValueError:\n",
    "        return \"\"\n",
    "\n",
    "def find_between_r( s, first, last ):\n",
    "    try:\n",
    "        start = s.rindex( first ) + len( first )\n",
    "        end = s.rindex( last, start )\n",
    "        return s[start:end]\n",
    "    except ValueError:\n",
    "        return \"\"\n",
    "\n",
    "\n",
    "print find_between( st, \"1.5x, \", ' 2x' )\n"
   ]
  },
  {
   "cell_type": "code",
   "execution_count": 20,
   "metadata": {
    "collapsed": false
   },
   "outputs": [],
   "source": [
    "url_list = []\n",
    "for i in range(len(imgBank)):\n",
    "    st = str(imgBank[i])\n",
    "    url_list.append(find_between( st, \"1.5x, \", ' 2x' ))"
   ]
  },
  {
   "cell_type": "code",
   "execution_count": 21,
   "metadata": {
    "collapsed": false
   },
   "outputs": [
    {
     "data": {
      "text/plain": [
       "203"
      ]
     },
     "execution_count": 21,
     "metadata": {},
     "output_type": "execute_result"
    }
   ],
   "source": [
    "len(url_list)"
   ]
  },
  {
   "cell_type": "code",
   "execution_count": 22,
   "metadata": {
    "collapsed": true
   },
   "outputs": [],
   "source": [
    "r2  = requests.get(\"https://commons.wikimedia.org/w/index.php?title=Category:Baroque_paintings&filefrom=Pietro+Domenico+Oliviero+-+The+Royal+Theater+in+Turin.jpg#mw-category-media\")\n",
    "data = r2.text\n",
    "soup2 = BeautifulSoup(data, \"html.parser\")"
   ]
  },
  {
   "cell_type": "code",
   "execution_count": 23,
   "metadata": {
    "collapsed": true
   },
   "outputs": [],
   "source": [
    "imgBank2 = soup2.find_all(\"img\")"
   ]
  },
  {
   "cell_type": "code",
   "execution_count": 24,
   "metadata": {
    "collapsed": true
   },
   "outputs": [],
   "source": [
    "for i in range(len(imgBank2)):\n",
    "    st = str(imgBank2[i])\n",
    "    url_list.append(find_between( st, \"1.5x, \", ' 2x' ))"
   ]
  },
  {
   "cell_type": "code",
   "execution_count": 26,
   "metadata": {
    "collapsed": false
   },
   "outputs": [
    {
     "data": {
      "text/plain": [
       "['https://upload.wikimedia.org/wikipedia/commons/thumb/8/8a/BERCHEM_Nicolaes_-_Loenen_sur_la_Vecht%2C_Ch%C3%A2teau_de_Cronenburch.jpg/240px-BERCHEM_Nicolaes_-_Loenen_sur_la_Vecht%2C_Ch%C3%A2teau_de_Cronenburch.jpg',\n",
       " 'https://upload.wikimedia.org/wikipedia/commons/thumb/6/6e/The_Infante_Don_Fernando_de_Austria.jpg/156px-The_Infante_Don_Fernando_de_Austria.jpg',\n",
       " 'https://upload.wikimedia.org/wikipedia/commons/thumb/3/3d/Jan_Steen_011.jpg/240px-Jan_Steen_011.jpg',\n",
       " 'https://upload.wikimedia.org/wikipedia/commons/thumb/b/b7/CardinalPallavicini.jpg/203px-CardinalPallavicini.jpg',\n",
       " 'https://upload.wikimedia.org/wikipedia/commons/thumb/7/78/1671_Roos_Zigeunerlager_anagoria.JPG/240px-1671_Roos_Zigeunerlager_anagoria.JPG',\n",
       " 'https://upload.wikimedia.org/wikipedia/commons/thumb/6/6d/1725_Cipper_H%C3%A4usliche_Szene_anagoria.JPG/240px-1725_Cipper_H%C3%A4usliche_Szene_anagoria.JPG',\n",
       " 'https://upload.wikimedia.org/wikipedia/commons/thumb/9/98/1750_Grund_Die_Ernte_anagoria.JPG/240px-1750_Grund_Die_Ernte_anagoria.JPG',\n",
       " 'https://upload.wikimedia.org/wikipedia/commons/thumb/0/00/Joseph_Dominikus_von_Lamberg.jpg/169px-Joseph_Dominikus_von_Lamberg.jpg',\n",
       " 'https://upload.wikimedia.org/wikipedia/commons/thumb/8/84/A_merry_company_Pieter_Symonsz._Potter.jpg/240px-A_merry_company_Pieter_Symonsz._Potter.jpg',\n",
       " 'https://upload.wikimedia.org/wikipedia/commons/thumb/0/0b/Ad%C3%A1n_y_Eva_en_el_Para%C3%ADso_-_Crist%C3%B3bal_de_Villalpando.jpg/240px-Ad%C3%A1n_y_Eva_en_el_Para%C3%ADso_-_Crist%C3%B3bal_de_Villalpando.jpg',\n",
       " 'https://upload.wikimedia.org/wikipedia/commons/thumb/0/0c/Annibale_Carracci_-_Perseus_and_Phineas_%28detail%29%2C_1597.jpg/240px-Annibale_Carracci_-_Perseus_and_Phineas_%28detail%29%2C_1597.jpg',\n",
       " 'https://upload.wikimedia.org/wikipedia/commons/thumb/2/22/Arc%C3%A1ngel_Baraquiel_-_Crist%C3%B3bal_de_Villalpando.jpg/139px-Arc%C3%A1ngel_Baraquiel_-_Crist%C3%B3bal_de_Villalpando.jpg',\n",
       " 'https://upload.wikimedia.org/wikipedia/commons/thumb/5/56/BMVB1452-Justus_Sustermans-La_familia_de_Darius_davant_Alexandre_el_Gran.JPG/240px-BMVB1452-Justus_Sustermans-La_familia_de_Darius_davant_Alexandre_el_Gran.JPG',\n",
       " 'https://upload.wikimedia.org/wikipedia/commons/thumb/7/76/Companion_to_Rokeby.png/240px-Companion_to_Rokeby.png',\n",
       " 'https://upload.wikimedia.org/wikipedia/commons/thumb/7/7e/Cornelis_Dusart_001.jpg/199px-Cornelis_Dusart_001.jpg',\n",
       " 'https://upload.wikimedia.org/wikipedia/commons/thumb/4/4b/David_Teniers_II_-_I_v_Hocke_-_Salom%C3%A9_with_the_Head_of_John_the_Baptist_%281653%29_%28cropped%29.jpg/240px-David_Teniers_II_-_I_v_Hocke_-_Salom%C3%A9_with_the_Head_of_John_the_Baptist_%281653%29_%28cropped%29.jpg',\n",
       " 'https://upload.wikimedia.org/wikipedia/commons/thumb/3/3c/Deckengem%C3%A4lde_Bozzetto_18Jh_Jagd.jpg/153px-Deckengem%C3%A4lde_Bozzetto_18Jh_Jagd.jpg',\n",
       " 'https://upload.wikimedia.org/wikipedia/commons/thumb/2/29/Dutch_Wikibook_cover_Hendrik_Avercamp.jpg/240px-Dutch_Wikibook_cover_Hendrik_Avercamp.jpg',\n",
       " 'https://upload.wikimedia.org/wikipedia/commons/thumb/c/c2/El_Diluvio_-_Crist%C3%B3bal_de_Villalpando_-_%28Capilla_del_Esp%C3%ADritu_Santo_de_Ochavo_Catedral_de_Puebla%2C_Puebla%2C_M%C3%A9xico%29.jpg/240px-El_Diluvio_-_Crist%C3%B3bal_de_Villalpando_-_%28Capilla_del_Esp%C3%ADritu_Santo_de_Ochavo_Catedral_de_Puebla%2C_Puebla%2C_M%C3%A9xico%29.jpg',\n",
       " 'https://upload.wikimedia.org/wikipedia/commons/thumb/5/53/El_Dulce_nombre_de_Mar%C3%ADa_-_Crist%C3%B3bal_de_Villalpando.jpg/240px-El_Dulce_nombre_de_Mar%C3%ADa_-_Crist%C3%B3bal_de_Villalpando.jpg',\n",
       " 'https://upload.wikimedia.org/wikipedia/commons/thumb/d/de/El_Parian_-_18th_century_in_New_Spain.jpg/240px-El_Parian_-_18th_century_in_New_Spain.jpg',\n",
       " 'https://upload.wikimedia.org/wikipedia/commons/thumb/e/e8/Emanuel_de_Witte_001.jpg/187px-Emanuel_de_Witte_001.jpg',\n",
       " 'https://upload.wikimedia.org/wikipedia/commons/thumb/e/e2/En_hednisk_kejsares_begravinng_-_Skoklosters_slott_-_85993.tif/lossy-page1-240px-En_hednisk_kejsares_begravinng_-_Skoklosters_slott_-_85993.tif.jpg',\n",
       " 'https://upload.wikimedia.org/wikipedia/commons/thumb/9/98/Ex_voto_Guadalupano_-_Basilica_de_Guadalupe_museum%2C_Mexico_city.jpg/240px-Ex_voto_Guadalupano_-_Basilica_de_Guadalupe_museum%2C_Mexico_city.jpg',\n",
       " 'https://upload.wikimedia.org/wikipedia/commons/thumb/8/8c/Federico_%22Fiori%22_Barocci_-_San_Pietro_e_San_Paolo_-_chiesa_Brinzio_%28VA%29_-_Italia.JPG/180px-Federico_%22Fiori%22_Barocci_-_San_Pietro_e_San_Paolo_-_chiesa_Brinzio_%28VA%29_-_Italia.JPG',\n",
       " 'https://upload.wikimedia.org/wikipedia/commons/thumb/e/eb/Ferdinando_Toderini.jpg/163px-Ferdinando_Toderini.jpg',\n",
       " 'https://upload.wikimedia.org/wikipedia/commons/thumb/9/91/Francesco_Morosini.JPG/212px-Francesco_Morosini.JPG',\n",
       " 'https://upload.wikimedia.org/wikipedia/commons/thumb/9/97/Francisco_de_Zurbar%C3%A1n_040.jpg/151px-Francisco_de_Zurbar%C3%A1n_040.jpg',\n",
       " 'https://upload.wikimedia.org/wikipedia/commons/thumb/d/d5/Francisco_de_Zurbar%C3%A1n_055.jpg/197px-Francisco_de_Zurbar%C3%A1n_055.jpg',\n",
       " 'https://upload.wikimedia.org/wikipedia/commons/thumb/8/8f/Francisco_de_Zurbar%C3%A1n_067.jpg/240px-Francisco_de_Zurbar%C3%A1n_067.jpg',\n",
       " 'https://upload.wikimedia.org/wikipedia/commons/thumb/2/21/FranciscoFernandezdelaCueva.jpg/169px-FranciscoFernandezdelaCueva.jpg',\n",
       " 'https://upload.wikimedia.org/wikipedia/commons/thumb/4/47/Franz_de_Paula_Ferg_001.jpg/174px-Franz_de_Paula_Ferg_001.jpg',\n",
       " 'https://upload.wikimedia.org/wikipedia/commons/thumb/9/90/Franz%C3%B6sischer_Meister_um_1675_002.jpg/165px-Franz%C3%B6sischer_Meister_um_1675_002.jpg',\n",
       " 'https://upload.wikimedia.org/wikipedia/commons/thumb/0/07/Furttenbach_Feuerwerk.jpg/240px-Furttenbach_Feuerwerk.jpg',\n",
       " 'https://upload.wikimedia.org/wikipedia/commons/thumb/5/5b/Galileo_Galilei_by_Peter_Paul_Rubens.jpg/192px-Galileo_Galilei_by_Peter_Paul_Rubens.jpg',\n",
       " 'https://upload.wikimedia.org/wikipedia/commons/thumb/1/1f/Georges_de_La_Tour_005.jpg/163px-Georges_de_La_Tour_005.jpg',\n",
       " 'https://upload.wikimedia.org/wikipedia/commons/thumb/e/ea/Georges_de_La_Tour_012.jpg/195px-Georges_de_La_Tour_012.jpg',\n",
       " 'https://upload.wikimedia.org/wikipedia/commons/thumb/5/5c/Georges_de_La_Tour_015.jpg/180px-Georges_de_La_Tour_015.jpg',\n",
       " 'https://upload.wikimedia.org/wikipedia/commons/thumb/2/20/Georges_de_La_Tour_017.jpg/197px-Georges_de_La_Tour_017.jpg',\n",
       " 'https://upload.wikimedia.org/wikipedia/commons/thumb/f/f5/Georges_de_La_Tour_023.jpg/197px-Georges_de_La_Tour_023.jpg',\n",
       " 'https://upload.wikimedia.org/wikipedia/commons/thumb/a/a3/Georges_de_La_Tour_024.jpg/195px-Georges_de_La_Tour_024.jpg',\n",
       " 'https://upload.wikimedia.org/wikipedia/commons/thumb/9/95/Georges_de_La_Tour_037.jpg/197px-Georges_de_La_Tour_037.jpg',\n",
       " 'https://upload.wikimedia.org/wikipedia/commons/thumb/3/3f/Georges_de_La_Tour_043.jpg/197px-Georges_de_La_Tour_043.jpg',\n",
       " 'https://upload.wikimedia.org/wikipedia/commons/thumb/a/a1/Georges_de_La_Tour_045.jpg/196px-Georges_de_La_Tour_045.jpg',\n",
       " 'https://upload.wikimedia.org/wikipedia/commons/thumb/b/b4/Georges_de_La_Tour_046.jpg/196px-Georges_de_La_Tour_046.jpg',\n",
       " 'https://upload.wikimedia.org/wikipedia/commons/thumb/4/47/Georges_de_La_Tour_047.jpg/192px-Georges_de_La_Tour_047.jpg',\n",
       " 'https://upload.wikimedia.org/wikipedia/commons/thumb/5/53/Georges_de_La_Tour_049.jpg/196px-Georges_de_La_Tour_049.jpg',\n",
       " 'https://upload.wikimedia.org/wikipedia/commons/thumb/4/4e/Georges_de_La_Tour_051.jpg/196px-Georges_de_La_Tour_051.jpg',\n",
       " 'https://upload.wikimedia.org/wikipedia/commons/thumb/9/94/Georges_de_La_Tour_059.jpg/197px-Georges_de_La_Tour_059.jpg',\n",
       " 'https://upload.wikimedia.org/wikipedia/commons/thumb/3/3e/Gerard_Houckgeest_001.jpg/158px-Gerard_Houckgeest_001.jpg',\n",
       " 'https://upload.wikimedia.org/wikipedia/commons/thumb/d/dc/Gerrit_Adriaensz._Berckheyde_001.jpg/190px-Gerrit_Adriaensz._Berckheyde_001.jpg',\n",
       " 'https://upload.wikimedia.org/wikipedia/commons/thumb/0/0d/Gerrit_Adriaensz._Berckheyde_003.jpg/216px-Gerrit_Adriaensz._Berckheyde_003.jpg',\n",
       " 'https://upload.wikimedia.org/wikipedia/commons/thumb/c/c1/Giovanni_I_Cornaro_Ricci.jpg/162px-Giovanni_I_Cornaro_Ricci.jpg',\n",
       " 'https://upload.wikimedia.org/wikipedia/commons/thumb/4/4e/Giuseppe_Antonio_Felice_Orelli_001.jpg/225px-Giuseppe_Antonio_Felice_Orelli_001.jpg',\n",
       " 'https://upload.wikimedia.org/wikipedia/commons/thumb/8/84/Goyen_1627_krajina_s_povozem.jpg/240px-Goyen_1627_krajina_s_povozem.jpg',\n",
       " 'https://upload.wikimedia.org/wikipedia/commons/thumb/8/83/Goyen_1632_za_vsi.jpg/240px-Goyen_1632_za_vsi.jpg',\n",
       " 'https://upload.wikimedia.org/wikipedia/commons/thumb/f/f7/Goyen_1633_pohled_na_dordrecht.jpg/240px-Goyen_1633_pohled_na_dordrecht.jpg',\n",
       " 'https://upload.wikimedia.org/wikipedia/commons/thumb/e/e9/Goyen_1634_River_landscape_with_a_ruin.jpg/240px-Goyen_1634_River_landscape_with_a_ruin.jpg',\n",
       " 'https://upload.wikimedia.org/wikipedia/commons/thumb/5/57/Goyen_1635_duny.jpg/240px-Goyen_1635_duny.jpg',\n",
       " 'https://upload.wikimedia.org/wikipedia/commons/thumb/f/f9/Goyen_1638_A_River_Scene_with_Fishermen_laying_a_Net.jpg/201px-Goyen_1638_A_River_Scene_with_Fishermen_laying_a_Net.jpg',\n",
       " 'https://upload.wikimedia.org/wikipedia/commons/thumb/8/83/Goyen_1640_pohled_na_reku.jpg/240px-Goyen_1640_pohled_na_reku.jpg',\n",
       " 'https://upload.wikimedia.org/wikipedia/commons/thumb/8/82/Goyen_1640_u_more.jpg/240px-Goyen_1640_u_more.jpg',\n",
       " 'https://upload.wikimedia.org/wikipedia/commons/thumb/4/42/Goyen_1640c_vez_na_pobrezi.jpg/240px-Goyen_1640c_vez_na_pobrezi.jpg',\n",
       " 'https://upload.wikimedia.org/wikipedia/commons/thumb/1/15/Goyen_1641_dalka.jpg/240px-Goyen_1641_dalka.jpg',\n",
       " 'https://upload.wikimedia.org/wikipedia/commons/thumb/c/c8/Goyen_1641_Gezicht_op_Arnhem.jpg/240px-Goyen_1641_Gezicht_op_Arnhem.jpg',\n",
       " 'https://upload.wikimedia.org/wikipedia/commons/thumb/7/75/Goyen_1642_za_boure.jpg/240px-Goyen_1642_za_boure.jpg',\n",
       " 'https://upload.wikimedia.org/wikipedia/commons/thumb/9/9d/Goyen_1642c_vesnice_u_reky.jpg/240px-Goyen_1642c_vesnice_u_reky.jpg',\n",
       " 'https://upload.wikimedia.org/wikipedia/commons/thumb/7/78/Goyen_1643_River_Landscape_with_Pellekussenpoort_Utrecht_and_Gothic_Choir.jpg/240px-Goyen_1643_River_Landscape_with_Pellekussenpoort_Utrecht_and_Gothic_Choir.jpg',\n",
       " 'https://upload.wikimedia.org/wikipedia/commons/thumb/9/91/Goyen_1643_Winter_on_the_River.png/240px-Goyen_1643_Winter_on_the_River.png',\n",
       " 'https://upload.wikimedia.org/wikipedia/commons/thumb/e/ed/Goyen_1644-53_View_of_Dordrecht.jpg/240px-Goyen_1644-53_View_of_Dordrecht.jpg',\n",
       " 'https://upload.wikimedia.org/wikipedia/commons/thumb/9/91/Goyen_1645_Dordrecht.jpg/240px-Goyen_1645_Dordrecht.jpg',\n",
       " 'https://upload.wikimedia.org/wikipedia/commons/thumb/4/4b/Goyen_1645_Seashore_at_Scheveningen.jpg/240px-Goyen_1645_Seashore_at_Scheveningen.jpg',\n",
       " 'https://upload.wikimedia.org/wikipedia/commons/thumb/8/86/Goyen_1645_View_of_The_Hague_in_Winter.jpg/240px-Goyen_1645_View_of_The_Hague_in_Winter.jpg',\n",
       " 'https://upload.wikimedia.org/wikipedia/commons/thumb/9/9f/Goyen_1645_vyhled_na_roviny.jpg/240px-Goyen_1645_vyhled_na_roviny.jpg',\n",
       " 'https://upload.wikimedia.org/wikipedia/commons/thumb/6/6c/Goyen_1648_Blick_von_der_alten_Maas_auf_Dordrecht.jpg/240px-Goyen_1648_Blick_von_der_alten_Maas_auf_Dordrecht.jpg',\n",
       " 'https://upload.wikimedia.org/wikipedia/commons/thumb/7/71/Goyen_1648_Gezicht_op_Rhenen.jpg/240px-Goyen_1648_Gezicht_op_Rhenen.jpg',\n",
       " 'https://upload.wikimedia.org/wikipedia/commons/thumb/2/24/Goyen_1650_View_of_Leiden_from_the_Northeast.jpg/240px-Goyen_1650_View_of_Leiden_from_the_Northeast.jpg',\n",
       " 'https://upload.wikimedia.org/wikipedia/commons/thumb/d/d4/Goyen_1650c_rybari_stahuji_site_pred_bouri.jpg/240px-Goyen_1650c_rybari_stahuji_site_pred_bouri.jpg',\n",
       " 'https://upload.wikimedia.org/wikipedia/commons/thumb/f/f5/Guardi_%28circle%29_Piazza_San_Marco.jpg/187px-Guardi_%28circle%29_Piazza_San_Marco.jpg',\n",
       " 'https://upload.wikimedia.org/wikipedia/commons/thumb/4/41/Guido_Reni_036.jpg/196px-Guido_Reni_036.jpg',\n",
       " 'https://upload.wikimedia.org/wikipedia/commons/thumb/8/85/Hallway_in_the_Healy_Hall_at_Georgetown_University.JPG/180px-Hallway_in_the_Healy_Hall_at_Georgetown_University.JPG',\n",
       " 'https://upload.wikimedia.org/wikipedia/commons/thumb/8/85/Hendrik_Avercamp_001.jpg/240px-Hendrik_Avercamp_001.jpg',\n",
       " 'https://upload.wikimedia.org/wikipedia/commons/thumb/5/57/Hendrik_Avercamp_003.jpg/240px-Hendrik_Avercamp_003.jpg',\n",
       " 'https://upload.wikimedia.org/wikipedia/commons/thumb/1/17/Hobbema03.jpg/240px-Hobbema03.jpg',\n",
       " 'https://upload.wikimedia.org/wikipedia/commons/thumb/d/d2/Huida_a_Egipto_-_Crist%C3%B3bal_de_Villalpando.jpg/141px-Huida_a_Egipto_-_Crist%C3%B3bal_de_Villalpando.jpg',\n",
       " 'https://upload.wikimedia.org/wikipedia/commons/thumb/d/d0/Images_of_Love_by_Krul%2C_emblem.jpg/176px-Images_of_Love_by_Krul%2C_emblem.jpg',\n",
       " 'https://upload.wikimedia.org/wikipedia/commons/thumb/f/fd/Infante_Don_Fernando_de_Austria_by_Bartolom%C3%A9_Gonz%C3%A1lez.jpg/192px-Infante_Don_Fernando_de_Austria_by_Bartolom%C3%A9_Gonz%C3%A1lez.jpg',\n",
       " 'https://upload.wikimedia.org/wikipedia/commons/thumb/5/56/Isaac_van_Ostade_002.jpg/178px-Isaac_van_Ostade_002.jpg',\n",
       " 'https://upload.wikimedia.org/wikipedia/commons/thumb/a/ad/Jacob_Isaaksz._van_Ruisdael_005.jpg/240px-Jacob_Isaaksz._van_Ruisdael_005.jpg',\n",
       " 'https://upload.wikimedia.org/wikipedia/commons/thumb/9/92/Jacob_Isaaksz._van_Ruisdael_010.jpg/240px-Jacob_Isaaksz._van_Ruisdael_010.jpg',\n",
       " 'https://upload.wikimedia.org/wikipedia/commons/thumb/5/5a/Jacob_van_Ruisdael_-_Houthakkers_in_een_bos.jpg/240px-Jacob_van_Ruisdael_-_Houthakkers_in_een_bos.jpg',\n",
       " 'https://upload.wikimedia.org/wikipedia/commons/thumb/4/47/Jakob_Jordaens_004.jpg/240px-Jakob_Jordaens_004.jpg',\n",
       " 'https://upload.wikimedia.org/wikipedia/commons/thumb/4/47/Jakob_Jordaens_005.jpg/240px-Jakob_Jordaens_005.jpg',\n",
       " 'https://upload.wikimedia.org/wikipedia/commons/thumb/0/02/Jan_Baptist_Weenix_001.jpg/240px-Jan_Baptist_Weenix_001.jpg',\n",
       " 'https://upload.wikimedia.org/wikipedia/commons/thumb/d/db/Jan_Bruegel_d._%C3%84._006.jpg/240px-Jan_Bruegel_d._%C3%84._006.jpg',\n",
       " 'https://upload.wikimedia.org/wikipedia/commons/thumb/8/8f/Jan_Brueghel_%28I%29_-_The_Wedding_Banquet.jpg/240px-Jan_Brueghel_%28I%29_-_The_Wedding_Banquet.jpg',\n",
       " 'https://upload.wikimedia.org/wikipedia/commons/thumb/9/99/Jan_Brueghel_%28I%29_-_Village_wedding.jpg/240px-Jan_Brueghel_%28I%29_-_Village_wedding.jpg',\n",
       " 'https://upload.wikimedia.org/wikipedia/commons/thumb/7/77/Jan_Brueghel_%28I%29_and_Joos_de_Momper_%28II%29_-_Landscape_with_skaters.jpg/240px-Jan_Brueghel_%28I%29_and_Joos_de_Momper_%28II%29_-_Landscape_with_skaters.jpg',\n",
       " 'https://upload.wikimedia.org/wikipedia/commons/thumb/d/d5/Jan_Brueghel_%28I%29_and_Joos_de_Momper_%28II%29_-_Market_and_washing_place_in_Flanders.jpg/240px-Jan_Brueghel_%28I%29_and_Joos_de_Momper_%28II%29_-_Market_and_washing_place_in_Flanders.jpg',\n",
       " 'https://upload.wikimedia.org/wikipedia/commons/thumb/c/cc/Jan_Brueghel_the_Elder_-_Fischmarkt_am_Ufer_eines_Flusses-2.JPG/240px-Jan_Brueghel_the_Elder_-_Fischmarkt_am_Ufer_eines_Flusses-2.JPG',\n",
       " 'https://upload.wikimedia.org/wikipedia/commons/thumb/e/ee/Jan_Fyt_-_Two_dead_partridges_and_a_hound.jpeg/240px-Jan_Fyt_-_Two_dead_partridges_and_a_hound.jpeg',\n",
       " 'https://upload.wikimedia.org/wikipedia/commons/thumb/d/d3/Jan_Fyt_002.jpg/240px-Jan_Fyt_002.jpg',\n",
       " 'https://upload.wikimedia.org/wikipedia/commons/thumb/0/07/Jan_Miense_Molenaer_003.jpg/240px-Jan_Miense_Molenaer_003.jpg',\n",
       " 'https://upload.wikimedia.org/wikipedia/commons/thumb/e/e3/Jan_Steen_-_Skittles_Players_Outside_an_Inn.jpg/193px-Jan_Steen_-_Skittles_Players_Outside_an_Inn.jpg',\n",
       " 'https://upload.wikimedia.org/wikipedia/commons/thumb/f/f9/Jan_Steen_009.jpg/191px-Jan_Steen_009.jpg',\n",
       " 'https://upload.wikimedia.org/wikipedia/commons/thumb/e/e6/Jan_van_de_Cappelle_002.jpg/240px-Jan_van_de_Cappelle_002.jpg',\n",
       " 'https://upload.wikimedia.org/wikipedia/commons/thumb/1/1f/Jan_van_der_Heyden_-_Canal_in_Amsterdam.jpg/240px-Jan_van_der_Heyden_-_Canal_in_Amsterdam.jpg',\n",
       " 'https://upload.wikimedia.org/wikipedia/commons/thumb/1/1e/Jan_van_Goyen_002.jpg/240px-Jan_van_Goyen_002.jpg',\n",
       " 'https://upload.wikimedia.org/wikipedia/commons/thumb/9/99/Jan_van_Goyen_005.jpg/240px-Jan_van_Goyen_005.jpg',\n",
       " 'https://upload.wikimedia.org/wikipedia/commons/thumb/b/bc/Jan_van_Goyen_Teich_im_Walde.jpg/240px-Jan_van_Goyen_Teich_im_Walde.jpg',\n",
       " 'https://upload.wikimedia.org/wikipedia/commons/thumb/0/0f/Jan_Vermeer_van_Delft_001.jpg/240px-Jan_Vermeer_van_Delft_001.jpg',\n",
       " 'https://upload.wikimedia.org/wikipedia/commons/thumb/7/7d/Jean_Barbault_001.jpg/203px-Jean_Barbault_001.jpg',\n",
       " 'https://upload.wikimedia.org/wikipedia/commons/thumb/c/ce/Jean-Baptiste_van_Mour_002.jpg/240px-Jean-Baptiste_van_Mour_002.jpg',\n",
       " 'https://upload.wikimedia.org/wikipedia/commons/thumb/7/77/Jean-Baptiste_van_Mour_003.jpg/240px-Jean-Baptiste_van_Mour_003.jpg',\n",
       " 'https://upload.wikimedia.org/wikipedia/commons/thumb/4/4b/Jean-Baptiste_van_Mour_009.jpg/240px-Jean-Baptiste_van_Mour_009.jpg',\n",
       " 'https://upload.wikimedia.org/wikipedia/commons/thumb/1/1c/Johann_Anwander_001.jpg/240px-Johann_Anwander_001.jpg',\n",
       " 'https://upload.wikimedia.org/wikipedia/commons/thumb/a/ab/Johann_Georg_Platzer_%28Umkreis%29_-_Eine_elegante_Gesellschaft_beim_Tric-Trac-Spiel.jpg/181px-Johann_Georg_Platzer_%28Umkreis%29_-_Eine_elegante_Gesellschaft_beim_Tric-Trac-Spiel.jpg',\n",
       " 'https://upload.wikimedia.org/wikipedia/commons/thumb/9/9d/Johann_Georg_Platzer_%28zugeschr.%29_-_Ein_Kaiser_verteilt_Kuchen_ans_Volk.jpg/240px-Johann_Georg_Platzer_%28zugeschr.%29_-_Ein_Kaiser_verteilt_Kuchen_ans_Volk.jpg',\n",
       " 'https://upload.wikimedia.org/wikipedia/commons/thumb/5/59/Johann_Georg_Platzer_-_Alexander_der_Gro%C3%9Fe_empf%C3%A4ngt_die_Schl%C3%BCssel_von_Babylon.jpg/240px-Johann_Georg_Platzer_-_Alexander_der_Gro%C3%9Fe_empf%C3%A4ngt_die_Schl%C3%BCssel_von_Babylon.jpg',\n",
       " 'https://upload.wikimedia.org/wikipedia/commons/thumb/0/07/Johann_Georg_Platzer_-_Bildnis_einer_eleganten_Dame.jpg/172px-Johann_Georg_Platzer_-_Bildnis_einer_eleganten_Dame.jpg',\n",
       " 'https://upload.wikimedia.org/wikipedia/commons/thumb/1/1f/Johann_Georg_Platzer_-_Die_Beweinung_Christi.jpg/240px-Johann_Georg_Platzer_-_Die_Beweinung_Christi.jpg',\n",
       " 'https://upload.wikimedia.org/wikipedia/commons/thumb/d/d3/Johann_Georg_Platzer_-_Ein_Interieur_mit_eleganten_Herrschaften.jpg/240px-Johann_Georg_Platzer_-_Ein_Interieur_mit_eleganten_Herrschaften.jpg',\n",
       " 'https://upload.wikimedia.org/wikipedia/commons/thumb/3/34/Johann_Georg_Platzer_-_Josef_entzieht_sich_der_Frau_des_Potiphar.jpg/240px-Johann_Georg_Platzer_-_Josef_entzieht_sich_der_Frau_des_Potiphar.jpg',\n",
       " 'https://upload.wikimedia.org/wikipedia/commons/thumb/2/22/Johann_Heinrich_Roos_002.jpg/240px-Johann_Heinrich_Roos_002.jpg',\n",
       " 'https://upload.wikimedia.org/wikipedia/commons/thumb/4/4c/Johann_Heinrich_Sch%C3%B6nfeld_003.jpg/173px-Johann_Heinrich_Sch%C3%B6nfeld_003.jpg',\n",
       " 'https://upload.wikimedia.org/wikipedia/commons/thumb/f/fd/Johann_Heinrich_Sch%C3%B6nfeld_007.jpg/232px-Johann_Heinrich_Sch%C3%B6nfeld_007.jpg',\n",
       " 'https://upload.wikimedia.org/wikipedia/commons/thumb/4/40/Johann_Mathias_Kager_001.jpg/240px-Johann_Mathias_Kager_001.jpg',\n",
       " 'https://upload.wikimedia.org/wikipedia/commons/thumb/1/1b/Joost_Cornelisz._Droochsloot_001.jpg/240px-Joost_Cornelisz._Droochsloot_001.jpg',\n",
       " 'https://upload.wikimedia.org/wikipedia/commons/thumb/0/05/Jos%C3%A9_de_Ribera_019.jpg/187px-Jos%C3%A9_de_Ribera_019.jpg',\n",
       " 'https://upload.wikimedia.org/wikipedia/commons/thumb/f/fd/Jos%C3%A9_de_Ribera_025.jpg/196px-Jos%C3%A9_de_Ribera_025.jpg',\n",
       " 'https://upload.wikimedia.org/wikipedia/commons/thumb/b/b2/Julius_Porcellis_001.jpg/240px-Julius_Porcellis_001.jpg',\n",
       " 'https://upload.wikimedia.org/wikipedia/commons/thumb/7/7c/J%C3%BCrgen_Ovens_001.jpg/204px-J%C3%BCrgen_Ovens_001.jpg',\n",
       " 'https://upload.wikimedia.org/wikipedia/commons/thumb/9/9a/J%C3%BCrgen_Ovens_002.jpg/192px-J%C3%BCrgen_Ovens_002.jpg',\n",
       " 'https://upload.wikimedia.org/wikipedia/commons/thumb/1/1f/J%C3%BCrgen_Ovens_003.jpg/172px-J%C3%BCrgen_Ovens_003.jpg',\n",
       " 'https://upload.wikimedia.org/wikipedia/commons/thumb/8/87/Kaplica_wazow_-_oltarz.JPG/135px-Kaplica_wazow_-_oltarz.JPG',\n",
       " 'https://upload.wikimedia.org/wikipedia/commons/thumb/4/44/Karel_Dujardin_001.jpg/198px-Karel_Dujardin_001.jpg',\n",
       " 'https://upload.wikimedia.org/wikipedia/commons/thumb/4/40/Karel_Dujardin_003.jpg/240px-Karel_Dujardin_003.jpg',\n",
       " 'https://upload.wikimedia.org/wikipedia/commons/thumb/7/71/Karel_Skr%C3%A9ta_001.jpg/181px-Karel_Skr%C3%A9ta_001.jpg',\n",
       " 'https://upload.wikimedia.org/wikipedia/commons/thumb/a/ae/Karel_%C5%A0kr%C3%A9ta_-_Dido_a_Aeneas_%281670%29.jpg/190px-Karel_%C5%A0kr%C3%A9ta_-_Dido_a_Aeneas_%281670%29.jpg',\n",
       " 'https://upload.wikimedia.org/wikipedia/commons/thumb/7/7b/Karel_%C5%A0kr%C3%A9ta_-_Junger_Mann_mit_der_Hand_auf_der_Brust_%281670%29.jpg/181px-Karel_%C5%A0kr%C3%A9ta_-_Junger_Mann_mit_der_Hand_auf_der_Brust_%281670%29.jpg',\n",
       " 'https://upload.wikimedia.org/wikipedia/commons/thumb/5/56/Karel_%C5%A0kr%C3%A9ta_-_Paris_a_Helena.jpg/193px-Karel_%C5%A0kr%C3%A9ta_-_Paris_a_Helena.jpg',\n",
       " 'https://upload.wikimedia.org/wikipedia/commons/thumb/7/71/Karel_%C5%A0kr%C3%A9ta_-_Portr%C3%A9t_Bernarda_Ign%C3%A1ce_z_Martinic_%281665-1675%29.jpg/193px-Karel_%C5%A0kr%C3%A9ta_-_Portr%C3%A9t_Bernarda_Ign%C3%A1ce_z_Martinic_%281665-1675%29.jpg',\n",
       " 'https://upload.wikimedia.org/wikipedia/commons/thumb/c/cd/Karel_%C5%A0kr%C3%A9ta_-_Portr%C3%A9t_mal%C3%AD%C5%99e_miniatur_Joachima_Sandrarta_%281630-1640%29.jpg/185px-Karel_%C5%A0kr%C3%A9ta_-_Portr%C3%A9t_mal%C3%AD%C5%99e_miniatur_Joachima_Sandrarta_%281630-1640%29.jpg',\n",
       " 'https://upload.wikimedia.org/wikipedia/commons/thumb/9/91/Karel_%C5%A0kr%C3%A9ta_-_Portr%C3%A9t_velmistra_%C5%99%C3%A1du_Malt%C3%A9zsk%C3%BDch_ryt%C3%AD%C5%99%C5%AF_Bernarda_de_Witte_%281651%29.jpg/180px-Karel_%C5%A0kr%C3%A9ta_-_Portr%C3%A9t_velmistra_%C5%99%C3%A1du_Malt%C3%A9zsk%C3%BDch_ryt%C3%AD%C5%99%C5%AF_Bernarda_de_Witte_%281651%29.jpg',\n",
       " 'https://upload.wikimedia.org/wikipedia/commons/thumb/b/b7/La_Anunciaci%C3%B3n_%28ca._1610%29.jpg/183px-La_Anunciaci%C3%B3n_%28ca._1610%29.jpg',\n",
       " 'https://upload.wikimedia.org/wikipedia/commons/thumb/0/0e/La_Anunciaci%C3%B3n_-_Crist%C3%B3bal_de_Villalpando.jpg/138px-La_Anunciaci%C3%B3n_-_Crist%C3%B3bal_de_Villalpando.jpg',\n",
       " 'https://upload.wikimedia.org/wikipedia/commons/thumb/6/63/La_aparici%C3%B3n_de_San_Miguel_-_Crist%C3%B3bal_de_Villalpando.jpg/240px-La_aparici%C3%B3n_de_San_Miguel_-_Crist%C3%B3bal_de_Villalpando.jpg',\n",
       " 'https://upload.wikimedia.org/wikipedia/commons/thumb/8/8a/La_Pur%C3%ADsima_Concepci%C3%B3n_-_Crist%C3%B3bal_de_Villalpando.jpg/165px-La_Pur%C3%ADsima_Concepci%C3%B3n_-_Crist%C3%B3bal_de_Villalpando.jpg',\n",
       " 'https://upload.wikimedia.org/wikipedia/commons/thumb/0/0a/La_Virgen_de_Aranzaz%C3%BA_-_Crist%C3%B3bal_de_Villalpando.jpg/137px-La_Virgen_de_Aranzaz%C3%BA_-_Crist%C3%B3bal_de_Villalpando.jpg',\n",
       " 'https://upload.wikimedia.org/wikipedia/commons/thumb/4/4b/La_Virgen_de_la_escalera_-_Crist%C3%B3bal_de_Villalpando%2C_%28Templo_de_San_Felipe_Neri%29.jpg/199px-La_Virgen_de_la_escalera_-_Crist%C3%B3bal_de_Villalpando%2C_%28Templo_de_San_Felipe_Neri%29.jpg',\n",
       " 'https://upload.wikimedia.org/wikipedia/commons/thumb/a/af/La_Virgen_del_Apocalipsis_-_Crist%C3%B3bal_de_Villalpando_%28Museo_Bello_y_Gonz%C3%A1lez%2C_Ciudad_de_Puebla%29.png/240px-La_Virgen_del_Apocalipsis_-_Crist%C3%B3bal_de_Villalpando_%28Museo_Bello_y_Gonz%C3%A1lez%2C_Ciudad_de_Puebla%29.png',\n",
       " 'https://upload.wikimedia.org/wikipedia/commons/thumb/d/d2/Las_Artes_Liberales_-_Juan_Correa.jpg/240px-Las_Artes_Liberales_-_Juan_Correa.jpg',\n",
       " 'https://upload.wikimedia.org/wikipedia/commons/thumb/4/41/Las_Cuatro_Partes_del_Mundo_-_Juan_Correa.jpg/240px-Las_Cuatro_Partes_del_Mundo_-_Juan_Correa.jpg',\n",
       " 'https://upload.wikimedia.org/wikipedia/commons/thumb/c/c7/Le_Nain_-_Repas_de_paysans_%281642%29.jpg/240px-Le_Nain_-_Repas_de_paysans_%281642%29.jpg',\n",
       " 'https://upload.wikimedia.org/wikipedia/commons/thumb/6/6e/Louis_Le_Nain_005.jpg/240px-Louis_Le_Nain_005.jpg',\n",
       " 'https://upload.wikimedia.org/wikipedia/commons/thumb/4/46/Locatelli_-_pescatori.jpg/240px-Locatelli_-_pescatori.jpg',\n",
       " 'https://upload.wikimedia.org/wikipedia/commons/thumb/1/19/Los_Cuatro_Elementos_-_Juan_Correa.jpg/240px-Los_Cuatro_Elementos_-_Juan_Correa.jpg',\n",
       " 'https://upload.wikimedia.org/wikipedia/commons/thumb/a/a3/Louis_Le_Nain_001.jpg/240px-Louis_Le_Nain_001.jpg',\n",
       " 'https://upload.wikimedia.org/wikipedia/commons/thumb/d/d9/Louis_Le_Nain_002.jpg/240px-Louis_Le_Nain_002.jpg',\n",
       " 'https://upload.wikimedia.org/wikipedia/commons/thumb/2/2f/Louis_Le_Nain_003.jpg/240px-Louis_Le_Nain_003.jpg',\n",
       " 'https://upload.wikimedia.org/wikipedia/commons/thumb/8/87/Louis_Le_Nain_006.jpg/240px-Louis_Le_Nain_006.jpg',\n",
       " 'https://upload.wikimedia.org/wikipedia/commons/thumb/6/6b/Nicholas_Maes-_Woman_Plucking_a_Duck-1656.jpg/240px-Nicholas_Maes-_Woman_Plucking_a_Duck-1656.jpg',\n",
       " 'https://upload.wikimedia.org/wikipedia/commons/thumb/b/b9/Maria_Caterina_d%27Este_%281656-1772%29_Italian_School%2C_17th_Century.jpg/156px-Maria_Caterina_d%27Este_%281656-1772%29_Italian_School%2C_17th_Century.jpg',\n",
       " 'https://upload.wikimedia.org/wikipedia/commons/thumb/3/3d/Matthias_Scheits_001.jpg/240px-Matthias_Scheits_001.jpg',\n",
       " 'https://upload.wikimedia.org/wikipedia/commons/thumb/5/52/Meindert_Hobbema_002.jpg/240px-Meindert_Hobbema_002.jpg',\n",
       " 'https://upload.wikimedia.org/wikipedia/commons/thumb/f/fa/Meindert_Hobbema_003.jpg/240px-Meindert_Hobbema_003.jpg',\n",
       " 'https://upload.wikimedia.org/wikipedia/commons/thumb/c/c6/Meindert_Hobbema_004.jpg/188px-Meindert_Hobbema_004.jpg',\n",
       " 'https://upload.wikimedia.org/wikipedia/commons/thumb/0/00/Meindert_Hobbema_005.jpg/240px-Meindert_Hobbema_005.jpg',\n",
       " 'https://upload.wikimedia.org/wikipedia/commons/thumb/5/54/Michel_Boyer_-_La_Musique.jpg/240px-Michel_Boyer_-_La_Musique.jpg',\n",
       " 'https://upload.wikimedia.org/wikipedia/commons/thumb/e/ef/Michel_Gobin_002.jpg/240px-Michel_Gobin_002.jpg',\n",
       " 'https://upload.wikimedia.org/wikipedia/commons/thumb/7/77/Michelangelo_Unterberger_002.jpg/108px-Michelangelo_Unterberger_002.jpg',\n",
       " 'https://upload.wikimedia.org/wikipedia/commons/thumb/9/9b/Molyn_dunes.jpg/240px-Molyn_dunes.jpg',\n",
       " 'https://upload.wikimedia.org/wikipedia/commons/thumb/9/93/Joost_de_Momper_d._J._001.jpg/195px-Joost_de_Momper_d._J._001.jpg',\n",
       " 'https://upload.wikimedia.org/wikipedia/commons/thumb/7/78/Monica_Maillard.jpg/169px-Monica_Maillard.jpg',\n",
       " 'https://upload.wikimedia.org/wikipedia/commons/thumb/2/24/Mujer_del_Apocalipsis_-_Crist%C3%B3bal_de_Villalpando.jpg/196px-Mujer_del_Apocalipsis_-_Crist%C3%B3bal_de_Villalpando.jpg',\n",
       " 'https://upload.wikimedia.org/wikipedia/commons/thumb/d/d6/M%C3%A5lning._Portr%C3%A4tt%2C_Katarina_Gyllenstierna_-_Skoklosters_slott_-_87719.tif/lossy-page1-170px-M%C3%A5lning._Portr%C3%A4tt%2C_Katarina_Gyllenstierna_-_Skoklosters_slott_-_87719.tif.jpg',\n",
       " 'https://upload.wikimedia.org/wikipedia/commons/thumb/3/30/M%C3%A5lning._Portr%C3%A4tt._Officersv%C3%A4n._Claude_Gebhardt_de_Laval_-_Skoklosters_slott_-_87817.tif/lossy-page1-130px-M%C3%A5lning._Portr%C3%A4tt._Officersv%C3%A4n._Claude_Gebhardt_de_Laval_-_Skoklosters_slott_-_87817.tif.jpg',\n",
       " 'https://upload.wikimedia.org/wikipedia/commons/thumb/c/cc/M%C3%A5lning._Portr%C3%A4tt._Officersv%C3%A4n._Johan_Nieroth_-_Skoklosters_slott_-_87814.tif/lossy-page1-148px-M%C3%A5lning._Portr%C3%A4tt._Officersv%C3%A4n._Johan_Nieroth_-_Skoklosters_slott_-_87814.tif.jpg',\n",
       " 'https://upload.wikimedia.org/wikipedia/commons/thumb/8/8b/M%C3%A5lning._Portr%C3%A4tt._Officersv%C3%A4n._J%C3%B6rgen_P%C3%A5lman_-_Skoklosters_slott_-_86523.tif/lossy-page1-139px-M%C3%A5lning._Portr%C3%A4tt._Officersv%C3%A4n._J%C3%B6rgen_P%C3%A5lman_-_Skoklosters_slott_-_86523.tif.jpg',\n",
       " 'https://upload.wikimedia.org/wikipedia/commons/thumb/8/88/M%C3%A5lning._Portr%C3%A4tt._Officersv%C3%A4n._Lars_kagge_-_Skoklosters_slott_-_87193.tif/lossy-page1-134px-M%C3%A5lning._Portr%C3%A4tt._Officersv%C3%A4n._Lars_kagge_-_Skoklosters_slott_-_87193.tif.jpg',\n",
       " 'https://upload.wikimedia.org/wikipedia/commons/thumb/c/ce/M%C3%A5lning._Portr%C3%A4tt._Officersv%C3%A4n._Patrik_Ruthven_-_Skoklosters_slott_-_87269.tif/lossy-page1-146px-M%C3%A5lning._Portr%C3%A4tt._Officersv%C3%A4n._Patrik_Ruthven_-_Skoklosters_slott_-_87269.tif.jpg',\n",
       " 'https://upload.wikimedia.org/wikipedia/commons/thumb/e/ec/M%C3%A5lning._Portr%C3%A4tt._Officersv%C3%A4n._Pawel_von_Essens_-_Skoklosters_slott_-_87816.tif/lossy-page1-140px-M%C3%A5lning._Portr%C3%A4tt._Officersv%C3%A4n._Pawel_von_Essens_-_Skoklosters_slott_-_87816.tif.jpg',\n",
       " 'https://upload.wikimedia.org/wikipedia/commons/thumb/e/e2/Nicolaes_Pietersz._Berchem_001.jpg/240px-Nicolaes_Pietersz._Berchem_001.jpg',\n",
       " 'https://upload.wikimedia.org/wikipedia/commons/thumb/b/b2/Nicolas_De_Largilli%C3%A8re-%C3%89tude_de_main.jpg/209px-Nicolas_De_Largilli%C3%A8re-%C3%89tude_de_main.jpg',\n",
       " 'https://upload.wikimedia.org/wikipedia/commons/thumb/c/c5/Pedro_Nu%C3%B1ez_de_Villavicencio_001.jpg/240px-Pedro_Nu%C3%B1ez_de_Villavicencio_001.jpg',\n",
       " 'https://upload.wikimedia.org/wikipedia/commons/thumb/2/2b/Perseus_and_Phineas_-_Annibale_Carracci_and_Domenichino_-_1597_-_Farnese_Gallery%2C_Rome.jpg/240px-Perseus_and_Phineas_-_Annibale_Carracci_and_Domenichino_-_1597_-_Farnese_Gallery%2C_Rome.jpg',\n",
       " 'https://upload.wikimedia.org/wikipedia/commons/thumb/b/ba/Peter_Paul_Rubens_006.jpg/188px-Peter_Paul_Rubens_006.jpg',\n",
       " 'https://upload.wikimedia.org/wikipedia/commons/thumb/3/39/Philipp_Hieronymus_Brinckmann_002.jpg/240px-Philipp_Hieronymus_Brinckmann_002.jpg',\n",
       " 'https://upload.wikimedia.org/wikipedia/commons/thumb/b/b7/Philipp_Peter_Roos_%28Rosa_da_Tivoli%29%2C_Shepherd_with_sheep_and_Goat.jpg/240px-Philipp_Peter_Roos_%28Rosa_da_Tivoli%29%2C_Shepherd_with_sheep_and_Goat.jpg',\n",
       " 'https://upload.wikimedia.org/wikipedia/commons/thumb/e/ed/Philipp_Peter_Roos_002.jpg/240px-Philipp_Peter_Roos_002.jpg',\n",
       " 'https://upload.wikimedia.org/wikipedia/commons/thumb/d/d6/Philips_Wouwerman_001.jpg/203px-Philips_Wouwerman_001.jpg',\n",
       " 'https://upload.wikimedia.org/wikipedia/commons/thumb/f/f4/Philips_Wouwerman_002.jpg/240px-Philips_Wouwerman_002.jpg',\n",
       " 'https://upload.wikimedia.org/wikipedia/commons/thumb/a/aa/Pierre-Denis_Martin_001.jpg/240px-Pierre-Denis_Martin_001.jpg',\n",
       " 'https://upload.wikimedia.org/wikipedia/commons/thumb/b/b5/Pieter_de_Hooch_-_A_Woman_with_a_Baby_in_Her_Lap%2C_and_a_Small_Child_-_WGA11693.jpg/177px-Pieter_de_Hooch_-_A_Woman_with_a_Baby_in_Her_Lap%2C_and_a_Small_Child_-_WGA11693.jpg',\n",
       " 'https://upload.wikimedia.org/wikipedia/commons/thumb/7/7e/Pieter_de_Hooch_-_Couple_with_Parrot_-_WGA11713.jpg/201px-Pieter_de_Hooch_-_Couple_with_Parrot_-_WGA11713.jpg',\n",
       " 'https://upload.wikimedia.org/wikipedia/commons/thumb/f/f6/Pieter_de_Hooch_-_Interior_with_Figures_-_WGA11705.jpg/240px-Pieter_de_Hooch_-_Interior_with_Figures_-_WGA11705.jpg',\n",
       " 'https://upload.wikimedia.org/wikipedia/commons/thumb/8/87/Pieter_de_Hooch_-_Skittle_Players_in_a_Garden.jpg/240px-Pieter_de_Hooch_-_Skittle_Players_in_a_Garden.jpg',\n",
       " 'https://upload.wikimedia.org/wikipedia/commons/thumb/2/25/Pieter_de_Hooch_011.jpg/200px-Pieter_de_Hooch_011.jpg',\n",
       " 'https://upload.wikimedia.org/wikipedia/commons/thumb/5/5c/Pieter_de_Hooch_023.jpg/201px-Pieter_de_Hooch_023.jpg',\n",
       " 'https://upload.wikimedia.org/wikipedia/commons/thumb/2/2f/Pieter_Symonsz._Potter_001.jpg/240px-Pieter_Symonsz._Potter_001.jpg',\n",
       " '',\n",
       " '/static/images/wikimedia-button-2x.png',\n",
       " '/static/images/poweredby_mediawiki_176x62.png',\n",
       " 'https://upload.wikimedia.org/wikipedia/commons/thumb/1/1f/Pietro_Domenico_Oliviero_-_The_Royal_Theater_in_Turin.jpg/211px-Pietro_Domenico_Oliviero_-_The_Royal_Theater_in_Turin.jpg',\n",
       " 'https://upload.wikimedia.org/wikipedia/commons/thumb/d/dd/Platzer_Atelier_des_Malers.jpg/240px-Platzer_Atelier_des_Malers.jpg',\n",
       " 'https://upload.wikimedia.org/wikipedia/commons/thumb/2/2e/Portrait_of_Marie_de_Lorraine_%281674-1724%29_and_her_sister_Charlotte_de_Lorraine_%281678-1757%29_by_Nicolas_Fouch%C3%A9.jpg/240px-Portrait_of_Marie_de_Lorraine_%281674-1724%29_and_her_sister_Charlotte_de_Lorraine_%281678-1757%29_by_Nicolas_Fouch%C3%A9.jpg',\n",
       " 'https://upload.wikimedia.org/wikipedia/commons/thumb/a/ae/Portr%C3%A4tt._Herman_Wrangel._Togs_till_utst%C3%A4llningen_Skokloster_gods_-_400_%C3%A5r_-_Skoklosters_slott_-_87820.tif/lossy-page1-144px-Portr%C3%A4tt._Herman_Wrangel._Togs_till_utst%C3%A4llningen_Skokloster_gods_-_400_%C3%A5r_-_Skoklosters_slott_-_87820.tif.jpg',\n",
       " 'https://upload.wikimedia.org/wikipedia/commons/thumb/8/81/Rembrandt_Harmensz._van_Rijn_034.jpg/240px-Rembrandt_Harmensz._van_Rijn_034.jpg',\n",
       " 'https://upload.wikimedia.org/wikipedia/commons/thumb/b/bc/Rembrandt_Harmensz._van_Rijn_037.jpg/167px-Rembrandt_Harmensz._van_Rijn_037.jpg',\n",
       " 'https://upload.wikimedia.org/wikipedia/commons/thumb/3/36/Rembrandt_Harmensz._van_Rijn_038.jpg/240px-Rembrandt_Harmensz._van_Rijn_038.jpg',\n",
       " 'https://upload.wikimedia.org/wikipedia/commons/thumb/2/21/Rembrandt_Harmensz._van_Rijn_047.jpg/199px-Rembrandt_Harmensz._van_Rijn_047.jpg',\n",
       " 'https://upload.wikimedia.org/wikipedia/commons/thumb/c/c4/Rembrandt_Harmensz._van_Rijn_047b.jpg/199px-Rembrandt_Harmensz._van_Rijn_047b.jpg',\n",
       " 'https://upload.wikimedia.org/wikipedia/commons/thumb/5/5a/Rembrandt_Harmensz._van_Rijn_055.jpg/218px-Rembrandt_Harmensz._van_Rijn_055.jpg',\n",
       " 'https://upload.wikimedia.org/wikipedia/commons/thumb/9/96/Rembrandt_Harmensz._van_Rijn_056.jpg/192px-Rembrandt_Harmensz._van_Rijn_056.jpg',\n",
       " 'https://upload.wikimedia.org/wikipedia/commons/thumb/a/a4/Rembrandt_Harmensz._van_Rijn_128.jpg/179px-Rembrandt_Harmensz._van_Rijn_128.jpg',\n",
       " 'https://upload.wikimedia.org/wikipedia/commons/thumb/8/8c/Retrato_de_familia_Fagoga_Arozqueta_-_An%C3%B3nimo_ca.1730.jpg/240px-Retrato_de_familia_Fagoga_Arozqueta_-_An%C3%B3nimo_ca.1730.jpg',\n",
       " 'https://upload.wikimedia.org/wikipedia/commons/thumb/d/dd/Road_on_a_Dyke.jpg/240px-Road_on_a_Dyke.jpg',\n",
       " 'https://upload.wikimedia.org/wikipedia/commons/thumb/c/c4/Jacob_Isaaksz._van_Ruisdael_016.jpg/240px-Jacob_Isaaksz._van_Ruisdael_016.jpg',\n",
       " 'https://upload.wikimedia.org/wikipedia/commons/thumb/9/97/Cesare_gennari_il_beato_bernardo_tolomei_by_Stefano_Bolognini.JPG/180px-Cesare_gennari_il_beato_bernardo_tolomei_by_Stefano_Bolognini.JPG',\n",
       " 'https://upload.wikimedia.org/wikipedia/commons/thumb/7/7c/Pompeo_batoni_san_marino_risolleva_la_repubblica_by_stefano_bolognini.JPG/175px-Pompeo_batoni_san_marino_risolleva_la_repubblica_by_stefano_bolognini.JPG',\n",
       " 'https://upload.wikimedia.org/wikipedia/commons/thumb/0/02/San_Miguel_Arc%C3%A1ngel_-_Crist%C3%B3bal_de_Villalpando.jpg/148px-San_Miguel_Arc%C3%A1ngel_-_Crist%C3%B3bal_de_Villalpando.jpg',\n",
       " 'https://upload.wikimedia.org/wikipedia/commons/thumb/3/3e/San_Pablo_-_Crist%C3%B3bal_de_Villalpando.jpg/193px-San_Pablo_-_Crist%C3%B3bal_de_Villalpando.jpg',\n",
       " 'https://upload.wikimedia.org/wikipedia/commons/thumb/8/83/Sandrart_November_Ausschnit.jpg/168px-Sandrart_November_Ausschnit.jpg',\n",
       " 'https://upload.wikimedia.org/wikipedia/commons/thumb/a/a8/Joachim_von_Sandrart_002.jpg/187px-Joachim_von_Sandrart_002.jpg',\n",
       " 'https://upload.wikimedia.org/wikipedia/commons/thumb/d/d2/Santa_rosa_tentada_por_el_demonio_-_Cristobal_de_Villalpando.jpg/182px-Santa_rosa_tentada_por_el_demonio_-_Cristobal_de_Villalpando.jpg',\n",
       " 'https://upload.wikimedia.org/wikipedia/commons/thumb/e/e3/Sebastiano_Ricci_045.jpg/240px-Sebastiano_Ricci_045.jpg',\n",
       " 'https://upload.wikimedia.org/wikipedia/commons/thumb/4/4d/Sebastiano_Ricci_and_Marco_Ricci_-_Imaginary_Tomb_of_the_First_Duke_of_Devonshire.jpg/149px-Sebastiano_Ricci_and_Marco_Ricci_-_Imaginary_Tomb_of_the_First_Duke_of_Devonshire.jpg',\n",
       " 'https://upload.wikimedia.org/wikipedia/commons/thumb/9/99/Seghers_mesto_s_ctyrmi_vezemi.jpg/240px-Seghers_mesto_s_ctyrmi_vezemi.jpg',\n",
       " 'https://upload.wikimedia.org/wikipedia/commons/thumb/f/fb/Seghers_viewbrus.jpg/240px-Seghers_viewbrus.jpg',\n",
       " 'https://upload.wikimedia.org/wikipedia/commons/thumb/d/de/Siege_of_J%C3%BClich_1622_by_Peter_Snayers.JPG/240px-Siege_of_J%C3%BClich_1622_by_Peter_Snayers.JPG',\n",
       " 'https://upload.wikimedia.org/wikipedia/commons/thumb/b/bf/Jan_Steen_%281%29Wirtshausgarten.jpg/196px-Jan_Steen_%281%29Wirtshausgarten.jpg',\n",
       " 'https://upload.wikimedia.org/wikipedia/commons/thumb/c/c7/Jan_Steen_%2810%29Kartenspiel_Streit.JPG/240px-Jan_Steen_%2810%29Kartenspiel_Streit.JPG',\n",
       " 'https://upload.wikimedia.org/wikipedia/commons/thumb/9/9a/Jan_Steen_%2812%29Lockere_Gesellschaft.JPG/196px-Jan_Steen_%2812%29Lockere_Gesellschaft.JPG',\n",
       " 'https://upload.wikimedia.org/wikipedia/commons/thumb/b/b2/Jan_Steen_%287%29.JPG/240px-Jan_Steen_%287%29.JPG',\n",
       " 'https://upload.wikimedia.org/wikipedia/commons/thumb/8/83/Jan_Steen_013.jpg/204px-Jan_Steen_013.jpg',\n",
       " 'https://upload.wikimedia.org/wikipedia/commons/thumb/3/3c/Lockere_Gesellschaft%2C_von_Jan_Steen.jpg/193px-Lockere_Gesellschaft%2C_von_Jan_Steen.jpg',\n",
       " 'https://upload.wikimedia.org/wikipedia/commons/thumb/0/0f/Taberna_de_monos.jpg/240px-Taberna_de_monos.jpg',\n",
       " 'https://upload.wikimedia.org/wikipedia/commons/thumb/4/4e/David_Teniers_d._J._008.jpg/240px-David_Teniers_d._J._008.jpg',\n",
       " 'https://upload.wikimedia.org/wikipedia/commons/thumb/1/10/David_Teniers_d._J._after_Pordenone_-_Lazarus_%28cropped%29.jpg/240px-David_Teniers_d._J._after_Pordenone_-_Lazarus_%28cropped%29.jpg',\n",
       " 'https://upload.wikimedia.org/wikipedia/commons/thumb/1/1f/David_Teniers_II_-_Archduke_Leopold_Wilhelm_and_the_artist_in_the_archducal_picture_gallery_in_Brussels_%281653%29.jpg/240px-David_Teniers_II_-_Archduke_Leopold_Wilhelm_and_the_artist_in_the_archducal_picture_gallery_in_Brussels_%281653%29.jpg',\n",
       " 'https://upload.wikimedia.org/wikipedia/commons/thumb/8/8d/David_Teniers_II_-_Lady_with_an_Ermine_%281653%29_%28cropped%29.jpg/158px-David_Teniers_II_-_Lady_with_an_Ermine_%281653%29_%28cropped%29.jpg',\n",
       " 'https://upload.wikimedia.org/wikipedia/commons/thumb/a/a5/David_Teniers_the_Younger_-_Archduke_Leopold_Wilhelm_in_his_Art_Gallery_in_Brussels.jpg/240px-David_Teniers_the_Younger_-_Archduke_Leopold_Wilhelm_in_his_Art_Gallery_in_Brussels.jpg',\n",
       " 'https://upload.wikimedia.org/wikipedia/commons/thumb/f/f1/The_Four_Evangelists.jpg/240px-The_Four_Evangelists.jpg',\n",
       " 'https://upload.wikimedia.org/wikipedia/commons/thumb/0/09/The_Somerset_House_Conference%2C_1604_from_NPG.jpg/240px-The_Somerset_House_Conference%2C_1604_from_NPG.jpg',\n",
       " 'https://upload.wikimedia.org/wikipedia/commons/thumb/a/a0/The_Travelers.jpg/240px-The_Travelers.jpg',\n",
       " 'https://upload.wikimedia.org/wikipedia/commons/thumb/b/bd/Titus_Vespasian_Aegidius_Sadeler.jpg/168px-Titus_Vespasian_Aegidius_Sadeler.jpg',\n",
       " 'https://upload.wikimedia.org/wikipedia/commons/thumb/c/c0/Transverberaci%C3%B3n_de_Santa_Teresa.png/214px-Transverberaci%C3%B3n_de_Santa_Teresa.png',\n",
       " 'https://upload.wikimedia.org/wikipedia/commons/thumb/f/f1/Traslado_de_la_imagen_y_dedicaci%C3%B3n_del_santuario_de_Guadalupe%2C_Ciudad_de_M%C3%A9xico%2C_Manuel_de_Arellano.jpg/240px-Traslado_de_la_imagen_y_dedicaci%C3%B3n_del_santuario_de_Guadalupe%2C_Ciudad_de_M%C3%A9xico%2C_Manuel_de_Arellano.jpg',\n",
       " 'https://upload.wikimedia.org/wikipedia/commons/thumb/3/30/Traversi_Konzert.jpg/240px-Traversi_Konzert.jpg',\n",
       " 'https://upload.wikimedia.org/wikipedia/commons/thumb/d/df/Traversi_Operation.jpg/240px-Traversi_Operation.jpg',\n",
       " 'https://upload.wikimedia.org/wikipedia/commons/thumb/b/bf/Traversi_Salome.jpg/181px-Traversi_Salome.jpg',\n",
       " 'https://upload.wikimedia.org/wikipedia/commons/thumb/1/13/Tr%C3%B3jca_Willmanna.jpg/185px-Tr%C3%B3jca_Willmanna.jpg',\n",
       " 'https://upload.wikimedia.org/wikipedia/commons/thumb/0/0c/Cornelis_Calkoen_op_weg_naar_de_audi%C3%ABntie_bij_sultan_Ahmed_III_Rijksmuseum_SK-A-4076.jpeg/240px-Cornelis_Calkoen_op_weg_naar_de_audi%C3%ABntie_bij_sultan_Ahmed_III_Rijksmuseum_SK-A-4076.jpeg',\n",
       " 'https://upload.wikimedia.org/wikipedia/commons/thumb/3/39/Vista_de_la_Plaza_Mayor_de_la_Ciudad_de_M%C3%A9xico_-_Cristobal_de_Villalpando.jpg/240px-Vista_de_la_Plaza_Mayor_de_la_Ciudad_de_M%C3%A9xico_-_Cristobal_de_Villalpando.jpg',\n",
       " 'https://upload.wikimedia.org/wikipedia/commons/thumb/6/6a/Vrancx_Soldiers_Plundering.jpg/240px-Vrancx_Soldiers_Plundering.jpg',\n",
       " 'https://upload.wikimedia.org/wikipedia/commons/thumb/4/48/Wroclaw-AulaLeopoldina2.jpg/240px-Wroclaw-AulaLeopoldina2.jpg',\n",
       " 'https://upload.wikimedia.org/wikipedia/commons/thumb/d/d7/Wroclaw-AulaLeopoldina3.jpg/240px-Wroclaw-AulaLeopoldina3.jpg',\n",
       " 'https://upload.wikimedia.org/wikipedia/commons/thumb/1/1c/Wroclaw-AulaLeopoldina4.jpg/240px-Wroclaw-AulaLeopoldina4.jpg',\n",
       " '',\n",
       " '/static/images/wikimedia-button-2x.png',\n",
       " '/static/images/poweredby_mediawiki_176x62.png']"
      ]
     },
     "execution_count": 26,
     "metadata": {},
     "output_type": "execute_result"
    }
   ],
   "source": [
    "url_list"
   ]
  },
  {
   "cell_type": "markdown",
   "metadata": {},
   "source": [
    "# end of scrape"
   ]
  },
  {
   "cell_type": "code",
   "execution_count": null,
   "metadata": {
    "collapsed": true
   },
   "outputs": [],
   "source": []
  }
 ],
 "metadata": {
  "kernelspec": {
   "display_name": "specialization",
   "language": "python",
   "name": "specialization"
  },
  "language_info": {
   "codemirror_mode": {
    "name": "ipython",
    "version": 2
   },
   "file_extension": ".py",
   "mimetype": "text/x-python",
   "name": "python",
   "nbconvert_exporter": "python",
   "pygments_lexer": "ipython2",
   "version": "2.7.13"
  }
 },
 "nbformat": 4,
 "nbformat_minor": 1
}
