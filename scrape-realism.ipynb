{
 "cells": [
  {
   "cell_type": "code",
   "execution_count": 1,
   "metadata": {
    "collapsed": true
   },
   "outputs": [],
   "source": [
    "#scrapes Realist Paintings on Wikimedia, stores all images as jpeg links in url_list at bottom\n",
    "\n",
    "import cv2\n",
    "from bs4 import BeautifulSoup\n",
    "import requests"
   ]
  },
  {
   "cell_type": "code",
   "execution_count": 2,
   "metadata": {
    "collapsed": false
   },
   "outputs": [],
   "source": [
    "r  = requests.get(\"https://commons.wikimedia.org/wiki/Category:Realism\")\n",
    "\n",
    "data = r.text\n",
    "\n",
    "soup = BeautifulSoup(data, \"html.parser\")"
   ]
  },
  {
   "cell_type": "code",
   "execution_count": 3,
   "metadata": {
    "collapsed": false
   },
   "outputs": [],
   "source": [
    "imgBank = soup.find_all(\"img\")"
   ]
  },
  {
   "cell_type": "code",
   "execution_count": 4,
   "metadata": {
    "collapsed": false
   },
   "outputs": [],
   "source": [
    "st = str(imgBank[0])"
   ]
  },
  {
   "cell_type": "code",
   "execution_count": 5,
   "metadata": {
    "collapsed": false
   },
   "outputs": [
    {
     "name": "stdout",
     "output_type": "stream",
     "text": [
      "https://upload.wikimedia.org/wikipedia/commons/thumb/4/4d/%22Eternal_Embrace%22_bronze_sculpture%2C_sculpted_by_artist_Oceana_Rain_Stuart.jpg/162px-%22Eternal_Embrace%22_bronze_sculpture%2C_sculpted_by_artist_Oceana_Rain_Stuart.jpg\n"
     ]
    }
   ],
   "source": [
    "def find_between( s, first, last ):\n",
    "    try:\n",
    "        start = s.index( first ) + len( first )\n",
    "        end = s.index( last, start )\n",
    "        return s[start:end]\n",
    "    except ValueError:\n",
    "        return \"\"\n",
    "\n",
    "def find_between_r( s, first, last ):\n",
    "    try:\n",
    "        start = s.rindex( first ) + len( first )\n",
    "        end = s.rindex( last, start )\n",
    "        return s[start:end]\n",
    "    except ValueError:\n",
    "        return \"\"\n",
    "\n",
    "\n",
    "print find_between( st, \"1.5x, \", ' 2x' )\n"
   ]
  },
  {
   "cell_type": "code",
   "execution_count": 6,
   "metadata": {
    "collapsed": false
   },
   "outputs": [],
   "source": [
    "url_list = []\n",
    "for i in range(len(imgBank)):\n",
    "    st = str(imgBank[i])\n",
    "    url_list.append(find_between( st, \"1.5x, \", ' 2x' ))"
   ]
  },
  {
   "cell_type": "code",
   "execution_count": 7,
   "metadata": {
    "collapsed": false
   },
   "outputs": [
    {
     "data": {
      "text/plain": [
       "68"
      ]
     },
     "execution_count": 7,
     "metadata": {},
     "output_type": "execute_result"
    }
   ],
   "source": [
    "len(url_list)"
   ]
  },
  {
   "cell_type": "code",
   "execution_count": 8,
   "metadata": {
    "collapsed": false
   },
   "outputs": [
    {
     "data": {
      "text/plain": [
       "['https://upload.wikimedia.org/wikipedia/commons/thumb/4/4d/%22Eternal_Embrace%22_bronze_sculpture%2C_sculpted_by_artist_Oceana_Rain_Stuart.jpg/162px-%22Eternal_Embrace%22_bronze_sculpture%2C_sculpted_by_artist_Oceana_Rain_Stuart.jpg',\n",
       " 'https://upload.wikimedia.org/wikipedia/commons/thumb/3/3f/%22Eternal_Love%22_bronze._Sculpture_artist_Oceana_Rain_Stuart.jpg/135px-%22Eternal_Love%22_bronze._Sculpture_artist_Oceana_Rain_Stuart.jpg',\n",
       " 'https://upload.wikimedia.org/wikipedia/commons/thumb/5/5a/%22Eternal_Seduction%22_bronze_sculpture_by_Sculpture_artist_Oceana_Rain_Stuart.jpg/135px-%22Eternal_Seduction%22_bronze_sculpture_by_Sculpture_artist_Oceana_Rain_Stuart.jpg',\n",
       " 'https://upload.wikimedia.org/wikipedia/commons/thumb/7/73/1870_M%C3%BCller_Salome_mit_dem_Haupt_des_Johannes_anagoria.JPG/172px-1870_M%C3%BCller_Salome_mit_dem_Haupt_des_Johannes_anagoria.JPG',\n",
       " 'https://upload.wikimedia.org/wikipedia/commons/thumb/4/48/A_voluntad.JPG/129px-A_voluntad.JPG',\n",
       " 'https://upload.wikimedia.org/wikipedia/commons/thumb/0/00/After_The_Rain.jpg/240px-After_The_Rain.jpg',\n",
       " 'https://upload.wikimedia.org/wikipedia/commons/thumb/3/31/Another_August_by_Carroll_Jones_III.jpg/240px-Another_August_by_Carroll_Jones_III.jpg',\n",
       " 'https://upload.wikimedia.org/wikipedia/commons/thumb/c/c0/AssemblingThePiecesbyStephanieDeshpande.jpg/240px-AssemblingThePiecesbyStephanieDeshpande.jpg',\n",
       " 'https://upload.wikimedia.org/wikipedia/commons/thumb/2/22/Baldomer_Galofre_i_Gim%C3%A9nez-_Paisatge_amb_alzines-_3827.JPG/240px-Baldomer_Galofre_i_Gim%C3%A9nez-_Paisatge_amb_alzines-_3827.JPG',\n",
       " 'https://upload.wikimedia.org/wikipedia/commons/thumb/9/91/Baldomer_Galofre_i_Gim%C3%A9nez-_Paisatge_amb_%C3%A0necs-_3826.JPG/240px-Baldomer_Galofre_i_Gim%C3%A9nez-_Paisatge_amb_%C3%A0necs-_3826.JPG',\n",
       " 'https://upload.wikimedia.org/wikipedia/commons/thumb/7/77/Baldomer_Galofre_i_Gim%C3%A9nez-_Pestum-_2082.JPG/240px-Baldomer_Galofre_i_Gim%C3%A9nez-_Pestum-_2082.JPG',\n",
       " 'https://upload.wikimedia.org/wikipedia/commons/thumb/2/2c/Beyond_grief.jpg/238px-Beyond_grief.jpg',\n",
       " 'https://upload.wikimedia.org/wikipedia/commons/thumb/0/04/BMVB_-_F._Resurrec._Hidalgo_Padilla_-_Joven_filipina_-_1251.tif/lossy-page1-171px-BMVB_-_F._Resurrec._Hidalgo_Padilla_-_Joven_filipina_-_1251.tif.jpg',\n",
       " 'https://upload.wikimedia.org/wikipedia/commons/thumb/e/eb/Busto_padre_Luis_Coloma.jpg/180px-Busto_padre_Luis_Coloma.jpg',\n",
       " 'https://upload.wikimedia.org/wikipedia/commons/thumb/0/09/Church_Window_by_Carroll_Jones_III.jpg/240px-Church_Window_by_Carroll_Jones_III.jpg',\n",
       " 'https://upload.wikimedia.org/wikipedia/commons/thumb/a/a3/Consuelo_Hern%C3%A1ndez_en_el_estudio.jpg/240px-Consuelo_Hern%C3%A1ndez_en_el_estudio.jpg',\n",
       " 'https://upload.wikimedia.org/wikipedia/commons/thumb/b/be/De_Maaier_%28vooraanzicht%29_-_Constantin_Meunier.jpg/159px-De_Maaier_%28vooraanzicht%29_-_Constantin_Meunier.jpg',\n",
       " 'https://upload.wikimedia.org/wikipedia/commons/thumb/4/48/De_maaier_%28zijde%29_-_Constantin_Meunier.jpg/159px-De_maaier_%28zijde%29_-_Constantin_Meunier.jpg',\n",
       " 'https://upload.wikimedia.org/wikipedia/commons/thumb/a/ab/Defaux-Bouquet_de_Fleurs.jpg/199px-Defaux-Bouquet_de_Fleurs.jpg',\n",
       " 'https://upload.wikimedia.org/wikipedia/commons/thumb/9/96/Desnudotorrens.jpg/187px-Desnudotorrens.jpg',\n",
       " 'https://upload.wikimedia.org/wikipedia/commons/thumb/2/26/ExploringTheBasementbyStephanie_Deshpande.jpg/183px-ExploringTheBasementbyStephanie_Deshpande.jpg',\n",
       " 'https://upload.wikimedia.org/wikipedia/commons/thumb/6/65/Fontane_der_stechlin_einband.jpg/219px-Fontane_der_stechlin_einband.jpg',\n",
       " 'https://upload.wikimedia.org/wikipedia/commons/thumb/7/78/Fontane_der_stechlin_titel.jpg/240px-Fontane_der_stechlin_titel.jpg',\n",
       " 'https://upload.wikimedia.org/wikipedia/commons/thumb/2/23/Hoboken_Still_Life.jpg/240px-Hoboken_Still_Life.jpg',\n",
       " 'https://upload.wikimedia.org/wikipedia/commons/thumb/b/bc/Hopper_Tribute_by_Carroll_N._Jones_III.jpg/240px-Hopper_Tribute_by_Carroll_N._Jones_III.jpg',\n",
       " 'https://upload.wikimedia.org/wikipedia/commons/thumb/f/f4/INVIERNO-EN-EL-TEATRO-CERVANTES-DE-T%C3%81NGER.jpg/240px-INVIERNO-EN-EL-TEATRO-CERVANTES-DE-T%C3%81NGER.jpg',\n",
       " 'https://upload.wikimedia.org/wikipedia/commons/thumb/7/7e/Jacob_witzenhausen.jpg/159px-Jacob_witzenhausen.jpg',\n",
       " 'https://upload.wikimedia.org/wikipedia/commons/thumb/6/64/La_Vague%2C_Gustave_Courbet.jpg/240px-La_Vague%2C_Gustave_Courbet.jpg',\n",
       " 'https://upload.wikimedia.org/wikipedia/commons/thumb/a/ac/La_virgen_de_los_caballos.jpg/240px-La_virgen_de_los_caballos.jpg',\n",
       " 'https://upload.wikimedia.org/wikipedia/commons/thumb/d/da/Le_peseur_de_plumes.jpg/160px-Le_peseur_de_plumes.jpg',\n",
       " 'https://upload.wikimedia.org/wikipedia/commons/thumb/4/40/Leaving_Home_by_Carroll_N._Jones_III.jpg/240px-Leaving_Home_by_Carroll_N._Jones_III.jpg',\n",
       " 'https://upload.wikimedia.org/wikipedia/commons/thumb/a/a0/Libe%2C_tu_me_hiciste_libre.JPG/240px-Libe%2C_tu_me_hiciste_libre.JPG',\n",
       " 'https://upload.wikimedia.org/wikipedia/commons/thumb/1/1d/Liebermann_Jesus_1879_det.jpg/240px-Liebermann_Jesus_1879_det.jpg',\n",
       " 'https://upload.wikimedia.org/wikipedia/commons/thumb/9/95/Mangos_bajo_la_lluvia.jpg/176px-Mangos_bajo_la_lluvia.jpg',\n",
       " 'https://upload.wikimedia.org/wikipedia/commons/thumb/b/b4/McCAUL%27S_FLORIST_2004_By_Carroll_N._Jones_III.jpg/240px-McCAUL%27S_FLORIST_2004_By_Carroll_N._Jones_III.jpg',\n",
       " 'https://upload.wikimedia.org/wikipedia/commons/thumb/f/fe/Midsummer_Sun.jpg/240px-Midsummer_Sun.jpg',\n",
       " 'https://upload.wikimedia.org/wikipedia/commons/thumb/2/29/Naomi_statue.jpg/130px-Naomi_statue.jpg',\n",
       " 'https://upload.wikimedia.org/wikipedia/commons/thumb/1/13/Notrica_32nd_street_market_oil_on_canvas_50_by70_jan-27-09.jpg/240px-Notrica_32nd_street_market_oil_on_canvas_50_by70_jan-27-09.jpg',\n",
       " 'https://upload.wikimedia.org/wikipedia/commons/thumb/1/18/Padre_Luis_Coloma.jpg/180px-Padre_Luis_Coloma.jpg',\n",
       " 'https://upload.wikimedia.org/wikipedia/commons/thumb/0/04/PadreLColoma.jpg/180px-PadreLColoma.jpg',\n",
       " 'https://upload.wikimedia.org/wikipedia/commons/thumb/6/6e/Phillip_Witcomb.jpg/214px-Phillip_Witcomb.jpg',\n",
       " 'https://upload.wikimedia.org/wikipedia/commons/thumb/c/c6/Portrait_Of_A_Little_Girl_by_Carroll_Jones_III.jpg/180px-Portrait_Of_A_Little_Girl_by_Carroll_Jones_III.jpg',\n",
       " 'https://upload.wikimedia.org/wikipedia/commons/thumb/b/b5/Poyeccion.JPG/155px-Poyeccion.JPG',\n",
       " 'https://upload.wikimedia.org/wikipedia/commons/thumb/3/3f/RamadanRamadani.jpg/169px-RamadanRamadani.jpg',\n",
       " 'https://upload.wikimedia.org/wikipedia/commons/thumb/5/5a/RetratoBernardoehijo.jpg/240px-RetratoBernardoehijo.jpg',\n",
       " 'https://upload.wikimedia.org/wikipedia/commons/thumb/8/8e/Rosa_Boheur_Head_of_a_Bull.jpg/240px-Rosa_Boheur_Head_of_a_Bull.jpg',\n",
       " 'https://upload.wikimedia.org/wikipedia/commons/thumb/8/81/Separate_Skies_by_Carroll_N._Jones_III.jpg/240px-Separate_Skies_by_Carroll_N._Jones_III.jpg',\n",
       " 'https://upload.wikimedia.org/wikipedia/commons/thumb/e/e2/Sitting_Bridgette1.jpg/240px-Sitting_Bridgette1.jpg',\n",
       " 'https://upload.wikimedia.org/wikipedia/commons/thumb/5/5b/Stroke_II.jpg/173px-Stroke_II.jpg',\n",
       " 'https://upload.wikimedia.org/wikipedia/commons/thumb/9/9f/Telefonkabine_Locarno_Willi_Oertig.JPG/144px-Telefonkabine_Locarno_Willi_Oertig.JPG',\n",
       " 'https://upload.wikimedia.org/wikipedia/commons/thumb/5/53/The_%22A_Love_Remembered%22_bronze_sculpture_was_sculpted_by_artist_Oceana_Rain_Stuart_.jpg/135px-The_%22A_Love_Remembered%22_bronze_sculpture_was_sculpted_by_artist_Oceana_Rain_Stuart_.jpg',\n",
       " 'https://upload.wikimedia.org/wikipedia/commons/thumb/d/d8/The_%22Eternal_Rebirth%22_bronze_sculpture_was_sculpted_by_artist_Oceana_Rain_Stuart.jpg/240px-The_%22Eternal_Rebirth%22_bronze_sculpture_was_sculpted_by_artist_Oceana_Rain_Stuart.jpg',\n",
       " 'https://upload.wikimedia.org/wikipedia/commons/thumb/c/ce/The_%22Eternal_Warrior%22_bronze_sculpture_was_sculpted_by_artist%3B_Oceana_Rain_Stuart.jpg/160px-The_%22Eternal_Warrior%22_bronze_sculpture_was_sculpted_by_artist%3B_Oceana_Rain_Stuart.jpg',\n",
       " 'https://upload.wikimedia.org/wikipedia/commons/thumb/f/f0/TheFallbyStephanieDeshpande.jpg/240px-TheFallbyStephanieDeshpande.jpg',\n",
       " 'https://upload.wikimedia.org/wikipedia/commons/thumb/8/8b/Theree_apples_with_aluminum_foil_fs.jpg/240px-Theree_apples_with_aluminum_foil_fs.jpg',\n",
       " 'https://upload.wikimedia.org/wikipedia/commons/thumb/8/84/Tia%2C_dad.jpg/153px-Tia%2C_dad.jpg',\n",
       " 'https://upload.wikimedia.org/wikipedia/commons/thumb/6/64/Tom%C3%A1s_Meraz.jpeg/240px-Tom%C3%A1s_Meraz.jpeg',\n",
       " 'https://upload.wikimedia.org/wikipedia/commons/thumb/c/cf/Un_Deuil_by_Daniel_Ridgway_Knight.jpg/240px-Un_Deuil_by_Daniel_Ridgway_Knight.jpg',\n",
       " 'https://upload.wikimedia.org/wikipedia/commons/thumb/a/a9/Walter_Tandy_Murch_Retrospective_at_the_Brooklyn_Museum_1967-1968_2.jpg/240px-Walter_Tandy_Murch_Retrospective_at_the_Brooklyn_Museum_1967-1968_2.jpg',\n",
       " 'https://upload.wikimedia.org/wikipedia/commons/thumb/5/54/Walter_Tandy_Murch_Retrospective_at_the_Brooklyn_Museum_1967-1968_3.jpg/240px-Walter_Tandy_Murch_Retrospective_at_the_Brooklyn_Museum_1967-1968_3.jpg',\n",
       " 'https://upload.wikimedia.org/wikipedia/commons/thumb/4/40/Walter_Tandy_Murch_Retrospective_at_the_Brooklyn_Museum_1967-1968_4.jpg/240px-Walter_Tandy_Murch_Retrospective_at_the_Brooklyn_Museum_1967-1968_4.jpg',\n",
       " 'https://upload.wikimedia.org/wikipedia/commons/thumb/6/61/Winter_-_Brendekilde.JPG/240px-Winter_-_Brendekilde.JPG',\n",
       " 'https://upload.wikimedia.org/wikipedia/commons/thumb/4/42/Www.liquidator.estate.tif/lossy-page1-240px-Www.liquidator.estate.tif.jpg',\n",
       " 'https://upload.wikimedia.org/wikipedia/commons/thumb/f/f9/J%C3%B3zef_Mehoffer_-_Dziewczyna_wiejska.jpg/170px-J%C3%B3zef_Mehoffer_-_Dziewczyna_wiejska.jpg',\n",
       " 'https://upload.wikimedia.org/wikipedia/commons/thumb/0/0d/%D0%A4%D0%B5%D1%80%D0%B0%D0%BF%D0%BE%D0%BD%D1%82%D0%BE%D0%B2-%D0%BC%D0%BE%D0%BD%D0%B0%D1%81%D1%82%D1%8B%D1%80%D1%8C-%D1%85%D0%BE%D0%BB%D1%81%D1%82-.jpg/240px-%D0%A4%D0%B5%D1%80%D0%B0%D0%BF%D0%BE%D0%BD%D1%82%D0%BE%D0%B2-%D0%BC%D0%BE%D0%BD%D0%B0%D1%81%D1%82%D1%8B%D1%80%D1%8C-%D1%85%D0%BE%D0%BB%D1%81%D1%82-.jpg',\n",
       " '',\n",
       " '/static/images/wikimedia-button-2x.png',\n",
       " '/static/images/poweredby_mediawiki_176x62.png']"
      ]
     },
     "execution_count": 8,
     "metadata": {},
     "output_type": "execute_result"
    }
   ],
   "source": [
    "url_list"
   ]
  },
  {
   "cell_type": "markdown",
   "metadata": {},
   "source": [
    "# end of scrape"
   ]
  },
  {
   "cell_type": "code",
   "execution_count": null,
   "metadata": {
    "collapsed": true
   },
   "outputs": [],
   "source": []
  }
 ],
 "metadata": {
  "kernelspec": {
   "display_name": "specialization",
   "language": "python",
   "name": "specialization"
  },
  "language_info": {
   "codemirror_mode": {
    "name": "ipython",
    "version": 2
   },
   "file_extension": ".py",
   "mimetype": "text/x-python",
   "name": "python",
   "nbconvert_exporter": "python",
   "pygments_lexer": "ipython2",
   "version": "2.7.13"
  }
 },
 "nbformat": 4,
 "nbformat_minor": 1
}
