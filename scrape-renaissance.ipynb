{
 "cells": [
  {
   "cell_type": "code",
   "execution_count": 1,
   "metadata": {
    "collapsed": true
   },
   "outputs": [],
   "source": [
    "#scrapes Renaissance Paintings on Wikimedia, stores all images as jpeg links in url_list at bottom\n",
    "\n",
    "import cv2\n",
    "from bs4 import BeautifulSoup\n",
    "import requests"
   ]
  },
  {
   "cell_type": "code",
   "execution_count": 2,
   "metadata": {
    "collapsed": false
   },
   "outputs": [],
   "source": [
    "r  = requests.get(\"https://commons.wikimedia.org/wiki/Renaissance_paintings\")\n",
    "\n",
    "data = r.text\n",
    "\n",
    "soup = BeautifulSoup(data, \"html.parser\")"
   ]
  },
  {
   "cell_type": "code",
   "execution_count": 3,
   "metadata": {
    "collapsed": false
   },
   "outputs": [],
   "source": [
    "imgBank = soup.find_all(\"img\")"
   ]
  },
  {
   "cell_type": "code",
   "execution_count": 4,
   "metadata": {
    "collapsed": false
   },
   "outputs": [],
   "source": [
    "st = str(imgBank[0])"
   ]
  },
  {
   "cell_type": "code",
   "execution_count": 5,
   "metadata": {
    "collapsed": false
   },
   "outputs": [
    {
     "name": "stdout",
     "output_type": "stream",
     "text": [
      "https://upload.wikimedia.org/wikipedia/commons/thumb/e/e2/Fra_Angelico_046.jpg/196px-Fra_Angelico_046.jpg\n"
     ]
    }
   ],
   "source": [
    "def find_between( s, first, last ):\n",
    "    try:\n",
    "        start = s.index( first ) + len( first )\n",
    "        end = s.index( last, start )\n",
    "        return s[start:end]\n",
    "    except ValueError:\n",
    "        return \"\"\n",
    "\n",
    "def find_between_r( s, first, last ):\n",
    "    try:\n",
    "        start = s.rindex( first ) + len( first )\n",
    "        end = s.rindex( last, start )\n",
    "        return s[start:end]\n",
    "    except ValueError:\n",
    "        return \"\"\n",
    "\n",
    "\n",
    "print find_between( st, \"1.5x, \", ' 2x' )\n"
   ]
  },
  {
   "cell_type": "code",
   "execution_count": 6,
   "metadata": {
    "collapsed": false
   },
   "outputs": [],
   "source": [
    "url_list = []\n",
    "for i in range(len(imgBank)):\n",
    "    st = str(imgBank[i])\n",
    "    url_list.append(find_between( st, \"1.5x, \", ' 2x' ))"
   ]
  },
  {
   "cell_type": "code",
   "execution_count": 7,
   "metadata": {
    "collapsed": false
   },
   "outputs": [
    {
     "data": {
      "text/plain": [
       "161"
      ]
     },
     "execution_count": 7,
     "metadata": {},
     "output_type": "execute_result"
    }
   ],
   "source": [
    "len(url_list)"
   ]
  },
  {
   "cell_type": "code",
   "execution_count": 8,
   "metadata": {
    "collapsed": false
   },
   "outputs": [
    {
     "data": {
      "text/plain": [
       "['https://upload.wikimedia.org/wikipedia/commons/thumb/e/e2/Fra_Angelico_046.jpg/196px-Fra_Angelico_046.jpg',\n",
       " 'https://upload.wikimedia.org/wikipedia/commons/thumb/f/f9/Piero_della_Francesca_011.jpg/175px-Piero_della_Francesca_011.jpg',\n",
       " 'https://upload.wikimedia.org/wikipedia/commons/thumb/1/13/Masaccio_Adam_and_Eve_detail.jpg/178px-Masaccio_Adam_and_Eve_detail.jpg',\n",
       " 'https://upload.wikimedia.org/wikipedia/commons/thumb/6/61/Paolo_Uccello_062.jpg/240px-Paolo_Uccello_062.jpg',\n",
       " 'https://upload.wikimedia.org/wikipedia/commons/thumb/a/a3/Tomyris-Castagno.jpg/151px-Tomyris-Castagno.jpg',\n",
       " 'https://upload.wikimedia.org/wikipedia/commons/thumb/2/28/Filippino_Lippi_001.jpg/199px-Filippino_Lippi_001.jpg',\n",
       " 'https://upload.wikimedia.org/wikipedia/commons/thumb/b/b6/Gozzoli_z02.jpg/180px-Gozzoli_z02.jpg',\n",
       " 'https://upload.wikimedia.org/wikipedia/commons/thumb/f/f1/Domenico_Ghirlandaio%2C_Cappella_Sassetti%2C_Resurrezione_del_fanciullo%2C_dettaglio_2%2C_1485_circa.jpg/240px-Domenico_Ghirlandaio%2C_Cappella_Sassetti%2C_Resurrezione_del_fanciullo%2C_dettaglio_2%2C_1485_circa.jpg',\n",
       " 'https://upload.wikimedia.org/wikipedia/commons/thumb/e/e3/Pietro_Perugino_075.jpg/182px-Pietro_Perugino_075.jpg',\n",
       " 'https://upload.wikimedia.org/wikipedia/commons/thumb/d/d0/Pintoricchio_and_assistant_-_Madonna_Adoring_the_Child%2C_c._1500.jpg/182px-Pintoricchio_and_assistant_-_Madonna_Adoring_the_Child%2C_c._1500.jpg',\n",
       " 'https://upload.wikimedia.org/wikipedia/commons/thumb/b/ba/Andrea_Mantegna_022.jpg/240px-Andrea_Mantegna_022.jpg',\n",
       " 'https://upload.wikimedia.org/wikipedia/commons/thumb/0/04/Cosm%C3%A8_Tura_021.jpg/91px-Cosm%C3%A8_Tura_021.jpg',\n",
       " 'https://upload.wikimedia.org/wikipedia/commons/thumb/0/02/Del_Cossa_Triumph_of_Minerva_March_Needlwork.jpg/232px-Del_Cossa_Triumph_of_Minerva_March_Needlwork.jpg',\n",
       " 'https://upload.wikimedia.org/wikipedia/commons/thumb/7/73/Accademia_-_Madonna_con_Bambino_tra_le_sante_Caterina_e_Maria_Maddalena_-_Giovanni_Bellini_-_Cat_613.jpg/240px-Accademia_-_Madonna_con_Bambino_tra_le_sante_Caterina_e_Maria_Maddalena_-_Giovanni_Bellini_-_Cat_613.jpg',\n",
       " 'https://upload.wikimedia.org/wikipedia/commons/thumb/3/3f/Antonello_da_Messina_033.jpg/175px-Antonello_da_Messina_033.jpg',\n",
       " 'https://upload.wikimedia.org/wikipedia/commons/thumb/c/c3/Leonardo_da_Vinci_%28attrib%29-_la_Belle_Ferroniere.jpg/169px-Leonardo_da_Vinci_%28attrib%29-_la_Belle_Ferroniere.jpg',\n",
       " 'https://upload.wikimedia.org/wikipedia/commons/thumb/c/cf/Last_judgement.jpg/140px-Last_judgement.jpg',\n",
       " 'https://upload.wikimedia.org/wikipedia/commons/thumb/b/b1/Raffaello_Madonna_Cowper.jpg/176px-Raffaello_Madonna_Cowper.jpg',\n",
       " 'https://upload.wikimedia.org/wikipedia/commons/thumb/f/fc/Andrea_del_Sarto_009.jpg/231px-Andrea_del_Sarto_009.jpg',\n",
       " 'https://upload.wikimedia.org/wikipedia/commons/thumb/f/f0/Jacopo_Pontormo_010.jpg/176px-Jacopo_Pontormo_010.jpg',\n",
       " 'https://upload.wikimedia.org/wikipedia/commons/thumb/b/ba/Angelo_Bronzino_026.jpg/196px-Angelo_Bronzino_026.jpg',\n",
       " 'https://upload.wikimedia.org/wikipedia/commons/thumb/0/00/Giorgio_Vasar_retour_id%C3%A9alis%C3%A9_de_Gr%C3%A9goire_XI_%C3%A0_Rome.jpg/240px-Giorgio_Vasar_retour_id%C3%A9alis%C3%A9_de_Gr%C3%A9goire_XI_%C3%A0_Rome.jpg',\n",
       " 'https://upload.wikimedia.org/wikipedia/commons/thumb/1/12/Correggio_045.jpg/196px-Correggio_045.jpg',\n",
       " 'https://upload.wikimedia.org/wikipedia/commons/thumb/1/1e/Parmigianino_009.jpg/176px-Parmigianino_009.jpg',\n",
       " 'https://upload.wikimedia.org/wikipedia/commons/thumb/7/7b/Venus_dormida.jpg/240px-Venus_dormida.jpg',\n",
       " 'https://upload.wikimedia.org/wikipedia/commons/thumb/1/1b/Tizian_toaleta_mlade_zeny.jpg/226px-Tizian_toaleta_mlade_zeny.jpg',\n",
       " 'https://upload.wikimedia.org/wikipedia/commons/thumb/e/ef/Paolo_Veronese_018.jpg/185px-Paolo_Veronese_018.jpg',\n",
       " 'https://upload.wikimedia.org/wikipedia/commons/thumb/0/0e/Tintoretto%2C_Jacopo_-_Christ_at_the_Sea_of_Galilee.jpg/240px-Tintoretto%2C_Jacopo_-_Christ_at_the_Sea_of_Galilee.jpg',\n",
       " 'https://upload.wikimedia.org/wikipedia/commons/thumb/4/4a/Adriaen_Isenbrant102.JPG/240px-Adriaen_Isenbrant102.JPG',\n",
       " 'https://upload.wikimedia.org/wikipedia/commons/thumb/8/8f/Madonna_and_Child.jpg/165px-Madonna_and_Child.jpg',\n",
       " 'https://upload.wikimedia.org/wikipedia/commons/thumb/2/27/Adriaen_Isenbrant_002.jpg/165px-Adriaen_Isenbrant_002.jpg',\n",
       " 'https://upload.wikimedia.org/wikipedia/commons/thumb/8/8a/Adriaen_Isenbrant_001.jpg/164px-Adriaen_Isenbrant_001.jpg',\n",
       " 'https://upload.wikimedia.org/wikipedia/commons/thumb/8/81/Mary_Magdalene_Ambrosius_Benson.jpg/191px-Mary_Magdalene_Ambrosius_Benson.jpg',\n",
       " 'https://upload.wikimedia.org/wikipedia/commons/thumb/5/5e/Mary_Magdalene_Reading_Ambrosius_Benson.jpg/194px-Mary_Magdalene_Reading_Ambrosius_Benson.jpg',\n",
       " 'https://upload.wikimedia.org/wikipedia/commons/thumb/0/04/Virgin_and_Child_with_Saints_Ambrosius_Benson.jpg/196px-Virgin_and_Child_with_Saints_Ambrosius_Benson.jpg',\n",
       " 'https://upload.wikimedia.org/wikipedia/commons/thumb/5/5c/Rest_on_the_Flight_into_Egypt.jpg/162px-Rest_on_the_Flight_into_Egypt.jpg',\n",
       " 'https://upload.wikimedia.org/wikipedia/commons/thumb/8/8e/Quentin_Massys_-_Portrait_of_a_Man_-_National_Gallery_of_Scotland.jpg/194px-Quentin_Massys_-_Portrait_of_a_Man_-_National_Gallery_of_Scotland.jpg',\n",
       " 'https://upload.wikimedia.org/wikipedia/commons/thumb/1/18/Quentin_Massys-The_Virgin_and_Child%2C1529%2CMus%C3%A9e_du_Louvre%2C_Paris.jpg/171px-Quentin_Massys-The_Virgin_and_Child%2C1529%2CMus%C3%A9e_du_Louvre%2C_Paris.jpg',\n",
       " 'https://upload.wikimedia.org/wikipedia/commons/thumb/7/70/Quentin_Massys-The_Adoration_of_the_Magi-1526%2CMetropolitan_Museum_of_Art%2CNew_York.jpg/178px-Quentin_Massys-The_Adoration_of_the_Magi-1526%2CMetropolitan_Museum_of_Art%2CNew_York.jpg',\n",
       " 'https://upload.wikimedia.org/wikipedia/commons/thumb/0/0a/Quentin_Massys_009.jpg/240px-Quentin_Massys_009.jpg',\n",
       " 'https://upload.wikimedia.org/wikipedia/commons/thumb/1/15/Bernard_Van_Orley101.JPG/194px-Bernard_Van_Orley101.JPG',\n",
       " 'https://upload.wikimedia.org/wikipedia/commons/thumb/d/d6/Albrecht_D%C3%BCrer_-_Bernard_von_Reesen_-_Gem%C3%A4ldegalerie_Alte_Meister_Dresden.jpg/166px-Albrecht_D%C3%BCrer_-_Bernard_von_Reesen_-_Gem%C3%A4ldegalerie_Alte_Meister_Dresden.jpg',\n",
       " 'https://upload.wikimedia.org/wikipedia/commons/thumb/3/30/Bernaerd_van_Orley_005.jpg/160px-Bernaerd_van_Orley_005.jpg',\n",
       " 'https://upload.wikimedia.org/wikipedia/commons/thumb/0/03/Bernaerd_van_Orley_002.jpg/164px-Bernaerd_van_Orley_002.jpg',\n",
       " 'https://upload.wikimedia.org/wikipedia/commons/thumb/4/4a/Isabella_of_Spain_Denmark.jpg/191px-Isabella_of_Spain_Denmark.jpg',\n",
       " 'https://upload.wikimedia.org/wikipedia/commons/thumb/9/90/Jan_Gossaert_007.jpg/185px-Jan_Gossaert_007.jpg',\n",
       " 'https://upload.wikimedia.org/wikipedia/commons/thumb/a/af/Jan_Gossaert_003.jpg/199px-Jan_Gossaert_003.jpg',\n",
       " 'https://upload.wikimedia.org/wikipedia/commons/thumb/7/79/Jan_Gossaert_004.jpg/202px-Jan_Gossaert_004.jpg',\n",
       " 'https://upload.wikimedia.org/wikipedia/commons/thumb/4/48/Adao_eva.PNG/160px-Adao_eva.PNG',\n",
       " 'https://upload.wikimedia.org/wikipedia/commons/thumb/b/b5/FlorisvanEgmond.jpg/175px-FlorisvanEgmond.jpg',\n",
       " 'https://upload.wikimedia.org/wikipedia/commons/thumb/6/67/Jan_Gossaert_010.jpg/180px-Jan_Gossaert_010.jpg',\n",
       " 'https://upload.wikimedia.org/wikipedia/commons/thumb/9/90/Jan_Gossaert_005.jpg/211px-Jan_Gossaert_005.jpg',\n",
       " 'https://upload.wikimedia.org/wikipedia/commons/thumb/c/ca/Bernaerd_van_Orley_007.jpg/175px-Bernaerd_van_Orley_007.jpg',\n",
       " 'https://upload.wikimedia.org/wikipedia/commons/thumb/2/20/Bernaerd_van_Orley_001.jpg/184px-Bernaerd_van_Orley_001.jpg',\n",
       " 'https://upload.wikimedia.org/wikipedia/commons/thumb/3/33/Bernaerd_van_Orley_010.jpg/211px-Bernaerd_van_Orley_010.jpg',\n",
       " 'https://upload.wikimedia.org/wikipedia/commons/thumb/f/ff/Charles_V._-_after_Bernaerd_van_Orley_-_depot_Louvre-Mus%C3%A9e_de_Brou%2C_Bourg-en-Bresse.jpg/164px-Charles_V._-_after_Bernaerd_van_Orley_-_depot_Louvre-Mus%C3%A9e_de_Brou%2C_Bourg-en-Bresse.jpg',\n",
       " 'https://upload.wikimedia.org/wikipedia/commons/thumb/0/00/Christina_of_Denmark.jpg/182px-Christina_of_Denmark.jpg',\n",
       " 'https://upload.wikimedia.org/wikipedia/commons/thumb/7/79/Raphael_Coxie_-_Het_Laatste_Oordeel.JPG/240px-Raphael_Coxie_-_Het_Laatste_Oordeel.JPG',\n",
       " 'https://upload.wikimedia.org/wikipedia/commons/thumb/f/f3/Original_Sin_Michel_Coxcie.jpg/74px-Original_Sin_Michel_Coxcie.jpg',\n",
       " 'https://upload.wikimedia.org/wikipedia/commons/thumb/0/03/Saint_Cecilia_Michel_Coxcie.jpg/219px-Saint_Cecilia_Michel_Coxcie.jpg',\n",
       " 'https://upload.wikimedia.org/wikipedia/commons/thumb/f/f3/Joachim_Patinir_006.jpg/240px-Joachim_Patinir_006.jpg',\n",
       " 'https://upload.wikimedia.org/wikipedia/commons/thumb/2/2e/PatenierChristopher.jpg/240px-PatenierChristopher.jpg',\n",
       " 'https://upload.wikimedia.org/wikipedia/commons/thumb/6/6a/Joachim_Patinir_002.jpg/240px-Joachim_Patinir_002.jpg',\n",
       " 'https://upload.wikimedia.org/wikipedia/commons/thumb/1/15/Joachim_Patinir_008.jpg/240px-Joachim_Patinir_008.jpg',\n",
       " 'https://upload.wikimedia.org/wikipedia/commons/thumb/a/ab/Anthonis_Mor_009.jpg/190px-Anthonis_Mor_009.jpg',\n",
       " 'https://upload.wikimedia.org/wikipedia/commons/thumb/3/32/Bottega_di_Anthonis_Mor_-_Ritratto_di_Maria_di_Portogallo.jpg/172px-Bottega_di_Anthonis_Mor_-_Ritratto_di_Maria_di_Portogallo.jpg',\n",
       " 'https://upload.wikimedia.org/wikipedia/commons/thumb/6/69/Anthonis_Mor_004.jpg/201px-Anthonis_Mor_004.jpg',\n",
       " 'https://upload.wikimedia.org/wikipedia/commons/thumb/f/fe/Anthonis_Mor_001.jpg/183px-Anthonis_Mor_001.jpg',\n",
       " 'https://upload.wikimedia.org/wikipedia/commons/thumb/7/73/Pieter_Bruegel_d._%C3%84._092.jpg/198px-Pieter_Bruegel_d._%C3%84._092.jpg',\n",
       " 'https://upload.wikimedia.org/wikipedia/commons/thumb/e/e9/Pieter_Bruegel_d._%C3%84._030.jpg/240px-Pieter_Bruegel_d._%C3%84._030.jpg',\n",
       " 'https://upload.wikimedia.org/wikipedia/commons/thumb/9/97/Pieter_Bruegel_d._%C3%84._064.jpg/199px-Pieter_Bruegel_d._%C3%84._064.jpg',\n",
       " 'https://upload.wikimedia.org/wikipedia/commons/thumb/a/ad/Pieter_Bruegel_d._%C3%84._105.jpg/196px-Pieter_Bruegel_d._%C3%84._105.jpg',\n",
       " 'https://upload.wikimedia.org/wikipedia/commons/thumb/a/ab/Hieronymus_Bosch_041.jpg/211px-Hieronymus_Bosch_041.jpg',\n",
       " 'https://upload.wikimedia.org/wikipedia/commons/thumb/d/d9/Hieronymus_Bosch_018.jpg/198px-Hieronymus_Bosch_018.jpg',\n",
       " 'https://upload.wikimedia.org/wikipedia/commons/thumb/f/fe/J._Bosch_Adoration_of_the_Magi_Triptych_%28detail_2%29.jpg/152px-J._Bosch_Adoration_of_the_Magi_Triptych_%28detail_2%29.jpg',\n",
       " 'https://upload.wikimedia.org/wikipedia/commons/thumb/b/bb/Hieronymus_Bosch_055.jpg/240px-Hieronymus_Bosch_055.jpg',\n",
       " 'https://upload.wikimedia.org/wikipedia/commons/thumb/0/0d/Pieter_Aertsen_014.jpg/240px-Pieter_Aertsen_014.jpg',\n",
       " 'https://upload.wikimedia.org/wikipedia/commons/thumb/2/2e/Pieter_Aertsen_005.jpg/240px-Pieter_Aertsen_005.jpg',\n",
       " 'https://upload.wikimedia.org/wikipedia/commons/thumb/c/c8/Pieter_Aertsen_013.jpg/240px-Pieter_Aertsen_013.jpg',\n",
       " 'https://upload.wikimedia.org/wikipedia/commons/thumb/4/44/Pieter_Aertsen_002.jpg/240px-Pieter_Aertsen_002.jpg',\n",
       " 'https://upload.wikimedia.org/wikipedia/commons/thumb/b/bd/Joachim_Beuckelaer_-_Slaughtered_Pig_-_WGA2122.jpg/171px-Joachim_Beuckelaer_-_Slaughtered_Pig_-_WGA2122.jpg',\n",
       " 'https://upload.wikimedia.org/wikipedia/commons/thumb/9/99/Joachim_Beuckelaer_-_Market_farmers.jpg/240px-Joachim_Beuckelaer_-_Market_farmers.jpg',\n",
       " 'https://upload.wikimedia.org/wikipedia/commons/thumb/6/62/Joachim_Beuckelaer_-_Keukensc%C3%A8ne_met_Christus_en_de_Emma%C3%BCsgangers.jpg/240px-Joachim_Beuckelaer_-_Keukensc%C3%A8ne_met_Christus_en_de_Emma%C3%BCsgangers.jpg',\n",
       " 'https://upload.wikimedia.org/wikipedia/commons/thumb/f/fe/Joachim_Beuckelaer_-_Market_woman.jpg/178px-Joachim_Beuckelaer_-_Market_woman.jpg',\n",
       " 'https://upload.wikimedia.org/wikipedia/commons/thumb/d/d6/Huybrecht_Beuckeleer_-_The_egg_seller.jpg/151px-Huybrecht_Beuckeleer_-_The_egg_seller.jpg',\n",
       " 'https://upload.wikimedia.org/wikipedia/commons/thumb/3/39/Huybrecht_Beuckeleer_-_De_Verloren_Zoon.jpg/240px-Huybrecht_Beuckeleer_-_De_Verloren_Zoon.jpg',\n",
       " 'https://upload.wikimedia.org/wikipedia/commons/thumb/8/89/Huybrecht_Beuckelaer_-_The_first_Passover_feast.jpg/224px-Huybrecht_Beuckelaer_-_The_first_Passover_feast.jpg',\n",
       " 'https://upload.wikimedia.org/wikipedia/commons/thumb/c/cb/Huybrecht_Beuckeleer_%28Attr.%29_-_Blackberries%2C_cherries%2C_pears%2C_melons_and_other_fruits%2C_parsnips%2C_bread%2C_cheese_and_a_waffle%2C_roemer%2C_tazza_and_salt_cellar_on_a_draped_table.jpg/240px-thumbnail.jpg',\n",
       " 'https://upload.wikimedia.org/wikipedia/commons/thumb/9/97/Lucas_van_Leyden_-_Verlobung_%28Koniklijk_Museum%29_-_600_dpi.jpg/240px-Lucas_van_Leyden_-_Verlobung_%28Koniklijk_Museum%29_-_600_dpi.jpg',\n",
       " 'https://upload.wikimedia.org/wikipedia/commons/thumb/4/45/Lucas_van_Leyden_-_Kartenlegerin_-_1200_dpi.jpg/240px-Lucas_van_Leyden_-_Kartenlegerin_-_1200_dpi.jpg',\n",
       " 'https://upload.wikimedia.org/wikipedia/commons/thumb/3/3d/Lucas_van_Leyden-aria_mit_dem_Kinde%2C_der_hl._Maria_Magdalena_und_einem_Stifter.jpg/240px-Lucas_van_Leyden-aria_mit_dem_Kinde%2C_der_hl._Maria_Magdalena_und_einem_Stifter.jpg',\n",
       " 'https://upload.wikimedia.org/wikipedia/commons/thumb/2/2e/Card_players_1.jpg/240px-Card_players_1.jpg',\n",
       " 'https://upload.wikimedia.org/wikipedia/commons/thumb/3/3c/Marten_van_Heemskerck_003.jpg/240px-Marten_van_Heemskerck_003.jpg',\n",
       " 'https://upload.wikimedia.org/wikipedia/commons/thumb/a/ae/Marten_van_Heemskerck_002.jpg/181px-Marten_van_Heemskerck_002.jpg',\n",
       " 'https://upload.wikimedia.org/wikipedia/commons/thumb/3/33/Self-portrait_with_the_Colosseum%2C_by_Maerten_van_Heemskerck.png/240px-Self-portrait_with_the_Colosseum%2C_by_Maerten_van_Heemskerck.png',\n",
       " 'https://upload.wikimedia.org/wikipedia/commons/thumb/4/4f/Marten_van_Heemskerck_001.jpg/164px-Marten_van_Heemskerck_001.jpg',\n",
       " 'https://upload.wikimedia.org/wikipedia/commons/thumb/f/f2/Frans_Hals_043.jpg/184px-Frans_Hals_043.jpg',\n",
       " 'https://upload.wikimedia.org/wikipedia/commons/thumb/5/53/Franshals.jpg/214px-Franshals.jpg',\n",
       " 'https://upload.wikimedia.org/wikipedia/commons/thumb/3/35/Frans_Hals-_Jester_with_a_Lute.JPG/210px-Frans_Hals-_Jester_with_a_Lute.JPG',\n",
       " 'https://upload.wikimedia.org/wikipedia/commons/thumb/3/34/Frans_Hals_023.jpg/199px-Frans_Hals_023.jpg',\n",
       " 'https://upload.wikimedia.org/wikipedia/commons/thumb/a/ab/Mathis_Gothart_Gr%C3%BCnewald_033.jpg/195px-Mathis_Gothart_Gr%C3%BCnewald_033.jpg',\n",
       " 'https://upload.wikimedia.org/wikipedia/commons/thumb/e/e0/Mathis_Gothart_Gr%C3%BCnewald_026.jpg/197px-Mathis_Gothart_Gr%C3%BCnewald_026.jpg',\n",
       " 'https://upload.wikimedia.org/wikipedia/commons/thumb/7/7a/Mathis_Gothart_Gr%C3%BCnewald_043.jpg/180px-Mathis_Gothart_Gr%C3%BCnewald_043.jpg',\n",
       " 'https://upload.wikimedia.org/wikipedia/commons/thumb/f/f4/Vierge_au_jardinet%2C_Ma%C3%AEtre_rh%C3%A9nan_anonyme%2C_Mus%C3%A9e_de_l%27Oeuvre_Notre-Dame.jpg/178px-Vierge_au_jardinet%2C_Ma%C3%AEtre_rh%C3%A9nan_anonyme%2C_Mus%C3%A9e_de_l%27Oeuvre_Notre-Dame.jpg',\n",
       " 'https://upload.wikimedia.org/wikipedia/commons/thumb/4/4c/Albrecht_D%C3%BCrer_049.jpg/205px-Albrecht_D%C3%BCrer_049.jpg',\n",
       " 'https://upload.wikimedia.org/wikipedia/commons/thumb/f/fd/Albrecht_D%C3%BCrer_050.jpg/201px-Albrecht_D%C3%BCrer_050.jpg',\n",
       " 'https://upload.wikimedia.org/wikipedia/commons/thumb/3/34/Albrecht_D%C3%BCrer_061.jpg/176px-Albrecht_D%C3%BCrer_061.jpg',\n",
       " 'https://upload.wikimedia.org/wikipedia/commons/thumb/1/16/Albrecht_D%C3%BCrer_100.jpg/195px-Albrecht_D%C3%BCrer_100.jpg',\n",
       " 'https://upload.wikimedia.org/wikipedia/commons/thumb/b/bf/Hans_Holbein_d.J._-_Portr%C3%A4t_eines_Mitgliedes_der_Familie_Wedigh.jpg/184px-Hans_Holbein_d.J._-_Portr%C3%A4t_eines_Mitgliedes_der_Familie_Wedigh.jpg',\n",
       " 'https://upload.wikimedia.org/wikipedia/commons/thumb/1/12/Hans_Holbein_d._J._034.jpg/186px-Hans_Holbein_d._J._034.jpg',\n",
       " 'https://upload.wikimedia.org/wikipedia/commons/thumb/1/14/Hans_Holbein_the_Younger_-_Jane_Seymour%2C_Queen_of_England_-_Google_Art_Project.jpg/149px-Hans_Holbein_the_Younger_-_Jane_Seymour%2C_Queen_of_England_-_Google_Art_Project.jpg',\n",
       " 'https://upload.wikimedia.org/wikipedia/commons/thumb/7/74/Holbein_-_henryhoward01.jpg/194px-Holbein_-_henryhoward01.jpg',\n",
       " 'https://upload.wikimedia.org/wikipedia/commons/thumb/f/ff/Katharina-von-Bora-04.jpg/146px-Katharina-von-Bora-04.jpg',\n",
       " 'https://upload.wikimedia.org/wikipedia/commons/thumb/b/b5/Cranach_-_Adam_and_Eve_1528.jpg/166px-Cranach_-_Adam_and_Eve_1528.jpg',\n",
       " 'https://upload.wikimedia.org/wikipedia/commons/thumb/2/23/Lucas_Cranach_d._%C3%84._062.jpg/240px-Lucas_Cranach_d._%C3%84._062.jpg',\n",
       " 'https://upload.wikimedia.org/wikipedia/commons/thumb/3/3d/Lucas_Cranach_d._A._025.jpg/116px-Lucas_Cranach_d._A._025.jpg',\n",
       " 'https://upload.wikimedia.org/wikipedia/commons/thumb/b/b1/Albrecht_Altdorfer_023.jpg/183px-Albrecht_Altdorfer_023.jpg',\n",
       " 'https://upload.wikimedia.org/wikipedia/commons/thumb/d/df/Albrecht_Altdorfer_013.jpg/212px-Albrecht_Altdorfer_013.jpg',\n",
       " 'https://upload.wikimedia.org/wikipedia/commons/thumb/5/5c/Albrecht_Altdorfer_007.jpg/170px-Albrecht_Altdorfer_007.jpg',\n",
       " 'https://upload.wikimedia.org/wikipedia/commons/thumb/f/f3/Albrecht_Altdorfer_-_Landschaft_mit_einem_Steg.jpg/199px-Albrecht_Altdorfer_-_Landschaft_mit_einem_Steg.jpg',\n",
       " 'https://upload.wikimedia.org/wikipedia/commons/thumb/2/28/Arcimboldo_Verano.jpg/193px-Arcimboldo_Verano.jpg',\n",
       " 'https://upload.wikimedia.org/wikipedia/commons/thumb/2/2b/Vertumnus_%C3%A5rstidernas_gud_m%C3%A5lad_av_Guiseppe_Arcimboldo_1591_-_Skoklosters_slott_-_91503.tif/lossy-page1-193px-Vertumnus_%C3%A5rstidernas_gud_m%C3%A5lad_av_Guiseppe_Arcimboldo_1591_-_Skoklosters_slott_-_91503.tif.jpg',\n",
       " 'https://upload.wikimedia.org/wikipedia/commons/thumb/b/b7/Giuseppe_Arcimboldi_004.jpg/179px-Giuseppe_Arcimboldi_004.jpg',\n",
       " 'https://upload.wikimedia.org/wikipedia/commons/thumb/c/c2/Arcimboldo_Summer_1563.jpg/181px-Arcimboldo_Summer_1563.jpg',\n",
       " 'https://upload.wikimedia.org/wikipedia/commons/thumb/b/be/Chenonceau_Diane_de_Poitiers.jpg/231px-Chenonceau_Diane_de_Poitiers.jpg',\n",
       " 'https://upload.wikimedia.org/wikipedia/commons/thumb/b/bc/Francesco_Primaticcio_001.jpg/165px-Francesco_Primaticcio_001.jpg',\n",
       " 'https://upload.wikimedia.org/wikipedia/commons/thumb/3/31/Francesco_Primaticcio_002.jpg/240px-Francesco_Primaticcio_002.jpg',\n",
       " 'https://upload.wikimedia.org/wikipedia/commons/thumb/1/1a/Francesco_Primaticcio_003.jpg/240px-Francesco_Primaticcio_003.jpg',\n",
       " 'https://upload.wikimedia.org/wikipedia/commons/thumb/f/f4/Niccol%C3%B2_dell%27_Abbate_-_Bildnis_einer_Dame.jpg/181px-Niccol%C3%B2_dell%27_Abbate_-_Bildnis_einer_Dame.jpg',\n",
       " 'https://upload.wikimedia.org/wikipedia/commons/thumb/c/c0/Niccol%C3%B2_dell%27_Abbate_005.jpg/240px-Niccol%C3%B2_dell%27_Abbate_005.jpg',\n",
       " 'https://upload.wikimedia.org/wikipedia/commons/thumb/f/f4/Niccol%C3%B2_dell%27_Abbate_001.jpg/169px-Niccol%C3%B2_dell%27_Abbate_001.jpg',\n",
       " 'https://upload.wikimedia.org/wikipedia/commons/thumb/b/b1/Niccol%C3%B2_dell%27_Abbate_004.jpg/240px-Niccol%C3%B2_dell%27_Abbate_004.jpg',\n",
       " 'https://upload.wikimedia.org/wikipedia/commons/thumb/a/a5/LeBaindeDianeClouet.jpg/240px-LeBaindeDianeClouet.jpg',\n",
       " 'https://upload.wikimedia.org/wikipedia/commons/thumb/3/3d/Hercule-Francois_Duke_of_Alencon.jpg/177px-Hercule-Francois_Duke_of_Alencon.jpg',\n",
       " 'https://upload.wikimedia.org/wikipedia/commons/thumb/1/14/Henri2.jpg/139px-Henri2.jpg',\n",
       " 'https://upload.wikimedia.org/wikipedia/commons/thumb/6/60/Elisabeth_of_Austria_France.jpg/168px-Elisabeth_of_Austria_France.jpg',\n",
       " 'https://upload.wikimedia.org/wikipedia/commons/thumb/7/79/MadeleinedeValois.jpg/194px-MadeleinedeValois.jpg',\n",
       " 'https://upload.wikimedia.org/wikipedia/commons/thumb/0/02/Maryofguise1.jpg/197px-Maryofguise1.jpg',\n",
       " 'https://upload.wikimedia.org/wikipedia/commons/thumb/c/c8/Portrait_of_James_V_of_Scotland_%281512_-_1542%29.jpg/205px-Portrait_of_James_V_of_Scotland_%281512_-_1542%29.jpg',\n",
       " 'https://upload.wikimedia.org/wikipedia/commons/thumb/e/eb/Portrait_of_a_Man_-_attributed_to_Corneille_de_Lyon.jpg/187px-Portrait_of_a_Man_-_attributed_to_Corneille_de_Lyon.jpg',\n",
       " 'https://upload.wikimedia.org/wikipedia/commons/thumb/a/a1/Saint_mammes_and_Duke_Alexander.jpg/240px-Saint_mammes_and_Duke_Alexander.jpg',\n",
       " 'https://upload.wikimedia.org/wikipedia/commons/thumb/0/04/Eva_prima_pandora.jpg/240px-Eva_prima_pandora.jpg',\n",
       " 'https://upload.wikimedia.org/wikipedia/commons/thumb/4/41/Luis_de_Morales_008.jpg/170px-Luis_de_Morales_008.jpg',\n",
       " 'https://upload.wikimedia.org/wikipedia/commons/thumb/9/9b/Luis_de_Morales_009.jpg/164px-Luis_de_Morales_009.jpg',\n",
       " 'https://upload.wikimedia.org/wikipedia/commons/thumb/8/8e/Luis_de_Morales_010.jpg/160px-Luis_de_Morales_010.jpg',\n",
       " 'https://upload.wikimedia.org/wikipedia/commons/thumb/d/d6/Luis_de_Morales_011.jpg/178px-Luis_de_Morales_011.jpg',\n",
       " 'https://upload.wikimedia.org/wikipedia/commons/thumb/9/93/Alonso_S%C3%A1nchez_Coello_005.jpg/101px-Alonso_S%C3%A1nchez_Coello_005.jpg',\n",
       " 'https://upload.wikimedia.org/wikipedia/commons/thumb/d/d6/Alonso_S%C3%A1nchez_Coello_006.jpg/114px-Alonso_S%C3%A1nchez_Coello_006.jpg',\n",
       " 'https://upload.wikimedia.org/wikipedia/commons/thumb/8/80/Alonso_S%C3%A1nchez_Coello_007.jpg/157px-Alonso_S%C3%A1nchez_Coello_007.jpg',\n",
       " 'https://upload.wikimedia.org/wikipedia/commons/thumb/0/04/Alonso_S%C3%A1nchez_Coello_009.jpg/191px-Alonso_S%C3%A1nchez_Coello_009.jpg',\n",
       " 'https://upload.wikimedia.org/wikipedia/commons/thumb/5/5d/Juan_Pantoja_de_la_Cruz_001.jpg/153px-Juan_Pantoja_de_la_Cruz_001.jpg',\n",
       " 'https://upload.wikimedia.org/wikipedia/commons/thumb/e/e4/Juan_Pantoja_de_la_Cruz_002.jpg/116px-Juan_Pantoja_de_la_Cruz_002.jpg',\n",
       " 'https://upload.wikimedia.org/wikipedia/commons/thumb/e/e4/Juan_Pantoja_de_la_Cruz_003.jpg/210px-Juan_Pantoja_de_la_Cruz_003.jpg',\n",
       " 'https://upload.wikimedia.org/wikipedia/commons/thumb/4/46/Juan_Pantoja_de_la_Cruz_004.jpg/187px-Juan_Pantoja_de_la_Cruz_004.jpg',\n",
       " 'https://upload.wikimedia.org/wikipedia/commons/thumb/1/1b/El_Greco_042.jpg/240px-El_Greco_042.jpg',\n",
       " 'https://upload.wikimedia.org/wikipedia/commons/thumb/d/d7/El_Greco_12.jpg/222px-El_Greco_12.jpg',\n",
       " 'https://upload.wikimedia.org/wikipedia/commons/thumb/b/bb/El_Greco_13.jpg/240px-El_Greco_13.jpg',\n",
       " 'https://upload.wikimedia.org/wikipedia/commons/thumb/f/fc/El_Greco_14.jpg/240px-El_Greco_14.jpg',\n",
       " '',\n",
       " '/static/images/wikimedia-button-2x.png',\n",
       " '/static/images/poweredby_mediawiki_176x62.png']"
      ]
     },
     "execution_count": 8,
     "metadata": {},
     "output_type": "execute_result"
    }
   ],
   "source": [
    "url_list"
   ]
  },
  {
   "cell_type": "markdown",
   "metadata": {},
   "source": [
    "# end of scrape"
   ]
  },
  {
   "cell_type": "code",
   "execution_count": null,
   "metadata": {
    "collapsed": true
   },
   "outputs": [],
   "source": []
  }
 ],
 "metadata": {
  "kernelspec": {
   "display_name": "specialization",
   "language": "python",
   "name": "specialization"
  },
  "language_info": {
   "codemirror_mode": {
    "name": "ipython",
    "version": 2
   },
   "file_extension": ".py",
   "mimetype": "text/x-python",
   "name": "python",
   "nbconvert_exporter": "python",
   "pygments_lexer": "ipython2",
   "version": "2.7.13"
  }
 },
 "nbformat": 4,
 "nbformat_minor": 1
}
