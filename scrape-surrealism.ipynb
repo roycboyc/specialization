{
 "cells": [
  {
   "cell_type": "code",
   "execution_count": 1,
   "metadata": {
    "collapsed": true
   },
   "outputs": [],
   "source": [
    "#scrapes Surrealist Paintings on Wikimedia, stores all images as jpeg links in url_list at bottom\n",
    "\n",
    "import cv2\n",
    "from bs4 import BeautifulSoup\n",
    "import requests"
   ]
  },
  {
   "cell_type": "code",
   "execution_count": 2,
   "metadata": {
    "collapsed": false
   },
   "outputs": [],
   "source": [
    "r  = requests.get(\"https://commons.wikimedia.org/wiki/Category:Surrealist_paintings\")\n",
    "\n",
    "data = r.text\n",
    "\n",
    "soup = BeautifulSoup(data, \"html.parser\")"
   ]
  },
  {
   "cell_type": "code",
   "execution_count": 3,
   "metadata": {
    "collapsed": false
   },
   "outputs": [],
   "source": [
    "imgBank = soup.find_all(\"img\")"
   ]
  },
  {
   "cell_type": "code",
   "execution_count": 4,
   "metadata": {
    "collapsed": false
   },
   "outputs": [],
   "source": [
    "st = str(imgBank[0])"
   ]
  },
  {
   "cell_type": "code",
   "execution_count": 5,
   "metadata": {
    "collapsed": false
   },
   "outputs": [
    {
     "name": "stdout",
     "output_type": "stream",
     "text": [
      "https://upload.wikimedia.org/wikipedia/commons/thumb/e/e3/%22Allereerste_Gedachten%22_Willem_den_Broeder.png/180px-%22Allereerste_Gedachten%22_Willem_den_Broeder.png\n"
     ]
    }
   ],
   "source": [
    "def find_between( s, first, last ):\n",
    "    try:\n",
    "        start = s.index( first ) + len( first )\n",
    "        end = s.index( last, start )\n",
    "        return s[start:end]\n",
    "    except ValueError:\n",
    "        return \"\"\n",
    "\n",
    "def find_between_r( s, first, last ):\n",
    "    try:\n",
    "        start = s.rindex( first ) + len( first )\n",
    "        end = s.rindex( last, start )\n",
    "        return s[start:end]\n",
    "    except ValueError:\n",
    "        return \"\"\n",
    "\n",
    "\n",
    "print find_between( st, \"1.5x, \", ' 2x' )\n"
   ]
  },
  {
   "cell_type": "code",
   "execution_count": 6,
   "metadata": {
    "collapsed": false
   },
   "outputs": [],
   "source": [
    "url_list = []\n",
    "for i in range(len(imgBank)):\n",
    "    st = str(imgBank[i])\n",
    "    url_list.append(find_between( st, \"1.5x, \", ' 2x' ))"
   ]
  },
  {
   "cell_type": "code",
   "execution_count": 7,
   "metadata": {
    "collapsed": false
   },
   "outputs": [
    {
     "data": {
      "text/plain": [
       "162"
      ]
     },
     "execution_count": 7,
     "metadata": {},
     "output_type": "execute_result"
    }
   ],
   "source": [
    "len(url_list)"
   ]
  },
  {
   "cell_type": "code",
   "execution_count": 10,
   "metadata": {
    "collapsed": false
   },
   "outputs": [
    {
     "data": {
      "text/plain": [
       "['https://upload.wikimedia.org/wikipedia/commons/thumb/e/e3/%22Allereerste_Gedachten%22_Willem_den_Broeder.png/180px-%22Allereerste_Gedachten%22_Willem_den_Broeder.png',\n",
       " 'https://upload.wikimedia.org/wikipedia/commons/thumb/d/d0/%22BrainChain%22_Willem_den_Broeder_2001_.png/240px-%22BrainChain%22_Willem_den_Broeder_2001_.png',\n",
       " 'https://upload.wikimedia.org/wikipedia/commons/thumb/3/3c/04_Foto02_IlRattoDeiTre.jpeg/240px-04_Foto02_IlRattoDeiTre.jpeg',\n",
       " 'https://upload.wikimedia.org/wikipedia/commons/thumb/1/1d/08_Foto06_IlRaid.jpeg/240px-08_Foto06_IlRaid.jpeg',\n",
       " 'https://upload.wikimedia.org/wikipedia/commons/thumb/4/4f/10_Foto08_QuantiQuantiMorti.jpeg/239px-10_Foto08_QuantiQuantiMorti.jpeg',\n",
       " 'https://upload.wikimedia.org/wikipedia/commons/thumb/4/45/100_4419.jpg/240px-100_4419.jpg',\n",
       " 'https://upload.wikimedia.org/wikipedia/commons/thumb/f/f5/13_Foto11_Opara02.jpeg/240px-13_Foto11_Opara02.jpeg',\n",
       " 'https://upload.wikimedia.org/wikipedia/commons/thumb/8/81/14_Foto12_Opara03.jpeg/240px-14_Foto12_Opara03.jpeg',\n",
       " 'https://upload.wikimedia.org/wikipedia/commons/thumb/8/89/15_Foto13_Opara04.jpeg/240px-15_Foto13_Opara04.jpeg',\n",
       " 'https://upload.wikimedia.org/wikipedia/commons/thumb/9/90/16_Foto14_Opara05.jpeg/240px-16_Foto14_Opara05.jpeg',\n",
       " 'https://upload.wikimedia.org/wikipedia/commons/thumb/7/7f/16_Foto15_Opara06.jpeg/240px-16_Foto15_Opara06.jpeg',\n",
       " 'https://upload.wikimedia.org/wikipedia/commons/thumb/a/af/1854_Hugo_ohne_Titel_anagoria.JPG/194px-1854_Hugo_ohne_Titel_anagoria.JPG',\n",
       " 'https://upload.wikimedia.org/wikipedia/commons/thumb/2/20/3.10_Ic_1.jpg/240px-3.10_Ic_1.jpg',\n",
       " 'https://upload.wikimedia.org/wikipedia/commons/thumb/7/74/467050797_small.jpg/240px-467050797_small.jpg',\n",
       " 'https://upload.wikimedia.org/wikipedia/commons/thumb/0/03/Adam_and_Eve_painting_by_Daniel_Heller.jpg/240px-Adam_and_Eve_painting_by_Daniel_Heller.jpg',\n",
       " 'https://upload.wikimedia.org/wikipedia/commons/thumb/2/26/Airport_by_KITAWAKI%2C_Noboru_1937.tiff/lossless-page1-200px-Airport_by_KITAWAKI%2C_Noboru_1937.tiff.png',\n",
       " 'https://upload.wikimedia.org/wikipedia/commons/thumb/d/d7/Alexa_szlavics_oilpainting.jpg/191px-Alexa_szlavics_oilpainting.jpg',\n",
       " 'https://upload.wikimedia.org/wikipedia/commons/thumb/1/1d/Alternate_for_Van_Eyck.jpg/180px-Alternate_for_Van_Eyck.jpg',\n",
       " 'https://upload.wikimedia.org/wikipedia/commons/thumb/6/6e/Amor_Alien.jpg/240px-Amor_Alien.jpg',\n",
       " 'https://upload.wikimedia.org/wikipedia/commons/thumb/c/c3/Angels-airport-ruben-cukier.jpg/195px-Angels-airport-ruben-cukier.jpg',\n",
       " 'https://upload.wikimedia.org/wikipedia/commons/thumb/c/c5/Anna_Chromy_Eternal_Love.jpg/183px-Anna_Chromy_Eternal_Love.jpg',\n",
       " 'https://upload.wikimedia.org/wikipedia/commons/thumb/4/4d/Antonio_Mu%C3%B1iz_-_Astros_and_Actual_Time.jpg/240px-Antonio_Mu%C3%B1iz_-_Astros_and_Actual_Time.jpg',\n",
       " 'https://upload.wikimedia.org/wikipedia/commons/thumb/0/0b/Antonio_Mu%C3%B1iz_-_Guided_by_the_Intangible.jpg/240px-Antonio_Mu%C3%B1iz_-_Guided_by_the_Intangible.jpg',\n",
       " 'https://upload.wikimedia.org/wikipedia/commons/thumb/8/84/Antonio_Mu%C3%B1iz_-_Lessons_from_an_Alchemist.jpg/180px-Antonio_Mu%C3%B1iz_-_Lessons_from_an_Alchemist.jpg',\n",
       " 'https://upload.wikimedia.org/wikipedia/commons/thumb/d/df/Antonio_Mu%C3%B1iz_-_Maximo_Override.jpg/240px-Antonio_Mu%C3%B1iz_-_Maximo_Override.jpg',\n",
       " 'https://upload.wikimedia.org/wikipedia/commons/thumb/0/03/Antonio_Mu%C3%B1iz_-_My_Protectors.jpg/240px-Antonio_Mu%C3%B1iz_-_My_Protectors.jpg',\n",
       " 'https://upload.wikimedia.org/wikipedia/commons/thumb/f/f5/Antonio_Mu%C3%B1iz_-_Notorious_Apple.png/199px-Antonio_Mu%C3%B1iz_-_Notorious_Apple.png',\n",
       " 'https://upload.wikimedia.org/wikipedia/commons/thumb/5/5c/Antonio_Mu%C3%B1iz_-_Silent_Symphony.jpg/240px-Antonio_Mu%C3%B1iz_-_Silent_Symphony.jpg',\n",
       " 'https://upload.wikimedia.org/wikipedia/commons/thumb/c/c8/Antonio_Mu%C3%B1iz_-_The_Creator_and_Protector_of_Hearts.jpg/240px-Antonio_Mu%C3%B1iz_-_The_Creator_and_Protector_of_Hearts.jpg',\n",
       " 'https://upload.wikimedia.org/wikipedia/commons/thumb/3/33/Antonio_Mu%C3%B1iz_-_Untitled.jpg/240px-Antonio_Mu%C3%B1iz_-_Untitled.jpg',\n",
       " 'https://upload.wikimedia.org/wikipedia/commons/thumb/b/ba/Antonio_Mu%C3%B1iz_-_Untitled2.jpg/240px-Antonio_Mu%C3%B1iz_-_Untitled2.jpg',\n",
       " 'https://upload.wikimedia.org/wikipedia/commons/thumb/e/eb/Antonio_Mu%C3%B1iz_-_Walking_to_Paradise.jpg/187px-Antonio_Mu%C3%B1iz_-_Walking_to_Paradise.jpg',\n",
       " 'https://upload.wikimedia.org/wikipedia/commons/thumb/4/40/Archeology_of_Solitude_Series.jpg/240px-Archeology_of_Solitude_Series.jpg',\n",
       " 'https://upload.wikimedia.org/wikipedia/commons/thumb/f/f5/Archeology_of_Solitude.jpg/211px-Archeology_of_Solitude.jpg',\n",
       " 'https://upload.wikimedia.org/wikipedia/commons/thumb/b/b3/Arte_plasticas.jpg/240px-Arte_plasticas.jpg',\n",
       " 'https://upload.wikimedia.org/wikipedia/commons/thumb/2/25/Auffinger_Blaichach.jpg/233px-Auffinger_Blaichach.jpg',\n",
       " 'https://upload.wikimedia.org/wikipedia/commons/thumb/3/3b/Befindlichkeiten.jpg/185px-Befindlichkeiten.jpg',\n",
       " 'https://upload.wikimedia.org/wikipedia/commons/thumb/3/36/Bird_9.jpg/240px-Bird_9.jpg',\n",
       " 'https://upload.wikimedia.org/wikipedia/commons/thumb/8/8a/Black_Box.jpg/177px-Black_Box.jpg',\n",
       " 'https://upload.wikimedia.org/wikipedia/commons/thumb/0/0f/BookFred_011.JPG/240px-BookFred_011.JPG',\n",
       " 'https://upload.wikimedia.org/wikipedia/commons/thumb/f/f0/Bull_with_wings%2C_by_Lili_Botero.jpg/240px-Bull_with_wings%2C_by_Lili_Botero.jpg',\n",
       " 'https://upload.wikimedia.org/wikipedia/commons/thumb/c/cd/C..._come_condizionamento.jpg/240px-C..._come_condizionamento.jpg',\n",
       " 'https://upload.wikimedia.org/wikipedia/commons/thumb/7/7f/Caceriano.jpg/163px-Caceriano.jpg',\n",
       " 'https://upload.wikimedia.org/wikipedia/commons/thumb/f/fe/Calamit%C3%A0_naturale.jpg/215px-Calamit%C3%A0_naturale.jpg',\n",
       " 'https://upload.wikimedia.org/wikipedia/commons/thumb/2/22/Colonna_sonora_%28omaggio_a_P.I.Tchaikovsky%29.jpg/172px-Colonna_sonora_%28omaggio_a_P.I.Tchaikovsky%29.jpg',\n",
       " 'https://upload.wikimedia.org/wikipedia/commons/thumb/1/18/Cultura_come_fatto_sociale.JPG/173px-Cultura_come_fatto_sociale.JPG',\n",
       " '',\n",
       " 'https://upload.wikimedia.org/wikipedia/commons/thumb/a/a6/De_transformatie.png/240px-De_transformatie.png',\n",
       " 'https://upload.wikimedia.org/wikipedia/commons/thumb/0/05/Dedicato_alla_figlia.jpg/240px-Dedicato_alla_figlia.jpg',\n",
       " 'https://upload.wikimedia.org/wikipedia/commons/thumb/9/99/Destruktion_und_Neuanfang_%282010%29.jpg/179px-Destruktion_und_Neuanfang_%282010%29.jpg',\n",
       " 'https://upload.wikimedia.org/wikipedia/commons/thumb/b/be/Destruktion_und_Neuanfang.jpg/179px-Destruktion_und_Neuanfang.jpg',\n",
       " 'https://upload.wikimedia.org/wikipedia/commons/thumb/0/0d/Detalle_de_la_Serie_de_los_atrapasue%C3%B1os.JPG/240px-Detalle_de_la_Serie_de_los_atrapasue%C3%B1os.JPG',\n",
       " 'https://upload.wikimedia.org/wikipedia/commons/thumb/5/51/Dialettica_illusoria.JPG/208px-Dialettica_illusoria.JPG',\n",
       " 'https://upload.wikimedia.org/wikipedia/commons/thumb/f/f1/Die_P%C3%A4pste.png/240px-Die_P%C3%A4pste.png',\n",
       " 'https://upload.wikimedia.org/wikipedia/commons/thumb/f/fc/Dinamica_del_potere.JPG/175px-Dinamica_del_potere.JPG',\n",
       " 'https://upload.wikimedia.org/wikipedia/commons/thumb/2/2c/Disamina_della_verit%C3%A0_obiettiva.jpg/175px-Disamina_della_verit%C3%A0_obiettiva.jpg',\n",
       " 'https://upload.wikimedia.org/wikipedia/commons/thumb/2/28/El_P%C3%A1jaro_T%C3%BA_y_Yo.jpg/183px-El_P%C3%A1jaro_T%C3%BA_y_Yo.jpg',\n",
       " 'https://upload.wikimedia.org/wikipedia/commons/thumb/7/7e/Equations_Factored_In_The_Desert_29x36.jpg/201px-Equations_Factored_In_The_Desert_29x36.jpg',\n",
       " 'https://upload.wikimedia.org/wikipedia/commons/thumb/2/2b/Escalation_indiscriminata.jpg/171px-Escalation_indiscriminata.jpg',\n",
       " 'https://upload.wikimedia.org/wikipedia/commons/thumb/f/fd/Esistenza_nel_riflesso_della_libert%C3%A0.jpg/197px-Esistenza_nel_riflesso_della_libert%C3%A0.jpg',\n",
       " 'https://upload.wikimedia.org/wikipedia/commons/thumb/1/15/Ethical_conduct001.jpg/208px-Ethical_conduct001.jpg',\n",
       " 'https://upload.wikimedia.org/wikipedia/commons/thumb/d/d6/Exposicion_almendralejo_001.jpg/240px-Exposicion_almendralejo_001.jpg',\n",
       " 'https://upload.wikimedia.org/wikipedia/commons/thumb/2/2a/Faustino_Bocchi.jpg/189px-Faustino_Bocchi.jpg',\n",
       " 'https://upload.wikimedia.org/wikipedia/commons/thumb/d/d9/Fossiler_Budda.png/240px-Fossiler_Budda.png',\n",
       " 'https://upload.wikimedia.org/wikipedia/commons/thumb/2/28/Fragilit%C3%A0_sommersa.JPG/185px-Fragilit%C3%A0_sommersa.JPG',\n",
       " 'https://upload.wikimedia.org/wikipedia/commons/thumb/b/ba/Gestaci%C3%B3n.jpg/181px-Gestaci%C3%B3n.jpg',\n",
       " 'https://upload.wikimedia.org/wikipedia/commons/thumb/4/4f/Gothzx002.jpg/216px-Gothzx002.jpg',\n",
       " 'https://upload.wikimedia.org/wikipedia/commons/thumb/c/c7/Guilt.jpg/166px-Guilt.jpg',\n",
       " 'https://upload.wikimedia.org/wikipedia/commons/thumb/5/51/Human_Conception_of_God_%28God%2C_Ape%2C_Swine%29_30x36.jpg/207px-Human_Conception_of_God_%28God%2C_Ape%2C_Swine%29_30x36.jpg',\n",
       " 'https://upload.wikimedia.org/wikipedia/commons/thumb/e/e1/I_sogni_nel_cassetto.JPG/240px-I_sogni_nel_cassetto.JPG',\n",
       " 'https://upload.wikimedia.org/wikipedia/commons/thumb/a/ad/Il_castello_di_Mespelbrunn.jpg/174px-Il_castello_di_Mespelbrunn.jpg',\n",
       " 'https://upload.wikimedia.org/wikipedia/commons/thumb/b/b7/Il_nome_della_rosa_%28dall%27omonimo_romanzo_di_Umberto_Eco%29.JPG/190px-Il_nome_della_rosa_%28dall%27omonimo_romanzo_di_Umberto_Eco%29.JPG',\n",
       " 'https://upload.wikimedia.org/wikipedia/commons/thumb/1/1c/Impotent_na_kole%C4%8Dkov%C3%BDch_brusl%C3%ADch.jpg/170px-Impotent_na_kole%C4%8Dkov%C3%BDch_brusl%C3%ADch.jpg',\n",
       " 'https://upload.wikimedia.org/wikipedia/commons/thumb/d/df/In_attesa_di_giudizio.JPG/205px-In_attesa_di_giudizio.JPG',\n",
       " 'https://upload.wikimedia.org/wikipedia/commons/thumb/0/06/Ismael_Nery_-_Auto-retrato%2C_1927.jpg/158px-Ismael_Nery_-_Auto-retrato%2C_1927.jpg',\n",
       " 'https://upload.wikimedia.org/wikipedia/commons/thumb/e/e6/Ismael_Nery_-_Composi%C3%A7%C3%A3o_Surrealista.jpg/202px-Ismael_Nery_-_Composi%C3%A7%C3%A3o_Surrealista.jpg',\n",
       " 'https://upload.wikimedia.org/wikipedia/commons/thumb/a/a4/Ismael_Nery_-_Desejo_de_Amor.jpg/210px-Ismael_Nery_-_Desejo_de_Amor.jpg',\n",
       " 'https://upload.wikimedia.org/wikipedia/commons/thumb/4/4c/Ismael_Nery_-_Eternidade.jpg/200px-Ismael_Nery_-_Eternidade.jpg',\n",
       " 'https://upload.wikimedia.org/wikipedia/commons/thumb/b/b4/Ismael_Nery_-_Resigna%C3%A7%C3%A3o_Diante_do_Irrepar%C3%A1vel.jpg/168px-Ismael_Nery_-_Resigna%C3%A7%C3%A3o_Diante_do_Irrepar%C3%A1vel.jpg',\n",
       " 'https://upload.wikimedia.org/wikipedia/commons/thumb/7/78/Ismael_Nery_-_Vis%C3%A3o_Interna_-_Agonia.jpg/166px-Ismael_Nery_-_Vis%C3%A3o_Interna_-_Agonia.jpg',\n",
       " 'https://upload.wikimedia.org/wikipedia/commons/thumb/5/5d/Johannes_%28kontrast%292.png/240px-Johannes_%28kontrast%292.png',\n",
       " 'https://upload.wikimedia.org/wikipedia/commons/thumb/3/34/L%27idolo_di_tutti_i_tempi.JPG/180px-L%27idolo_di_tutti_i_tempi.JPG',\n",
       " 'https://upload.wikimedia.org/wikipedia/commons/thumb/7/74/La_espera_%286335371182%29.jpg/160px-La_espera_%286335371182%29.jpg',\n",
       " 'https://upload.wikimedia.org/wikipedia/commons/thumb/d/d1/La_stupidit%C3%A0%2C_un_male_inguaribile.jpg/202px-La_stupidit%C3%A0%2C_un_male_inguaribile.jpg',\n",
       " 'https://upload.wikimedia.org/wikipedia/commons/thumb/b/b3/Lady_in_Blue.jpg/179px-Lady_in_Blue.jpg',\n",
       " 'https://upload.wikimedia.org/wikipedia/commons/thumb/8/8d/LennonlbeatleDraw_3.png/208px-LennonlbeatleDraw_3.png',\n",
       " 'https://upload.wikimedia.org/wikipedia/commons/thumb/1/18/Little_Doors_To_Nowhere_40x40.jpg/240px-Little_Doors_To_Nowhere_40x40.jpg',\n",
       " 'https://upload.wikimedia.org/wikipedia/commons/thumb/a/a5/Lloviendo_Campanas.jpg/240px-Lloviendo_Campanas.jpg',\n",
       " 'https://upload.wikimedia.org/wikipedia/commons/thumb/b/b6/Luciana_e_Bibi.JPG/185px-Luciana_e_Bibi.JPG',\n",
       " 'https://upload.wikimedia.org/wikipedia/commons/thumb/8/8e/Lutie_From_Harlem_25x50.jpg/124px-Lutie_From_Harlem_25x50.jpg',\n",
       " 'https://upload.wikimedia.org/wikipedia/commons/thumb/1/11/Madonna_Without_a_Child.jpg/180px-Madonna_Without_a_Child.jpg',\n",
       " 'https://upload.wikimedia.org/wikipedia/commons/thumb/d/da/Maleri_Varnatt.jpg/174px-Maleri_Varnatt.jpg',\n",
       " 'https://upload.wikimedia.org/wikipedia/commons/thumb/c/ce/Mat%C3%ADas_Argud%C3%ADn_-De_la_Serie_Fragmentos_de_Desnudos_III-.jpg/240px-Mat%C3%ADas_Argud%C3%ADn_-De_la_Serie_Fragmentos_de_Desnudos_III-.jpg',\n",
       " 'https://upload.wikimedia.org/wikipedia/commons/thumb/2/25/Mat%C3%ADas_Argud%C3%ADn_-Del_mar-.jpg/240px-Mat%C3%ADas_Argud%C3%ADn_-Del_mar-.jpg',\n",
       " 'https://upload.wikimedia.org/wikipedia/commons/thumb/5/56/Mat%C3%ADas_Argud%C3%ADn_-Enigma-.jpg/214px-Mat%C3%ADas_Argud%C3%ADn_-Enigma-.jpg',\n",
       " 'https://upload.wikimedia.org/wikipedia/commons/thumb/5/53/Mat%C3%ADas_Argud%C3%ADn_-Gioconda_Tropical-.jpg/173px-Mat%C3%ADas_Argud%C3%ADn_-Gioconda_Tropical-.jpg',\n",
       " 'https://upload.wikimedia.org/wikipedia/commons/thumb/d/da/Mat%C3%ADas_Argud%C3%ADn_-La_Piedra-.jpg/189px-Mat%C3%ADas_Argud%C3%ADn_-La_Piedra-.jpg',\n",
       " 'https://upload.wikimedia.org/wikipedia/commons/thumb/e/ec/Mat%C3%ADas_Argud%C3%ADn_-Marilyn_Monroe-.jpg/240px-Mat%C3%ADas_Argud%C3%ADn_-Marilyn_Monroe-.jpg',\n",
       " 'https://upload.wikimedia.org/wikipedia/commons/thumb/6/66/Mat%C3%ADas_Argud%C3%ADn_-Melancol%C3%ADa.jpg/240px-Mat%C3%ADas_Argud%C3%ADn_-Melancol%C3%ADa.jpg',\n",
       " 'https://upload.wikimedia.org/wikipedia/commons/thumb/0/02/Mat%C3%ADas_Argud%C3%ADn_-Petrificaci%C3%B3n_de_un_Angel-.jpg/192px-Mat%C3%ADas_Argud%C3%ADn_-Petrificaci%C3%B3n_de_un_Angel-.jpg',\n",
       " 'https://upload.wikimedia.org/wikipedia/commons/thumb/3/3d/Mat%C3%ADas_Argud%C3%ADn_-Sue%C3%B1o_de_Mujer-.jpg/240px-Mat%C3%ADas_Argud%C3%ADn_-Sue%C3%B1o_de_Mujer-.jpg',\n",
       " 'https://upload.wikimedia.org/wikipedia/commons/thumb/9/93/Mat%C3%ADas_Argud%C3%ADn_-Visiones_de_la_Habana_II-.jpg/197px-Mat%C3%ADas_Argud%C3%ADn_-Visiones_de_la_Habana_II-.jpg',\n",
       " 'https://upload.wikimedia.org/wikipedia/commons/thumb/f/f4/Mat%C3%ADas_Argud%C3%ADn_-Visiones_de_la_Habana_IV-.jpg/214px-Mat%C3%ADas_Argud%C3%ADn_-Visiones_de_la_Habana_IV-.jpg',\n",
       " 'https://upload.wikimedia.org/wikipedia/commons/thumb/9/9b/Mat%C3%ADas_Argud%C3%ADn_-Visi%C3%B3n_er%C3%B3tica.jpg/205px-Mat%C3%ADas_Argud%C3%ADn_-Visi%C3%B3n_er%C3%B3tica.jpg',\n",
       " 'https://upload.wikimedia.org/wikipedia/commons/thumb/f/f1/Molecole_d%27amicizia.JPG/240px-Molecole_d%27amicizia.JPG',\n",
       " 'https://upload.wikimedia.org/wikipedia/commons/thumb/e/e3/Mujer_de_tonos.jpg/172px-Mujer_de_tonos.jpg',\n",
       " 'https://upload.wikimedia.org/wikipedia/commons/thumb/5/53/Mystery_of_Metempsychosis_In_The_Last_Years_of_Man_26x32.jpg/198px-Mystery_of_Metempsychosis_In_The_Last_Years_of_Man_26x32.jpg',\n",
       " 'https://upload.wikimedia.org/wikipedia/commons/thumb/6/67/Nello_spazio_e_nel_tempo_%28omaggio_a_L._V._Beethoven%29.jpg/172px-Nello_spazio_e_nel_tempo_%28omaggio_a_L._V._Beethoven%29.jpg',\n",
       " 'https://upload.wikimedia.org/wikipedia/commons/thumb/0/00/NEW_YORK_-_Surreally_-_acrylic_on_canvas.jpg/240px-NEW_YORK_-_Surreally_-_acrylic_on_canvas.jpg',\n",
       " 'https://upload.wikimedia.org/wikipedia/commons/thumb/4/47/Nuove_prospettive_per_un_mondo_decadente.JPG/237px-Nuove_prospettive_per_un_mondo_decadente.JPG',\n",
       " 'https://upload.wikimedia.org/wikipedia/commons/thumb/3/37/Omaggio_a_Thomas_Schippers.JPG/170px-Omaggio_a_Thomas_Schippers.JPG',\n",
       " 'https://upload.wikimedia.org/wikipedia/commons/thumb/f/f3/Opera_incompiuta_02.JPG/192px-Opera_incompiuta_02.JPG',\n",
       " 'https://upload.wikimedia.org/wikipedia/commons/thumb/c/ce/Opera_incompiuta_03.JPG/190px-Opera_incompiuta_03.JPG',\n",
       " 'https://upload.wikimedia.org/wikipedia/commons/thumb/0/00/Opera_incompiuta.jpg/213px-Opera_incompiuta.jpg',\n",
       " 'https://upload.wikimedia.org/wikipedia/commons/thumb/c/ce/Partita_impegnativa.jpg/177px-Partita_impegnativa.jpg',\n",
       " 'https://upload.wikimedia.org/wikipedia/commons/thumb/8/8f/Peter_Purves_Smith%2C_%27Lucile%27_1937.jpg/178px-Peter_Purves_Smith%2C_%27Lucile%27_1937.jpg',\n",
       " 'https://upload.wikimedia.org/wikipedia/commons/thumb/9/9e/Pieza.jpg/163px-Pieza.jpg',\n",
       " 'https://upload.wikimedia.org/wikipedia/commons/thumb/3/3e/Problema_non_risolto.JPG/204px-Problema_non_risolto.JPG',\n",
       " 'https://upload.wikimedia.org/wikipedia/commons/thumb/8/83/Pultemplona2010.JPG/240px-Pultemplona2010.JPG',\n",
       " 'https://upload.wikimedia.org/wikipedia/commons/thumb/3/3f/Red_Velvet_Room.jpg/180px-Red_Velvet_Room.jpg',\n",
       " 'https://upload.wikimedia.org/wikipedia/commons/thumb/d/d6/Restauro_come_terapia.jpg/240px-Restauro_come_terapia.jpg',\n",
       " 'https://upload.wikimedia.org/wikipedia/commons/thumb/e/e0/Ritratto_d%27un_pittore_entomologo.JPG/180px-Ritratto_d%27un_pittore_entomologo.JPG',\n",
       " 'https://upload.wikimedia.org/wikipedia/commons/thumb/1/1e/Ritratto_di_signora_ignota.jpg/173px-Ritratto_di_signora_ignota.jpg',\n",
       " 'https://upload.wikimedia.org/wikipedia/commons/thumb/8/88/Senza_titolo_%28omaggio_a_Pier_Paolo_Pasolini%29.jpg/196px-Senza_titolo_%28omaggio_a_Pier_Paolo_Pasolini%29.jpg',\n",
       " 'https://upload.wikimedia.org/wikipedia/commons/thumb/0/06/Senza_titolo_08.jpg/240px-Senza_titolo_08.jpg',\n",
       " 'https://upload.wikimedia.org/wikipedia/commons/thumb/8/82/Senza_titolo_09.jpg/173px-Senza_titolo_09.jpg',\n",
       " 'https://upload.wikimedia.org/wikipedia/commons/thumb/6/69/Serenidad.jpg/180px-Serenidad.jpg',\n",
       " 'https://upload.wikimedia.org/wikipedia/commons/thumb/f/f3/Son_Servera_08_ies.jpg/240px-Son_Servera_08_ies.jpg',\n",
       " 'https://upload.wikimedia.org/wikipedia/commons/thumb/d/d6/Son_Servera_09_ies.jpg/240px-Son_Servera_09_ies.jpg',\n",
       " 'https://upload.wikimedia.org/wikipedia/commons/thumb/a/a0/Spettacolo_giovane.jpg/173px-Spettacolo_giovane.jpg',\n",
       " 'https://upload.wikimedia.org/wikipedia/commons/thumb/d/d0/Sunhell001.jpg/184px-Sunhell001.jpg',\n",
       " 'https://upload.wikimedia.org/wikipedia/commons/thumb/c/c4/Temptress_II.jpg/192px-Temptress_II.jpg',\n",
       " 'https://upload.wikimedia.org/wikipedia/commons/thumb/6/6e/TFlastsupper.jpg/240px-TFlastsupper.jpg',\n",
       " 'https://upload.wikimedia.org/wikipedia/commons/thumb/0/0f/Trojansk_h%C3%A4st.JPG/178px-Trojansk_h%C3%A4st.JPG',\n",
       " 'https://upload.wikimedia.org/wikipedia/commons/thumb/2/28/Uladzimir_Kachan_Christmas_with_the_Infanta_2010.jpg/166px-Uladzimir_Kachan_Christmas_with_the_Infanta_2010.jpg',\n",
       " 'https://upload.wikimedia.org/wikipedia/commons/thumb/6/69/Unicornio.jpg/240px-Unicornio.jpg',\n",
       " 'https://upload.wikimedia.org/wikipedia/commons/thumb/8/88/Vagheggiamenti_d%27un_drogato.JPG/213px-Vagheggiamenti_d%27un_drogato.JPG',\n",
       " 'https://upload.wikimedia.org/wikipedia/commons/thumb/5/5a/Vyk%C5%99i%C4%8Dn%C3%ADk.jpg/176px-Vyk%C5%99i%C4%8Dn%C3%ADk.jpg',\n",
       " 'https://upload.wikimedia.org/wikipedia/commons/thumb/5/5f/Willem_den_Broeder_schildert_Willem_van_Ruytenburgh.png/240px-Willem_den_Broeder_schildert_Willem_van_Ruytenburgh.png',\n",
       " 'https://upload.wikimedia.org/wikipedia/commons/thumb/6/6c/Willem_den_broeder.jpg/180px-Willem_den_broeder.jpg',\n",
       " 'https://upload.wikimedia.org/wikipedia/commons/thumb/5/53/William_Girometti_-_autoritratto.jpg/176px-William_Girometti_-_autoritratto.jpg',\n",
       " 'https://upload.wikimedia.org/wikipedia/commons/thumb/4/43/Willyvallez.jpg/200px-Willyvallez.jpg',\n",
       " 'https://upload.wikimedia.org/wikipedia/commons/thumb/a/a7/%D0%90%D1%80%D0%BA%D0%B0_%282014%29-%D0%92.%D0%A2%D0%B0%D1%88%D0%BA%D0%BE%D0%B2%D1%81%D0%BA%D0%B8.jpg/240px-%D0%90%D1%80%D0%BA%D0%B0_%282014%29-%D0%92.%D0%A2%D0%B0%D1%88%D0%BA%D0%BE%D0%B2%D1%81%D0%BA%D0%B8.jpg',\n",
       " 'https://upload.wikimedia.org/wikipedia/commons/thumb/3/35/%D0%90%D1%80%D1%85%D0%B5%D0%BE%D0%BB%D0%BE%D1%88%D0%BA%D0%B8_%D0%B1%D0%B5%D0%BB%D0%B5%D0%B7%D0%B8_%282014%29-%D0%92.%D0%A2%D0%B0%D1%88%D0%BA%D0%BE%D0%B2%D1%81%D0%BA%D0%B8.jpg/240px-%D0%90%D1%80%D1%85%D0%B5%D0%BE%D0%BB%D0%BE%D1%88%D0%BA%D0%B8_%D0%B1%D0%B5%D0%BB%D0%B5%D0%B7%D0%B8_%282014%29-%D0%92.%D0%A2%D0%B0%D1%88%D0%BA%D0%BE%D0%B2%D1%81%D0%BA%D0%B8.jpg',\n",
       " 'https://upload.wikimedia.org/wikipedia/commons/thumb/d/dc/%D0%92%D0%B5%D1%80%D1%82%D0%B8%D0%BA%D0%B0%D0%BB%D0%BD%D0%BE_%D0%B4%D0%B2%D0%B8%D0%B6%D0%B5%D1%9A%D0%B5_%282014%29-%D0%92.%D0%A2%D0%B0%D1%88%D0%BA%D0%BE%D0%B2%D1%81%D0%BA%D0%B8.jpg/190px-%D0%92%D0%B5%D1%80%D1%82%D0%B8%D0%BA%D0%B0%D0%BB%D0%BD%D0%BE_%D0%B4%D0%B2%D0%B8%D0%B6%D0%B5%D1%9A%D0%B5_%282014%29-%D0%92.%D0%A2%D0%B0%D1%88%D0%BA%D0%BE%D0%B2%D1%81%D0%BA%D0%B8.jpg',\n",
       " 'https://upload.wikimedia.org/wikipedia/commons/thumb/c/c6/%D0%93%D0%BE%D0%BB%D0%B5%D0%BC%D0%B0%D1%82%D0%B0_%D0%BF%D0%BB%D0%B0%D0%B6%D0%B0_%282014%29-%D0%92.%D0%A2%D0%B0%D1%88%D0%BA%D0%BE%D0%B2%D1%81%D0%BA%D0%B8.jpg/240px-%D0%93%D0%BE%D0%BB%D0%B5%D0%BC%D0%B0%D1%82%D0%B0_%D0%BF%D0%BB%D0%B0%D0%B6%D0%B0_%282014%29-%D0%92.%D0%A2%D0%B0%D1%88%D0%BA%D0%BE%D0%B2%D1%81%D0%BA%D0%B8.jpg',\n",
       " 'https://upload.wikimedia.org/wikipedia/commons/thumb/3/33/%D0%9A%D1%80%D0%BB%D1%83%D0%BA_%282014%29-%D0%92.%D0%A2%D0%B0%D1%88%D0%BA%D0%BE%D0%B2%D1%81%D0%BA%D0%B8.jpg/189px-%D0%9A%D1%80%D0%BB%D1%83%D0%BA_%282014%29-%D0%92.%D0%A2%D0%B0%D1%88%D0%BA%D0%BE%D0%B2%D1%81%D0%BA%D0%B8.jpg',\n",
       " 'https://upload.wikimedia.org/wikipedia/commons/thumb/9/92/%D0%9C%D0%B0%D1%81%D0%BA%D0%B8%D1%80%D0%B0%D0%BD_%D0%BF%D0%B5%D1%98%D0%B7%D0%B0%D0%B6_%282011%29-%D0%92.%D0%A2%D0%B0%D1%88%D0%BA%D0%BE%D0%B2%D1%81%D0%BA%D0%B8.jpg/240px-%D0%9C%D0%B0%D1%81%D0%BA%D0%B8%D1%80%D0%B0%D0%BD_%D0%BF%D0%B5%D1%98%D0%B7%D0%B0%D0%B6_%282011%29-%D0%92.%D0%A2%D0%B0%D1%88%D0%BA%D0%BE%D0%B2%D1%81%D0%BA%D0%B8.jpg',\n",
       " 'https://upload.wikimedia.org/wikipedia/commons/thumb/d/df/%D0%9D%D0%B0%D0%B3%D1%80%D0%B8%D0%B7%D0%B5%D0%BD%D0%B0_%D1%82%D0%BE%D0%BF%D0%BA%D0%B0_%282014%29-%D0%92.%D0%A2%D0%B0%D1%88%D0%BA%D0%BE%D0%B2%D1%81%D0%BA%D0%B8.jpg/211px-%D0%9D%D0%B0%D0%B3%D1%80%D0%B8%D0%B7%D0%B5%D0%BD%D0%B0_%D1%82%D0%BE%D0%BF%D0%BA%D0%B0_%282014%29-%D0%92.%D0%A2%D0%B0%D1%88%D0%BA%D0%BE%D0%B2%D1%81%D0%BA%D0%B8.jpg',\n",
       " 'https://upload.wikimedia.org/wikipedia/commons/thumb/8/88/%D0%9E%D0%BA%D1%80%D1%83%D0%B3%D0%BB%D0%B8_%D0%B5%D0%B4%D1%80%D0%B0_%282011%29-%D0%92.%D0%A2%D0%B0%D1%88%D0%BA%D0%BE%D0%B2%D1%81%D0%BA%D0%B8.jpg/240px-%D0%9E%D0%BA%D1%80%D1%83%D0%B3%D0%BB%D0%B8_%D0%B5%D0%B4%D1%80%D0%B0_%282011%29-%D0%92.%D0%A2%D0%B0%D1%88%D0%BA%D0%BE%D0%B2%D1%81%D0%BA%D0%B8.jpg',\n",
       " 'https://upload.wikimedia.org/wikipedia/commons/thumb/a/a8/%D0%9F%D0%BB%D0%B0%D1%82%D1%84%D0%BE%D1%80%D0%BC%D0%B8_%282011%29-%D0%92.%D0%A2%D0%B0%D1%88%D0%BA%D0%BE%D0%B2%D1%81%D0%BA%D0%B8.jpg/240px-%D0%9F%D0%BB%D0%B0%D1%82%D1%84%D0%BE%D1%80%D0%BC%D0%B8_%282011%29-%D0%92.%D0%A2%D0%B0%D1%88%D0%BA%D0%BE%D0%B2%D1%81%D0%BA%D0%B8.jpg',\n",
       " 'https://upload.wikimedia.org/wikipedia/commons/thumb/1/19/%D0%9F%D0%BB%D0%B8%D0%BC%D0%B0_%281978%29-%D0%92.%D0%A2%D0%B0%D1%88%D0%BA%D0%BE%D0%B2%D1%81%D0%BA%D0%B8.jpg/240px-%D0%9F%D0%BB%D0%B8%D0%BC%D0%B0_%281978%29-%D0%92.%D0%A2%D0%B0%D1%88%D0%BA%D0%BE%D0%B2%D1%81%D0%BA%D0%B8.jpg',\n",
       " 'https://upload.wikimedia.org/wikipedia/commons/thumb/5/5c/%D0%9F%D1%80%D0%BE%D0%B4%D0%B0%D0%B2%D0%B0%D1%87%D0%BA%D0%B0_%D0%BD%D0%B0_%D1%88%D0%BA%D0%BE%D0%BB%D0%BA%D0%B8_%281981%29-%D0%92.%D0%A2%D0%B0%D1%88%D0%BA%D0%BE%D0%B2%D1%81%D0%BA%D0%B8.jpg/195px-%D0%9F%D1%80%D0%BE%D0%B4%D0%B0%D0%B2%D0%B0%D1%87%D0%BA%D0%B0_%D0%BD%D0%B0_%D1%88%D0%BA%D0%BE%D0%BB%D0%BA%D0%B8_%281981%29-%D0%92.%D0%A2%D0%B0%D1%88%D0%BA%D0%BE%D0%B2%D1%81%D0%BA%D0%B8.jpg',\n",
       " 'https://upload.wikimedia.org/wikipedia/commons/thumb/1/13/%D0%A1%D0%B8%D1%80%D0%BE%D0%BC%D0%B0%D1%88%D0%B5%D0%BD_%D1%80%D0%B8%D0%B1%D0%B0%D1%80_%282015%29-%D0%92.%D0%A2%D0%B0%D1%88%D0%BA%D0%BE%D0%B2%D1%81%D0%BA%D0%B8.jpg/200px-%D0%A1%D0%B8%D1%80%D0%BE%D0%BC%D0%B0%D1%88%D0%B5%D0%BD_%D1%80%D0%B8%D0%B1%D0%B0%D1%80_%282015%29-%D0%92.%D0%A2%D0%B0%D1%88%D0%BA%D0%BE%D0%B2%D1%81%D0%BA%D0%B8.jpg',\n",
       " 'https://upload.wikimedia.org/wikipedia/commons/thumb/5/59/%D0%A2%D0%B2%D0%BE%D1%80%D0%B5%D1%86%D0%BE%D1%82_%282007%29-%D0%92.%D0%A2%D0%B0%D1%88%D0%BA%D0%BE%D0%B2%D1%81%D0%BA%D0%B8.jpg/240px-%D0%A2%D0%B2%D0%BE%D1%80%D0%B5%D1%86%D0%BE%D1%82_%282007%29-%D0%92.%D0%A2%D0%B0%D1%88%D0%BA%D0%BE%D0%B2%D1%81%D0%BA%D0%B8.jpg',\n",
       " 'https://upload.wikimedia.org/wikipedia/commons/thumb/5/56/%E2%80%9CHeavy_Metal%E2%80%9D_Andrzej_Karpi%C5%84ski_1994.jpg/240px-%E2%80%9CHeavy_Metal%E2%80%9D_Andrzej_Karpi%C5%84ski_1994.jpg',\n",
       " 'https://upload.wikimedia.org/wikipedia/commons/thumb/0/0d/%E2%80%9CJeden_Ko%C5%84_Mechaniczny%E2%80%9D_Andrzej_Karpi%C5%84ski_1994.jpg/240px-%E2%80%9CJeden_Ko%C5%84_Mechaniczny%E2%80%9D_Andrzej_Karpi%C5%84ski_1994.jpg',\n",
       " 'https://upload.wikimedia.org/wikipedia/commons/thumb/0/0f/%E2%80%9CTanie_Danie%E2%80%9D_Andrzej_Karpi%C5%84ski_1993.jpg/240px-%E2%80%9CTanie_Danie%E2%80%9D_Andrzej_Karpi%C5%84ski_1993.jpg',\n",
       " 'https://upload.wikimedia.org/wikipedia/commons/thumb/4/46/%E2%80%9CUcho_Van_Gogha%E2%80%9D_Andrzej_Karpi%C5%84ski_1994.jpg/240px-%E2%80%9CUcho_Van_Gogha%E2%80%9D_Andrzej_Karpi%C5%84ski_1994.jpg',\n",
       " '',\n",
       " '/static/images/wikimedia-button-2x.png',\n",
       " '/static/images/poweredby_mediawiki_176x62.png']"
      ]
     },
     "execution_count": 10,
     "metadata": {},
     "output_type": "execute_result"
    }
   ],
   "source": [
    "url_list"
   ]
  },
  {
   "cell_type": "markdown",
   "metadata": {},
   "source": [
    "# end of scrape"
   ]
  },
  {
   "cell_type": "code",
   "execution_count": null,
   "metadata": {
    "collapsed": true
   },
   "outputs": [],
   "source": []
  }
 ],
 "metadata": {
  "kernelspec": {
   "display_name": "specialization",
   "language": "python",
   "name": "specialization"
  },
  "language_info": {
   "codemirror_mode": {
    "name": "ipython",
    "version": 2
   },
   "file_extension": ".py",
   "mimetype": "text/x-python",
   "name": "python",
   "nbconvert_exporter": "python",
   "pygments_lexer": "ipython2",
   "version": "2.7.13"
  }
 },
 "nbformat": 4,
 "nbformat_minor": 1
}
