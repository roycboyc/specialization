{
 "cells": [
  {
   "cell_type": "code",
   "execution_count": 1,
   "metadata": {
    "collapsed": true
   },
   "outputs": [],
   "source": [
    "#scrapes Expressionist Paintings on Wikimedia, stores all images as jpeg links in url_list at bottom\n",
    "\n",
    "import cv2\n",
    "from bs4 import BeautifulSoup\n",
    "import requests"
   ]
  },
  {
   "cell_type": "code",
   "execution_count": 2,
   "metadata": {
    "collapsed": false
   },
   "outputs": [],
   "source": [
    "r  = requests.get(\"https://commons.wikimedia.org/wiki/Category:Expressionist_paintings\")\n",
    "\n",
    "data = r.text\n",
    "\n",
    "soup = BeautifulSoup(data, \"html.parser\")"
   ]
  },
  {
   "cell_type": "code",
   "execution_count": 3,
   "metadata": {
    "collapsed": false
   },
   "outputs": [],
   "source": [
    "imgBank = soup.find_all(\"img\")"
   ]
  },
  {
   "cell_type": "code",
   "execution_count": 4,
   "metadata": {
    "collapsed": false
   },
   "outputs": [],
   "source": [
    "st = str(imgBank[0])"
   ]
  },
  {
   "cell_type": "code",
   "execution_count": 5,
   "metadata": {
    "collapsed": false
   },
   "outputs": [
    {
     "name": "stdout",
     "output_type": "stream",
     "text": [
      "https://upload.wikimedia.org/wikipedia/commons/thumb/f/f0/1._%D0%95%D0%9A%D0%94%D0%98%D0%A8%D0%9C%D0%90%D0%9D._%D1%85%D0%BE%D0%BB%D1%81%D1%82%2C_%D0%BC%D0%B0%D1%81%D0%BB%D0%BE.jpg/240px-1._%D0%95%D0%9A%D0%94%D0%98%D0%A8%D0%9C%D0%90%D0%9D._%D1%85%D0%BE%D0%BB%D1%81%D1%82%2C_%D0%BC%D0%B0%D1%81%D0%BB%D0%BE.jpg\n"
     ]
    }
   ],
   "source": [
    "def find_between( s, first, last ):\n",
    "    try:\n",
    "        start = s.index( first ) + len( first )\n",
    "        end = s.index( last, start )\n",
    "        return s[start:end]\n",
    "    except ValueError:\n",
    "        return \"\"\n",
    "\n",
    "def find_between_r( s, first, last ):\n",
    "    try:\n",
    "        start = s.rindex( first ) + len( first )\n",
    "        end = s.rindex( last, start )\n",
    "        return s[start:end]\n",
    "    except ValueError:\n",
    "        return \"\"\n",
    "\n",
    "\n",
    "print find_between( st, \"1.5x, \", ' 2x' )\n"
   ]
  },
  {
   "cell_type": "code",
   "execution_count": 6,
   "metadata": {
    "collapsed": false
   },
   "outputs": [],
   "source": [
    "url_list = []\n",
    "for i in range(len(imgBank)):\n",
    "    st = str(imgBank[i])\n",
    "    url_list.append(find_between( st, \"1.5x, \", ' 2x' ))"
   ]
  },
  {
   "cell_type": "code",
   "execution_count": 7,
   "metadata": {
    "collapsed": false
   },
   "outputs": [
    {
     "data": {
      "text/plain": [
       "203"
      ]
     },
     "execution_count": 7,
     "metadata": {},
     "output_type": "execute_result"
    }
   ],
   "source": [
    "len(url_list)"
   ]
  },
  {
   "cell_type": "code",
   "execution_count": 8,
   "metadata": {
    "collapsed": true
   },
   "outputs": [],
   "source": [
    "r2  = requests.get(\"https://commons.wikimedia.org/w/index.php?title=Category:Expressionist_paintings&filefrom=Franz+Marc+022.jpg#mw-category-media\")\n",
    "data = r2.text\n",
    "soup2 = BeautifulSoup(data, \"html.parser\")"
   ]
  },
  {
   "cell_type": "code",
   "execution_count": 9,
   "metadata": {
    "collapsed": true
   },
   "outputs": [],
   "source": [
    "imgBank2 = soup2.find_all(\"img\")"
   ]
  },
  {
   "cell_type": "code",
   "execution_count": 10,
   "metadata": {
    "collapsed": true
   },
   "outputs": [],
   "source": [
    "for i in range(len(imgBank2)):\n",
    "    st = str(imgBank2[i])\n",
    "    url_list.append(find_between( st, \"1.5x, \", ' 2x' ))"
   ]
  },
  {
   "cell_type": "code",
   "execution_count": 12,
   "metadata": {
    "collapsed": false
   },
   "outputs": [
    {
     "data": {
      "text/plain": [
       "298"
      ]
     },
     "execution_count": 12,
     "metadata": {},
     "output_type": "execute_result"
    }
   ],
   "source": [
    "len(url_list)"
   ]
  },
  {
   "cell_type": "code",
   "execution_count": 11,
   "metadata": {
    "collapsed": false
   },
   "outputs": [
    {
     "data": {
      "text/plain": [
       "['https://upload.wikimedia.org/wikipedia/commons/thumb/f/f0/1._%D0%95%D0%9A%D0%94%D0%98%D0%A8%D0%9C%D0%90%D0%9D._%D1%85%D0%BE%D0%BB%D1%81%D1%82%2C_%D0%BC%D0%B0%D1%81%D0%BB%D0%BE.jpg/240px-1._%D0%95%D0%9A%D0%94%D0%98%D0%A8%D0%9C%D0%90%D0%9D._%D1%85%D0%BE%D0%BB%D1%81%D1%82%2C_%D0%BC%D0%B0%D1%81%D0%BB%D0%BE.jpg',\n",
       " 'https://upload.wikimedia.org/wikipedia/commons/thumb/8/82/1985_-_Dutch_old_farm_with_empty_fields_acrylic_painting_on_paper_by_Dutch_artist_Fons_Heijnsbroek.jpg/240px-1985_-_Dutch_old_farm_with_empty_fields_acrylic_painting_on_paper_by_Dutch_artist_Fons_Heijnsbroek.jpg',\n",
       " 'https://upload.wikimedia.org/wikipedia/commons/thumb/e/e6/1987_-_A_Sunday_afternoon_-_acrylic_painting_on_canvas_by_artist_Fons_Heijnsbroek.tif/lossy-page1-208px-1987_-_A_Sunday_afternoon_-_acrylic_painting_on_canvas_by_artist_Fons_Heijnsbroek.tif.jpg',\n",
       " 'https://upload.wikimedia.org/wikipedia/commons/thumb/3/39/1988_-_Hope_-_an_acryl_painting_on_canvas_by_Dutch_artist_Fons_Heijnsbroek.tif/lossy-page1-240px-1988_-_Hope_-_an_acryl_painting_on_canvas_by_Dutch_artist_Fons_Heijnsbroek.tif.jpg',\n",
       " 'https://upload.wikimedia.org/wikipedia/commons/thumb/8/86/25._El_fumador_%28Frank_Haviland%29.jpg/172px-25._El_fumador_%28Frank_Haviland%29.jpg',\n",
       " 'https://upload.wikimedia.org/wikipedia/commons/thumb/1/10/Aalto%2C_Ilmari_-_Autumn_landscape_with_clouds_-_Google_Art_Project.jpg/240px-Aalto%2C_Ilmari_-_Autumn_landscape_with_clouds_-_Google_Art_Project.jpg',\n",
       " 'https://upload.wikimedia.org/wikipedia/commons/thumb/e/ed/Aalto%2C_Ilmari_-_Storm_-_Google_Art_Project.jpg/240px-Aalto%2C_Ilmari_-_Storm_-_Google_Art_Project.jpg',\n",
       " 'https://upload.wikimedia.org/wikipedia/commons/thumb/8/8b/Agony_%28crop%29_1912_Egon_Schiele.jpg/166px-Agony_%28crop%29_1912_Egon_Schiele.jpg',\n",
       " 'https://upload.wikimedia.org/wikipedia/commons/thumb/e/e7/Amedeo_Modigliani_003.jpg/201px-Amedeo_Modigliani_003.jpg',\n",
       " 'https://upload.wikimedia.org/wikipedia/commons/thumb/b/b0/Amedeo_Modigliani_010.jpg/153px-Amedeo_Modigliani_010.jpg',\n",
       " 'https://upload.wikimedia.org/wikipedia/commons/thumb/3/3e/Amedeo_Modigliani_035-2.jpg/240px-Amedeo_Modigliani_035-2.jpg',\n",
       " 'https://upload.wikimedia.org/wikipedia/commons/thumb/9/91/Amedeo_Modigliani_038.jpg/171px-Amedeo_Modigliani_038.jpg',\n",
       " 'https://upload.wikimedia.org/wikipedia/commons/thumb/c/cc/Auf_der_Alm%2C_Margret_Hofheinz-D%C3%B6ring%2C_Mischtechnik%2C_1958_%28WV-Nr.1152%29.JPG/188px-Auf_der_Alm%2C_Margret_Hofheinz-D%C3%B6ring%2C_Mischtechnik%2C_1958_%28WV-Nr.1152%29.JPG',\n",
       " 'https://upload.wikimedia.org/wikipedia/commons/thumb/3/32/August_Macke_001.jpg/240px-August_Macke_001.jpg',\n",
       " 'https://upload.wikimedia.org/wikipedia/commons/thumb/7/7c/August_Macke_002.jpg/240px-August_Macke_002.jpg',\n",
       " 'https://upload.wikimedia.org/wikipedia/commons/thumb/9/9a/August_Macke_003.jpg/240px-August_Macke_003.jpg',\n",
       " 'https://upload.wikimedia.org/wikipedia/commons/thumb/c/c0/August_Macke_004.jpg/187px-August_Macke_004.jpg',\n",
       " 'https://upload.wikimedia.org/wikipedia/commons/thumb/8/89/August_Macke_005.jpg/236px-August_Macke_005.jpg',\n",
       " 'https://upload.wikimedia.org/wikipedia/commons/thumb/4/49/August_Macke_006.jpg/174px-August_Macke_006.jpg',\n",
       " 'https://upload.wikimedia.org/wikipedia/commons/thumb/6/6d/August_Macke_007.jpg/240px-August_Macke_007.jpg',\n",
       " 'https://upload.wikimedia.org/wikipedia/commons/thumb/4/44/August_Macke_008.jpg/192px-August_Macke_008.jpg',\n",
       " 'https://upload.wikimedia.org/wikipedia/commons/thumb/7/7e/August_Macke_009.jpg/240px-August_Macke_009.jpg',\n",
       " 'https://upload.wikimedia.org/wikipedia/commons/thumb/6/6f/August_Macke_010.jpg/240px-August_Macke_010.jpg',\n",
       " 'https://upload.wikimedia.org/wikipedia/commons/thumb/a/a6/August_Macke_011.jpg/240px-August_Macke_011.jpg',\n",
       " 'https://upload.wikimedia.org/wikipedia/commons/thumb/b/ba/August_Macke_012.jpg/240px-August_Macke_012.jpg',\n",
       " 'https://upload.wikimedia.org/wikipedia/commons/thumb/f/f0/August_Macke_013.jpg/202px-August_Macke_013.jpg',\n",
       " 'https://upload.wikimedia.org/wikipedia/commons/thumb/a/af/August_Macke_015.jpg/240px-August_Macke_015.jpg',\n",
       " 'https://upload.wikimedia.org/wikipedia/commons/thumb/f/fd/August_Macke_016.jpg/180px-August_Macke_016.jpg',\n",
       " 'https://upload.wikimedia.org/wikipedia/commons/thumb/f/fe/August_Macke_017.jpg/195px-August_Macke_017.jpg',\n",
       " 'https://upload.wikimedia.org/wikipedia/commons/thumb/2/2e/August_Macke_018.jpg/240px-August_Macke_018.jpg',\n",
       " 'https://upload.wikimedia.org/wikipedia/commons/thumb/c/cc/August_Macke_019.jpg/193px-August_Macke_019.jpg',\n",
       " 'https://upload.wikimedia.org/wikipedia/commons/thumb/f/f1/August_Macke_020.jpg/192px-August_Macke_020.jpg',\n",
       " 'https://upload.wikimedia.org/wikipedia/commons/thumb/f/fd/August_Macke_021.jpg/189px-August_Macke_021.jpg',\n",
       " 'https://upload.wikimedia.org/wikipedia/commons/thumb/d/de/August_Macke_022.jpg/188px-August_Macke_022.jpg',\n",
       " 'https://upload.wikimedia.org/wikipedia/commons/thumb/f/fd/August_Macke_023.jpg/240px-August_Macke_023.jpg',\n",
       " 'https://upload.wikimedia.org/wikipedia/commons/thumb/9/90/August_Macke_024.jpg/240px-August_Macke_024.jpg',\n",
       " 'https://upload.wikimedia.org/wikipedia/commons/thumb/0/0b/August_Macke_025.jpg/240px-August_Macke_025.jpg',\n",
       " 'https://upload.wikimedia.org/wikipedia/commons/thumb/3/39/August_Macke_026.jpg/190px-August_Macke_026.jpg',\n",
       " 'https://upload.wikimedia.org/wikipedia/commons/thumb/0/0d/August_Macke_027.jpg/240px-August_Macke_027.jpg',\n",
       " 'https://upload.wikimedia.org/wikipedia/commons/thumb/f/f5/August_Macke_028.jpg/240px-August_Macke_028.jpg',\n",
       " 'https://upload.wikimedia.org/wikipedia/commons/thumb/2/27/August_Macke_029.jpg/185px-August_Macke_029.jpg',\n",
       " 'https://upload.wikimedia.org/wikipedia/commons/thumb/c/c8/August_Macke_030.jpg/206px-August_Macke_030.jpg',\n",
       " 'https://upload.wikimedia.org/wikipedia/commons/thumb/0/0b/August_Macke_031.jpg/187px-August_Macke_031.jpg',\n",
       " 'https://upload.wikimedia.org/wikipedia/commons/thumb/b/b8/August_Macke_032.jpg/240px-August_Macke_032.jpg',\n",
       " 'https://upload.wikimedia.org/wikipedia/commons/thumb/1/12/August_Macke_032a.jpg/240px-August_Macke_032a.jpg',\n",
       " 'https://upload.wikimedia.org/wikipedia/commons/thumb/4/4a/August_Macke_033.jpg/186px-August_Macke_033.jpg',\n",
       " 'https://upload.wikimedia.org/wikipedia/commons/thumb/2/2f/August_Macke_034.jpg/205px-August_Macke_034.jpg',\n",
       " 'https://upload.wikimedia.org/wikipedia/commons/thumb/4/47/August_Macke_035.jpg/239px-August_Macke_035.jpg',\n",
       " 'https://upload.wikimedia.org/wikipedia/commons/thumb/a/a9/August_Macke_036.jpg/161px-August_Macke_036.jpg',\n",
       " 'https://upload.wikimedia.org/wikipedia/commons/thumb/2/23/August_Macke_040.jpg/240px-August_Macke_040.jpg',\n",
       " 'https://upload.wikimedia.org/wikipedia/commons/thumb/1/18/August_Macke_041.jpg/174px-August_Macke_041.jpg',\n",
       " 'https://upload.wikimedia.org/wikipedia/commons/thumb/0/0e/August_Macke_044.jpg/139px-August_Macke_044.jpg',\n",
       " 'https://upload.wikimedia.org/wikipedia/commons/thumb/3/3c/August_Macke_045.jpg/142px-August_Macke_045.jpg',\n",
       " 'https://upload.wikimedia.org/wikipedia/commons/thumb/7/78/August_Macke_046.jpg/192px-August_Macke_046.jpg',\n",
       " 'https://upload.wikimedia.org/wikipedia/commons/thumb/2/28/August_Macke_047.jpg/240px-August_Macke_047.jpg',\n",
       " 'https://upload.wikimedia.org/wikipedia/commons/thumb/0/0e/August_Macke_048.jpg/240px-August_Macke_048.jpg',\n",
       " 'https://upload.wikimedia.org/wikipedia/commons/thumb/e/ee/August_Macke_049.jpg/240px-August_Macke_049.jpg',\n",
       " 'https://upload.wikimedia.org/wikipedia/commons/thumb/2/27/August_Macke_050.jpg/170px-August_Macke_050.jpg',\n",
       " 'https://upload.wikimedia.org/wikipedia/commons/thumb/7/7d/August_Macke_051.jpg/139px-August_Macke_051.jpg',\n",
       " 'https://upload.wikimedia.org/wikipedia/commons/thumb/b/ba/August_Macke_052.jpg/196px-August_Macke_052.jpg',\n",
       " 'https://upload.wikimedia.org/wikipedia/commons/thumb/4/42/August_Macke_053.jpg/240px-August_Macke_053.jpg',\n",
       " 'https://upload.wikimedia.org/wikipedia/commons/thumb/3/33/August_Macke_Pierrot.jpg/240px-August_Macke_Pierrot.jpg',\n",
       " 'https://upload.wikimedia.org/wikipedia/commons/thumb/7/7a/August_Macke%2C_1912%2C_Rokoko%2C_oil_on_canvas%2C_89_x_89_cm%2C_National_Museum_of_Art%2C_Architecture_and_Design%2C_Norway.jpg/239px-August_Macke%2C_1912%2C_Rokoko%2C_oil_on_canvas%2C_89_x_89_cm%2C_National_Museum_of_Art%2C_Architecture_and_Design%2C_Norway.jpg',\n",
       " 'https://upload.wikimedia.org/wikipedia/commons/thumb/2/20/Blue_Bay.jpg/240px-Blue_Bay.jpg',\n",
       " 'https://upload.wikimedia.org/wikipedia/commons/thumb/0/08/Bride_and_Groom.jpg/193px-Bride_and_Groom.jpg',\n",
       " 'https://upload.wikimedia.org/wikipedia/commons/thumb/c/ca/Caw%C3%A9n%2C_Alvar_-_At_the_factory_-_Google_Art_Project.jpg/132px-Caw%C3%A9n%2C_Alvar_-_At_the_factory_-_Google_Art_Project.jpg',\n",
       " 'https://upload.wikimedia.org/wikipedia/commons/thumb/f/f1/Christian_Rohlfs_-_Conversation_de_clowns.jpg/240px-Christian_Rohlfs_-_Conversation_de_clowns.jpg',\n",
       " 'https://upload.wikimedia.org/wikipedia/commons/thumb/2/21/Christian_Rohlfs_-_Tournesols.jpg/190px-Christian_Rohlfs_-_Tournesols.jpg',\n",
       " 'https://upload.wikimedia.org/wikipedia/commons/thumb/a/ad/Colorful_landscape_painting_in_watercolor_art_on_paper_-_North_East_Netherlands_by_Dutch_painter_Fons_Heijnsbroek.jpg/186px-Colorful_landscape_painting_in_watercolor_art_on_paper_-_North_East_Netherlands_by_Dutch_painter_Fons_Heijnsbroek.jpg',\n",
       " 'https://upload.wikimedia.org/wikipedia/commons/thumb/5/5e/Das_Geschenk%2C_Margret_Hofheinz-D%C3%B6ring%2C_Strukturmalerei%2C_1967_%28WV-Nr.3604%29.JPG/173px-Das_Geschenk%2C_Margret_Hofheinz-D%C3%B6ring%2C_Strukturmalerei%2C_1967_%28WV-Nr.3604%29.JPG',\n",
       " 'https://upload.wikimedia.org/wikipedia/commons/thumb/8/88/Das_Gespr%C3%A4ch%2C_Margret_Hofheinz-D%C3%B6ring%2C_Strukturmalerei%2C_1979_%28WV-Nr.6345%29.jpg/181px-Das_Gespr%C3%A4ch%2C_Margret_Hofheinz-D%C3%B6ring%2C_Strukturmalerei%2C_1979_%28WV-Nr.6345%29.jpg',\n",
       " 'https://upload.wikimedia.org/wikipedia/commons/thumb/4/4c/Das_Tier%2C_Margret_Hofheinz-D%C3%B6ring%2C_%C3%96l%2C_1966_%28WV-Nr.1268%29.jpg/186px-Das_Tier%2C_Margret_Hofheinz-D%C3%B6ring%2C_%C3%96l%2C_1966_%28WV-Nr.1268%29.jpg',\n",
       " 'https://upload.wikimedia.org/wikipedia/commons/thumb/a/a3/De_scheve_fles.JPG/180px-De_scheve_fles.JPG',\n",
       " 'https://upload.wikimedia.org/wikipedia/commons/thumb/d/d7/Disput%2CMargret_Hofheinz-D%C3%B6ring%2C_%C3%96l%2C_1982%2C_%28WV-Nr.6536%29%3B.JPG/187px-Disput%2CMargret_Hofheinz-D%C3%B6ring%2C_%C3%96l%2C_1982%2C_%28WV-Nr.6536%29%3B.JPG',\n",
       " 'https://upload.wikimedia.org/wikipedia/commons/thumb/c/cb/E_Vollmer_%E2%80%93_Hof_in_Rehlingen_1918.jpg/240px-E_Vollmer_%E2%80%93_Hof_in_Rehlingen_1918.jpg',\n",
       " 'https://upload.wikimedia.org/wikipedia/commons/thumb/a/ae/Edvard_Munch_-_Anxiety_-_Google_Art_Project.jpg/186px-Edvard_Munch_-_Anxiety_-_Google_Art_Project.jpg',\n",
       " 'https://upload.wikimedia.org/wikipedia/commons/thumb/3/36/Edvard_Munch_-_Golgotha_%281900%29.jpg/240px-Edvard_Munch_-_Golgotha_%281900%29.jpg',\n",
       " 'https://upload.wikimedia.org/wikipedia/commons/thumb/2/2f/Edvard_Munch_-_Jealousy_-_Google_Art_Project.jpg/240px-Edvard_Munch_-_Jealousy_-_Google_Art_Project.jpg',\n",
       " 'https://upload.wikimedia.org/wikipedia/commons/thumb/e/e8/Egon_Schiele_093.jpg/239px-Egon_Schiele_093.jpg',\n",
       " 'https://upload.wikimedia.org/wikipedia/commons/thumb/3/3f/Egon_Schiele_-_Autoportrait_avec_r%C3%A9cipient_noir.jpg/240px-Egon_Schiele_-_Autoportrait_avec_r%C3%A9cipient_noir.jpg',\n",
       " 'https://upload.wikimedia.org/wikipedia/commons/thumb/9/98/Crescent_of_Houses_II_%28Island_Town%29_Egon_Schiele_1915.jpg/240px-Crescent_of_Houses_II_%28Island_Town%29_Egon_Schiele_1915.jpg',\n",
       " 'https://upload.wikimedia.org/wikipedia/commons/thumb/e/e3/Egon_Schiele_-_Der_H%C3%A4userbogen_II_%281915%29.jpg/240px-Egon_Schiele_-_Der_H%C3%A4userbogen_II_%281915%29.jpg',\n",
       " 'https://upload.wikimedia.org/wikipedia/commons/thumb/d/d1/Egon_Schiele_-_Die_H%C3%A4user_am_Meer_%281914%29.jpg/240px-Egon_Schiele_-_Die_H%C3%A4user_am_Meer_%281914%29.jpg',\n",
       " 'https://upload.wikimedia.org/wikipedia/commons/thumb/d/da/Egon_Schiele_039.jpg/240px-Egon_Schiele_039.jpg',\n",
       " 'https://upload.wikimedia.org/wikipedia/commons/thumb/6/6c/Egon_Schiele_-_Krumau_-_Crescent_of_Houses_%28The_small_City_V%29_-_Google_Art_Project.jpg/240px-Egon_Schiele_-_Krumau_-_Crescent_of_Houses_%28The_small_City_V%29_-_Google_Art_Project.jpg',\n",
       " 'https://upload.wikimedia.org/wikipedia/commons/thumb/f/f5/Schiele_-_Krumauer_H%C3%A4userbogen_-_1915.jpg/240px-Schiele_-_Krumauer_H%C3%A4userbogen_-_1915.jpg',\n",
       " 'https://upload.wikimedia.org/wikipedia/commons/thumb/e/ec/Egon_Schiele_-_Doppelbildnis_Heinrich_und_Otto_Benesch.jpg/240px-Egon_Schiele_-_Doppelbildnis_Heinrich_und_Otto_Benesch.jpg',\n",
       " 'https://upload.wikimedia.org/wikipedia/commons/thumb/a/a6/Egon_Schiele_-_Einzelne_H%C3%A4user_%281915%29.jpg/240px-Egon_Schiele_-_Einzelne_H%C3%A4user_%281915%29.jpg',\n",
       " 'https://upload.wikimedia.org/wikipedia/commons/thumb/9/9a/Egon_Schiele_025.jpg/240px-Egon_Schiele_025.jpg',\n",
       " 'https://upload.wikimedia.org/wikipedia/commons/thumb/a/aa/Egon_Schiele_-_H%C3%A4user_mit_bunter_W%C3%A4sche_%281914%29.jpg/240px-Egon_Schiele_-_H%C3%A4user_mit_bunter_W%C3%A4sche_%281914%29.jpg',\n",
       " 'https://upload.wikimedia.org/wikipedia/commons/thumb/6/60/Schiele_-_Stadtende_-_Krumau_H%C3%A4userbogen.jpg/240px-Schiele_-_Stadtende_-_Krumau_H%C3%A4userbogen.jpg',\n",
       " 'https://upload.wikimedia.org/wikipedia/commons/thumb/9/97/Egon_Schiele_-_Liebespaar_%28Selbstdarstellung_mit_Wally%29.jpg/158px-Egon_Schiele_-_Liebespaar_%28Selbstdarstellung_mit_Wally%29.jpg',\n",
       " 'https://upload.wikimedia.org/wikipedia/commons/thumb/d/d9/Egon_Schiele_-_M%C3%A8re_avec_deux_enfants.jpg/240px-Egon_Schiele_-_M%C3%A8re_avec_deux_enfants.jpg',\n",
       " 'https://upload.wikimedia.org/wikipedia/commons/thumb/3/3b/Egon_Schiele_-_Selbstdarstellung_in_gr%C3%BCnem_Hemd_mir_geschlossenen_Augen.jpg/163px-Egon_Schiele_-_Selbstdarstellung_in_gr%C3%BCnem_Hemd_mir_geschlossenen_Augen.jpg',\n",
       " 'https://upload.wikimedia.org/wikipedia/commons/thumb/c/cb/Egon_Schiele_-_Stadt_am_blauen_Fluss_%281910%29.jpg/170px-Egon_Schiele_-_Stadt_am_blauen_Fluss_%281910%29.jpg',\n",
       " 'https://upload.wikimedia.org/wikipedia/commons/thumb/0/0c/Egon_Schiele_088.jpg/240px-Egon_Schiele_088.jpg',\n",
       " 'https://upload.wikimedia.org/wikipedia/commons/thumb/0/0c/Egon_Schiele_-_Tote_Stadt_%281912%29.jpg/240px-Egon_Schiele_-_Tote_Stadt_%281912%29.jpg',\n",
       " 'https://upload.wikimedia.org/wikipedia/commons/thumb/d/db/Egon_Schiele_001.jpg/240px-Egon_Schiele_001.jpg',\n",
       " 'https://upload.wikimedia.org/wikipedia/commons/thumb/b/b5/Egon_Schiele_002.jpg/130px-Egon_Schiele_002.jpg',\n",
       " 'https://upload.wikimedia.org/wikipedia/commons/thumb/1/1b/Egon_Schiele_003.jpg/164px-Egon_Schiele_003.jpg',\n",
       " 'https://upload.wikimedia.org/wikipedia/commons/thumb/3/3f/Egon_Schiele_006.jpg/158px-Egon_Schiele_006.jpg',\n",
       " 'https://upload.wikimedia.org/wikipedia/commons/thumb/3/34/Egon_Schiele_007.jpg/240px-Egon_Schiele_007.jpg',\n",
       " 'https://upload.wikimedia.org/wikipedia/commons/thumb/a/aa/Egon_Schiele_009.jpg/240px-Egon_Schiele_009.jpg',\n",
       " 'https://upload.wikimedia.org/wikipedia/commons/thumb/9/92/Egon_Schiele_010.jpg/107px-Egon_Schiele_010.jpg',\n",
       " 'https://upload.wikimedia.org/wikipedia/commons/thumb/c/c8/Egon_Schiele_011.jpg/161px-Egon_Schiele_011.jpg',\n",
       " 'https://upload.wikimedia.org/wikipedia/commons/thumb/8/83/Egon_Schiele_013.jpg/240px-Egon_Schiele_013.jpg',\n",
       " 'https://upload.wikimedia.org/wikipedia/commons/thumb/9/90/Egon_Schiele_015.jpg/239px-Egon_Schiele_015.jpg',\n",
       " 'https://upload.wikimedia.org/wikipedia/commons/thumb/7/74/Egon_Schiele_017.jpg/240px-Egon_Schiele_017.jpg',\n",
       " 'https://upload.wikimedia.org/wikipedia/commons/thumb/d/de/Egon_Schiele_018.jpg/239px-Egon_Schiele_018.jpg',\n",
       " 'https://upload.wikimedia.org/wikipedia/commons/thumb/5/53/Egon_Schiele_019.jpg/240px-Egon_Schiele_019.jpg',\n",
       " 'https://upload.wikimedia.org/wikipedia/commons/thumb/c/c4/Egon_Schiele_020.jpg/240px-Egon_Schiele_020.jpg',\n",
       " 'https://upload.wikimedia.org/wikipedia/commons/thumb/b/b2/Egon_Schiele_021.jpg/168px-Egon_Schiele_021.jpg',\n",
       " 'https://upload.wikimedia.org/wikipedia/commons/thumb/5/5e/Egon_Schiele_022.jpg/159px-Egon_Schiele_022.jpg',\n",
       " 'https://upload.wikimedia.org/wikipedia/commons/thumb/0/0f/Egon_Schiele_023.jpg/148px-Egon_Schiele_023.jpg',\n",
       " 'https://upload.wikimedia.org/wikipedia/commons/thumb/4/48/Egon_Schiele_024.jpg/155px-Egon_Schiele_024.jpg',\n",
       " 'https://upload.wikimedia.org/wikipedia/commons/thumb/f/f0/Egon_Schiele_026.jpg/169px-Egon_Schiele_026.jpg',\n",
       " 'https://upload.wikimedia.org/wikipedia/commons/thumb/8/81/Egon_Schiele_027.jpg/240px-Egon_Schiele_027.jpg',\n",
       " 'https://upload.wikimedia.org/wikipedia/commons/thumb/8/8c/Egon_Schiele_028.jpg/240px-Egon_Schiele_028.jpg',\n",
       " 'https://upload.wikimedia.org/wikipedia/commons/thumb/0/04/Egon_Schiele_030.jpg/169px-Egon_Schiele_030.jpg',\n",
       " 'https://upload.wikimedia.org/wikipedia/commons/thumb/5/53/Egon_Schiele_031.jpg/240px-Egon_Schiele_031.jpg',\n",
       " 'https://upload.wikimedia.org/wikipedia/commons/thumb/3/32/Egon_Schiele_032.jpg/240px-Egon_Schiele_032.jpg',\n",
       " 'https://upload.wikimedia.org/wikipedia/commons/thumb/3/39/Egon_Schiele_033.jpg/240px-Egon_Schiele_033.jpg',\n",
       " 'https://upload.wikimedia.org/wikipedia/commons/thumb/8/89/Egon_Schiele_034.jpg/191px-Egon_Schiele_034.jpg',\n",
       " 'https://upload.wikimedia.org/wikipedia/commons/thumb/7/72/Egon_Schiele_035.jpg/240px-Egon_Schiele_035.jpg',\n",
       " 'https://upload.wikimedia.org/wikipedia/commons/thumb/0/02/Egon_Schiele_037.jpg/169px-Egon_Schiele_037.jpg',\n",
       " 'https://upload.wikimedia.org/wikipedia/commons/thumb/d/d0/Egon_Schiele_038.jpg/240px-Egon_Schiele_038.jpg',\n",
       " 'https://upload.wikimedia.org/wikipedia/commons/thumb/2/2d/Egon_Schiele_040.jpg/240px-Egon_Schiele_040.jpg',\n",
       " 'https://upload.wikimedia.org/wikipedia/commons/thumb/4/48/Egon_Schiele_041.jpg/154px-Egon_Schiele_041.jpg',\n",
       " 'https://upload.wikimedia.org/wikipedia/commons/thumb/2/27/Egon_Schiele_043.jpg/240px-Egon_Schiele_043.jpg',\n",
       " 'https://upload.wikimedia.org/wikipedia/commons/thumb/6/61/Egon_Schiele_044.jpg/240px-Egon_Schiele_044.jpg',\n",
       " 'https://upload.wikimedia.org/wikipedia/commons/thumb/f/fb/Egon_Schiele_045.jpg/178px-Egon_Schiele_045.jpg',\n",
       " 'https://upload.wikimedia.org/wikipedia/commons/thumb/3/36/Egon_Schiele_046.jpg/145px-Egon_Schiele_046.jpg',\n",
       " 'https://upload.wikimedia.org/wikipedia/commons/thumb/c/c1/Egon_Schiele_047.jpg/159px-Egon_Schiele_047.jpg',\n",
       " 'https://upload.wikimedia.org/wikipedia/commons/thumb/1/1e/Egon_Schiele_048.jpg/202px-Egon_Schiele_048.jpg',\n",
       " 'https://upload.wikimedia.org/wikipedia/commons/thumb/6/65/Egon_Schiele_049.jpg/240px-Egon_Schiele_049.jpg',\n",
       " 'https://upload.wikimedia.org/wikipedia/commons/thumb/a/a7/Egon_Schiele_050.jpg/240px-Egon_Schiele_050.jpg',\n",
       " 'https://upload.wikimedia.org/wikipedia/commons/thumb/9/95/Egon_Schiele_051.jpg/157px-Egon_Schiele_051.jpg',\n",
       " 'https://upload.wikimedia.org/wikipedia/commons/thumb/d/d4/Egon_Schiele_052.jpg/158px-Egon_Schiele_052.jpg',\n",
       " 'https://upload.wikimedia.org/wikipedia/commons/thumb/3/36/Egon_Schiele_053.jpg/186px-Egon_Schiele_053.jpg',\n",
       " 'https://upload.wikimedia.org/wikipedia/commons/thumb/b/b4/Egon_Schiele_054.jpg/240px-Egon_Schiele_054.jpg',\n",
       " 'https://upload.wikimedia.org/wikipedia/commons/thumb/9/90/Egon_Schiele_055.jpg/139px-Egon_Schiele_055.jpg',\n",
       " 'https://upload.wikimedia.org/wikipedia/commons/thumb/e/ed/Egon_Schiele_056.jpg/183px-Egon_Schiele_056.jpg',\n",
       " 'https://upload.wikimedia.org/wikipedia/commons/thumb/b/bb/Egon_Schiele_057.jpg/237px-Egon_Schiele_057.jpg',\n",
       " 'https://upload.wikimedia.org/wikipedia/commons/thumb/3/38/Egon_Schiele_058.jpg/240px-Egon_Schiele_058.jpg',\n",
       " 'https://upload.wikimedia.org/wikipedia/commons/thumb/e/e3/Egon_Schiele_060.jpg/236px-Egon_Schiele_060.jpg',\n",
       " 'https://upload.wikimedia.org/wikipedia/commons/thumb/b/bb/Egon_Schiele_061.jpg/240px-Egon_Schiele_061.jpg',\n",
       " 'https://upload.wikimedia.org/wikipedia/commons/thumb/2/24/Egon_Schiele_062.jpg/217px-Egon_Schiele_062.jpg',\n",
       " 'https://upload.wikimedia.org/wikipedia/commons/thumb/b/b5/Egon_Schiele_063.jpg/147px-Egon_Schiele_063.jpg',\n",
       " 'https://upload.wikimedia.org/wikipedia/commons/thumb/a/ab/Egon_Schiele_064.jpg/234px-Egon_Schiele_064.jpg',\n",
       " 'https://upload.wikimedia.org/wikipedia/commons/thumb/6/64/Egon_Schiele_065.jpg/186px-Egon_Schiele_065.jpg',\n",
       " 'https://upload.wikimedia.org/wikipedia/commons/thumb/2/23/Egon_Schiele_066.jpg/186px-Egon_Schiele_066.jpg',\n",
       " 'https://upload.wikimedia.org/wikipedia/commons/thumb/2/23/Egon_Schiele_067.jpg/210px-Egon_Schiele_067.jpg',\n",
       " 'https://upload.wikimedia.org/wikipedia/commons/thumb/0/0c/Egon_Schiele_068.jpg/154px-Egon_Schiele_068.jpg',\n",
       " 'https://upload.wikimedia.org/wikipedia/commons/thumb/d/d0/Egon_Schiele_069.jpg/240px-Egon_Schiele_069.jpg',\n",
       " 'https://upload.wikimedia.org/wikipedia/commons/thumb/4/42/Egon_Schiele_070.jpg/183px-Egon_Schiele_070.jpg',\n",
       " 'https://upload.wikimedia.org/wikipedia/commons/thumb/1/1f/Egon_Schiele_071.jpg/161px-Egon_Schiele_071.jpg',\n",
       " 'https://upload.wikimedia.org/wikipedia/commons/thumb/c/c6/Egon_Schiele_072.jpg/174px-Egon_Schiele_072.jpg',\n",
       " 'https://upload.wikimedia.org/wikipedia/commons/thumb/d/d6/Egon_Schiele_073.jpg/140px-Egon_Schiele_073.jpg',\n",
       " 'https://upload.wikimedia.org/wikipedia/commons/thumb/e/ea/Egon_Schiele_074.jpg/160px-Egon_Schiele_074.jpg',\n",
       " 'https://upload.wikimedia.org/wikipedia/commons/thumb/d/de/Egon_Schiele_075.jpg/164px-Egon_Schiele_075.jpg',\n",
       " 'https://upload.wikimedia.org/wikipedia/commons/thumb/0/03/Egon_Schiele_076.jpg/163px-Egon_Schiele_076.jpg',\n",
       " 'https://upload.wikimedia.org/wikipedia/commons/thumb/3/33/Egon_Schiele_077.jpg/158px-Egon_Schiele_077.jpg',\n",
       " 'https://upload.wikimedia.org/wikipedia/commons/thumb/c/cc/Egon_Schiele_078.jpg/190px-Egon_Schiele_078.jpg',\n",
       " 'https://upload.wikimedia.org/wikipedia/commons/thumb/3/3f/Egon_Schiele_079.jpg/240px-Egon_Schiele_079.jpg',\n",
       " 'https://upload.wikimedia.org/wikipedia/commons/thumb/4/45/Egon_Schiele_080.jpg/240px-Egon_Schiele_080.jpg',\n",
       " 'https://upload.wikimedia.org/wikipedia/commons/thumb/2/2e/Egon_Schiele_081.jpg/236px-Egon_Schiele_081.jpg',\n",
       " 'https://upload.wikimedia.org/wikipedia/commons/thumb/f/f0/Egon_Schiele_082.jpg/158px-Egon_Schiele_082.jpg',\n",
       " 'https://upload.wikimedia.org/wikipedia/commons/thumb/3/36/Egon_Schiele_083.jpg/225px-Egon_Schiele_083.jpg',\n",
       " 'https://upload.wikimedia.org/wikipedia/commons/thumb/1/16/Egon_Schiele_084.jpg/240px-Egon_Schiele_084.jpg',\n",
       " 'https://upload.wikimedia.org/wikipedia/commons/thumb/c/c1/Egon_Schiele_085.jpg/130px-Egon_Schiele_085.jpg',\n",
       " 'https://upload.wikimedia.org/wikipedia/commons/thumb/8/84/Egon_Schiele_087.jpg/188px-Egon_Schiele_087.jpg',\n",
       " 'https://upload.wikimedia.org/wikipedia/commons/thumb/0/02/Egon_Schiele_089.jpg/161px-Egon_Schiele_089.jpg',\n",
       " 'https://upload.wikimedia.org/wikipedia/commons/thumb/8/8f/Egon_Schiele_090.jpg/240px-Egon_Schiele_090.jpg',\n",
       " 'https://upload.wikimedia.org/wikipedia/commons/thumb/9/91/Egon_Schiele_091.jpg/193px-Egon_Schiele_091.jpg',\n",
       " 'https://upload.wikimedia.org/wikipedia/commons/thumb/6/66/Egon_Schiele_092.jpg/192px-Egon_Schiele_092.jpg',\n",
       " 'https://upload.wikimedia.org/wikipedia/commons/thumb/e/ed/Egon_Schiele_095.jpg/163px-Egon_Schiele_095.jpg',\n",
       " 'https://upload.wikimedia.org/wikipedia/commons/thumb/7/7e/Egon_Schiele_096.jpg/240px-Egon_Schiele_096.jpg',\n",
       " 'https://upload.wikimedia.org/wikipedia/commons/thumb/7/74/Egon_Schiele_086.jpg/165px-Egon_Schiele_086.jpg',\n",
       " 'https://upload.wikimedia.org/wikipedia/commons/thumb/d/da/Egon_Schiele_036.jpg/240px-Egon_Schiele_036.jpg',\n",
       " 'https://upload.wikimedia.org/wikipedia/commons/thumb/b/b8/Emilio_Giuseppe_Dossena%2C_Giorno_Di_Mercato%2C_1976.jpg/172px-Emilio_Giuseppe_Dossena%2C_Giorno_Di_Mercato%2C_1976.jpg',\n",
       " 'https://upload.wikimedia.org/wikipedia/commons/thumb/6/6a/Endlose_Stra%C3%9Fe%2C_Margret_Hofheinz-D%C3%B6ring%2C_Strukturmalerei%2C_1971_%28WV-Nr.5001%29.JPG/165px-Endlose_Stra%C3%9Fe%2C_Margret_Hofheinz-D%C3%B6ring%2C_Strukturmalerei%2C_1971_%28WV-Nr.5001%29.JPG',\n",
       " 'https://upload.wikimedia.org/wikipedia/commons/thumb/8/89/Ernst_Ludwig_Kirchner_-_Dodo_et_son_fr%C3%A8re.jpg/134px-Ernst_Ludwig_Kirchner_-_Dodo_et_son_fr%C3%A8re.jpg',\n",
       " 'https://upload.wikimedia.org/wikipedia/commons/thumb/6/6f/Ernst_Ludwig_Kirchner_-_La_Tour_rouge.jpg/183px-Ernst_Ludwig_Kirchner_-_La_Tour_rouge.jpg',\n",
       " 'https://upload.wikimedia.org/wikipedia/commons/thumb/0/06/Erstaunlich%2C_Margret_Hofheinz-D%C3%B6ring%2C_Strukturmalerei%2C_1964_%28WV-Nr.2989%29.JPG/240px-Erstaunlich%2C_Margret_Hofheinz-D%C3%B6ring%2C_Strukturmalerei%2C_1964_%28WV-Nr.2989%29.JPG',\n",
       " 'https://upload.wikimedia.org/wikipedia/commons/thumb/1/16/Franz_Marc_-_The_Bewitched_Mill_-_Google_Art_Project.jpg/164px-Franz_Marc_-_The_Bewitched_Mill_-_Google_Art_Project.jpg',\n",
       " 'https://upload.wikimedia.org/wikipedia/commons/thumb/d/d1/Franz_Marc_002.jpg/180px-Franz_Marc_002.jpg',\n",
       " 'https://upload.wikimedia.org/wikipedia/commons/thumb/2/2c/Franz_Marc_004.jpg/204px-Franz_Marc_004.jpg',\n",
       " 'https://upload.wikimedia.org/wikipedia/commons/thumb/3/3e/Franz_Marc_006.jpg/240px-Franz_Marc_006.jpg',\n",
       " 'https://upload.wikimedia.org/wikipedia/commons/thumb/9/96/Franz_Marc_007.jpg/240px-Franz_Marc_007.jpg',\n",
       " 'https://upload.wikimedia.org/wikipedia/commons/thumb/a/a0/Franz_Marc_009.jpg/240px-Franz_Marc_009.jpg',\n",
       " 'https://upload.wikimedia.org/wikipedia/commons/thumb/b/b5/Franz_Marc_011.jpg/205px-Franz_Marc_011.jpg',\n",
       " 'https://upload.wikimedia.org/wikipedia/commons/thumb/e/e0/Franz_Marc_012.jpg/240px-Franz_Marc_012.jpg',\n",
       " 'https://upload.wikimedia.org/wikipedia/commons/thumb/7/76/Franz_Marc_013.jpg/188px-Franz_Marc_013.jpg',\n",
       " 'https://upload.wikimedia.org/wikipedia/commons/thumb/0/08/Franz_Marc_014.jpg/184px-Franz_Marc_014.jpg',\n",
       " 'https://upload.wikimedia.org/wikipedia/commons/thumb/9/96/Franz_Marc_015.jpg/240px-Franz_Marc_015.jpg',\n",
       " 'https://upload.wikimedia.org/wikipedia/commons/thumb/0/00/Franz_Marc_016.jpg/240px-Franz_Marc_016.jpg',\n",
       " 'https://upload.wikimedia.org/wikipedia/commons/thumb/b/b2/Franz_Marc_017.jpg/175px-Franz_Marc_017.jpg',\n",
       " 'https://upload.wikimedia.org/wikipedia/commons/thumb/8/8a/Franz_Marc_019.jpg/240px-Franz_Marc_019.jpg',\n",
       " 'https://upload.wikimedia.org/wikipedia/commons/thumb/3/32/Franz_Marc_020.jpg/221px-Franz_Marc_020.jpg',\n",
       " 'https://upload.wikimedia.org/wikipedia/commons/thumb/8/80/Franz_Marc_021.jpg/240px-Franz_Marc_021.jpg',\n",
       " '',\n",
       " '/static/images/wikimedia-button-2x.png',\n",
       " '/static/images/poweredby_mediawiki_176x62.png',\n",
       " 'https://upload.wikimedia.org/wikipedia/commons/thumb/6/6a/Franz_Marc_022.jpg/240px-Franz_Marc_022.jpg',\n",
       " 'https://upload.wikimedia.org/wikipedia/commons/thumb/2/2e/Franz_Marc_024.jpg/240px-Franz_Marc_024.jpg',\n",
       " 'https://upload.wikimedia.org/wikipedia/commons/thumb/0/0c/Franz_Marc_026.jpg/240px-Franz_Marc_026.jpg',\n",
       " 'https://upload.wikimedia.org/wikipedia/commons/thumb/5/50/Franz_Marc_030.jpg/240px-Franz_Marc_030.jpg',\n",
       " 'https://upload.wikimedia.org/wikipedia/commons/thumb/6/61/Franz_Marc_Drei_Tiere.jpg/240px-Franz_Marc_Drei_Tiere.jpg',\n",
       " 'https://upload.wikimedia.org/wikipedia/commons/thumb/2/29/Franz_Marc%2C_M%C3%A4dchenkopf_%28Bildnis_Maria_Franck%29%2C_1906.jpg/190px-Franz_Marc%2C_M%C3%A4dchenkopf_%28Bildnis_Maria_Franck%29%2C_1906.jpg',\n",
       " 'https://upload.wikimedia.org/wikipedia/commons/thumb/8/8c/Franz_Marc-Girl_with_Cat_II%28M%C3%A4dchen_mit_Katze_II%29-%281912%29.jpg/218px-Franz_Marc-Girl_with_Cat_II%28M%C3%A4dchen_mit_Katze_II%29-%281912%29.jpg',\n",
       " 'https://upload.wikimedia.org/wikipedia/commons/thumb/c/cc/Franz_Marc-In_the_Rain%28Im_Regen%29_%281912%29.jpg/240px-Franz_Marc-In_the_Rain%28Im_Regen%29_%281912%29.jpg',\n",
       " 'https://upload.wikimedia.org/wikipedia/commons/thumb/3/32/Franz_Marc-The_fate_of_the_animals-1913.jpg/240px-Franz_Marc-The_fate_of_the_animals-1913.jpg',\n",
       " 'https://upload.wikimedia.org/wikipedia/commons/thumb/b/b6/Franz_Marc-Two_Cats%2CBlue_and_Yellow%28Zwei_Katzen%2C_blau_und_gelb%29_%281912%29.jpg/240px-Franz_Marc-Two_Cats%2CBlue_and_Yellow%28Zwei_Katzen%2C_blau_und_gelb%29_%281912%29.jpg',\n",
       " 'https://upload.wikimedia.org/wikipedia/commons/thumb/8/86/Franz_Marc-Tyrol_%28Tirol%29_%281914%29.jpg/240px-Franz_Marc-Tyrol_%28Tirol%29_%281914%29.jpg',\n",
       " 'https://upload.wikimedia.org/wikipedia/commons/thumb/c/c4/Gelbe_Kuh-Franz_Marc.jpg/240px-Gelbe_Kuh-Franz_Marc.jpg',\n",
       " 'https://upload.wikimedia.org/wikipedia/commons/thumb/0/0f/Gwozdecki_-_Alice_Prin.jpg/194px-Gwozdecki_-_Alice_Prin.jpg',\n",
       " 'https://upload.wikimedia.org/wikipedia/commons/thumb/0/08/Gwozdecki_-_Kiki_de_Montparnasse%2C_1920.jpg/184px-Gwozdecki_-_Kiki_de_Montparnasse%2C_1920.jpg',\n",
       " 'https://upload.wikimedia.org/wikipedia/commons/thumb/2/2c/Heinrich_Vogeler_~_Die_Leiden_der_Frau_im_Kriege_-_Trauernde_Frauen_-_1918.jpg/151px-Heinrich_Vogeler_~_Die_Leiden_der_Frau_im_Kriege_-_Trauernde_Frauen_-_1918.jpg',\n",
       " 'https://upload.wikimedia.org/wikipedia/commons/thumb/1/1c/Impotent_na_kole%C4%8Dkov%C3%BDch_brusl%C3%ADch.jpg/170px-Impotent_na_kole%C4%8Dkov%C3%BDch_brusl%C3%ADch.jpg',\n",
       " 'https://upload.wikimedia.org/wikipedia/commons/thumb/a/aa/Egon_Schiele_042.jpg/155px-Egon_Schiele_042.jpg',\n",
       " 'https://upload.wikimedia.org/wikipedia/commons/thumb/6/6d/August_Macke_-_Landscape_with_Cows%2C_Sailing_Boat_and_Figures.jpg/240px-August_Macke_-_Landscape_with_Cows%2C_Sailing_Boat_and_Figures.jpg',\n",
       " 'https://upload.wikimedia.org/wikipedia/commons/thumb/2/26/Le_cardinal_et_la_none_Egon_Schiele.jpg/240px-Le_cardinal_et_la_none_Egon_Schiele.jpg',\n",
       " 'https://upload.wikimedia.org/wikipedia/commons/thumb/8/80/Love_is_Musical.JPG/240px-Love_is_Musical.JPG',\n",
       " 'https://upload.wikimedia.org/wikipedia/commons/thumb/b/b5/Macke%2C_August_-_M%C3%A4dchen_unter_B%C3%A4umen_-_1914_-_2384_x_1773_px.jpg/240px-Macke%2C_August_-_M%C3%A4dchen_unter_B%C3%A4umen_-_1914_-_2384_x_1773_px.jpg',\n",
       " 'https://upload.wikimedia.org/wikipedia/commons/thumb/f/f0/August_Macke_039.jpg/187px-August_Macke_039.jpg',\n",
       " 'https://upload.wikimedia.org/wikipedia/commons/thumb/b/ba/August_Macke_037.jpg/164px-August_Macke_037.jpg',\n",
       " 'https://upload.wikimedia.org/wikipedia/commons/thumb/1/10/Franzmarcpaintedbymacke.jpg/172px-Franzmarcpaintedbymacke.jpg',\n",
       " 'https://upload.wikimedia.org/wikipedia/commons/thumb/6/68/1911_Marc_Liegender_Hund_im_Schnee_anagoria.JPG/240px-1911_Marc_Liegender_Hund_im_Schnee_anagoria.JPG',\n",
       " 'https://upload.wikimedia.org/wikipedia/commons/thumb/4/43/Franz_Marc_031.jpg/240px-Franz_Marc_031.jpg',\n",
       " 'https://upload.wikimedia.org/wikipedia/commons/thumb/0/00/Paula_Modersohn-Becker_018.jpg/186px-Paula_Modersohn-Becker_018.jpg',\n",
       " 'https://upload.wikimedia.org/wikipedia/commons/thumb/8/8f/Rohlfs_-_Stilleben_mit_gelben_Krug.jpg/240px-Rohlfs_-_Stilleben_mit_gelben_Krug.jpg',\n",
       " 'https://upload.wikimedia.org/wikipedia/commons/thumb/f/ff/Otto_Mueller_-_Zwei_Halbakte_%281%29.jpg/193px-Otto_Mueller_-_Zwei_Halbakte_%281%29.jpg',\n",
       " 'https://upload.wikimedia.org/wikipedia/commons/thumb/d/d0/Paolo_Salvati%2C_Albero_Blu%2C_1980_-_sezione_per_Serigrafia.jpg/216px-Paolo_Salvati%2C_Albero_Blu%2C_1980_-_sezione_per_Serigrafia.jpg',\n",
       " 'https://upload.wikimedia.org/wikipedia/commons/thumb/a/a4/Pappa.jpg/161px-Pappa.jpg',\n",
       " 'https://upload.wikimedia.org/wikipedia/commons/thumb/f/f3/Paul_Klee_Bildnis_in_der_Laube_1930.jpg/192px-Paul_Klee_Bildnis_in_der_Laube_1930.jpg',\n",
       " 'https://upload.wikimedia.org/wikipedia/commons/thumb/8/84/Paula_Modersohn-Becker_-_Lee_Hoetger_et_sa_s%C5%93ur.jpg/240px-Paula_Modersohn-Becker_-_Lee_Hoetger_et_sa_s%C5%93ur.jpg',\n",
       " 'https://upload.wikimedia.org/wikipedia/commons/thumb/d/d7/Paula_Modersohn-Becker_-_Nature_morte.jpg/240px-Paula_Modersohn-Becker_-_Nature_morte.jpg',\n",
       " 'https://upload.wikimedia.org/wikipedia/commons/thumb/8/86/Paula_Modersohn-Becker_001.jpg/202px-Paula_Modersohn-Becker_001.jpg',\n",
       " 'https://upload.wikimedia.org/wikipedia/commons/thumb/7/76/Paula_Modersohn-Becker_002.jpg/240px-Paula_Modersohn-Becker_002.jpg',\n",
       " 'https://upload.wikimedia.org/wikipedia/commons/thumb/5/54/Paula_Modersohn-Becker_003.jpg/207px-Paula_Modersohn-Becker_003.jpg',\n",
       " 'https://upload.wikimedia.org/wikipedia/commons/thumb/f/f8/Paula_Modersohn-Becker_004.jpg/182px-Paula_Modersohn-Becker_004.jpg',\n",
       " 'https://upload.wikimedia.org/wikipedia/commons/thumb/1/1b/Paula_Modersohn-Becker_005.jpg/240px-Paula_Modersohn-Becker_005.jpg',\n",
       " 'https://upload.wikimedia.org/wikipedia/commons/thumb/0/09/Paula_Modersohn-Becker_006.jpg/113px-Paula_Modersohn-Becker_006.jpg',\n",
       " 'https://upload.wikimedia.org/wikipedia/commons/thumb/2/29/Paula_Modersohn-Becker_007.jpg/193px-Paula_Modersohn-Becker_007.jpg',\n",
       " 'https://upload.wikimedia.org/wikipedia/commons/thumb/f/ff/Paula_Modersohn-Becker_008.jpg/240px-Paula_Modersohn-Becker_008.jpg',\n",
       " 'https://upload.wikimedia.org/wikipedia/commons/thumb/a/ac/Paula_Modersohn-Becker_009.jpg/119px-Paula_Modersohn-Becker_009.jpg',\n",
       " 'https://upload.wikimedia.org/wikipedia/commons/thumb/8/89/Paula_Modersohn-Becker_010.jpg/195px-Paula_Modersohn-Becker_010.jpg',\n",
       " 'https://upload.wikimedia.org/wikipedia/commons/thumb/3/38/Paula_Modersohn-Becker_011.jpg/204px-Paula_Modersohn-Becker_011.jpg',\n",
       " 'https://upload.wikimedia.org/wikipedia/commons/thumb/d/d7/Paula_Modersohn-Becker_012.jpg/236px-Paula_Modersohn-Becker_012.jpg',\n",
       " 'https://upload.wikimedia.org/wikipedia/commons/thumb/a/a7/Paula_Modersohn-Becker_013.jpg/194px-Paula_Modersohn-Becker_013.jpg',\n",
       " 'https://upload.wikimedia.org/wikipedia/commons/thumb/0/0f/Paula_Modersohn-Becker_014.jpg/184px-Paula_Modersohn-Becker_014.jpg',\n",
       " 'https://upload.wikimedia.org/wikipedia/commons/thumb/b/b7/Paula_Modersohn-Becker_015.jpg/240px-Paula_Modersohn-Becker_015.jpg',\n",
       " 'https://upload.wikimedia.org/wikipedia/commons/thumb/4/42/Paula_Modersohn-Becker_016.jpg/184px-Paula_Modersohn-Becker_016.jpg',\n",
       " 'https://upload.wikimedia.org/wikipedia/commons/thumb/7/76/Paula_Modersohn-Becker_019.jpg/240px-Paula_Modersohn-Becker_019.jpg',\n",
       " 'https://upload.wikimedia.org/wikipedia/commons/thumb/e/ed/Paula_Modersohn-Becker_021.jpg/231px-Paula_Modersohn-Becker_021.jpg',\n",
       " 'https://upload.wikimedia.org/wikipedia/commons/thumb/b/bc/Paula_Modersohn-Becker_022.jpg/240px-Paula_Modersohn-Becker_022.jpg',\n",
       " 'https://upload.wikimedia.org/wikipedia/commons/thumb/b/bc/Paula_Modersohn-Becker_023.jpg/240px-Paula_Modersohn-Becker_023.jpg',\n",
       " 'https://upload.wikimedia.org/wikipedia/commons/thumb/4/4b/Paula_Modersohn-Becker_025.jpg/240px-Paula_Modersohn-Becker_025.jpg',\n",
       " 'https://upload.wikimedia.org/wikipedia/commons/thumb/d/dd/Paula_Modersohn-Becker_027.jpg/188px-Paula_Modersohn-Becker_027.jpg',\n",
       " 'https://upload.wikimedia.org/wikipedia/commons/thumb/1/14/Richard_Gerstl_003.jpg/185px-Richard_Gerstl_003.jpg',\n",
       " 'https://upload.wikimedia.org/wikipedia/commons/thumb/9/91/Richard_Gerstl_-_Nude_Self-Portrait_with_Palette_-_Google_Art_Project.jpg/187px-Richard_Gerstl_-_Nude_Self-Portrait_with_Palette_-_Google_Art_Project.jpg',\n",
       " 'https://upload.wikimedia.org/wikipedia/commons/thumb/b/ba/Richard_Gerstl_004.jpg/162px-Richard_Gerstl_004.jpg',\n",
       " 'https://upload.wikimedia.org/wikipedia/commons/thumb/1/15/Richard_Gerstl_-_Semi-Nude_Self-Portrait_-_Google_Art_Project.jpg/164px-Richard_Gerstl_-_Semi-Nude_Self-Portrait_-_Google_Art_Project.jpg',\n",
       " 'https://upload.wikimedia.org/wikipedia/commons/thumb/e/e3/Richard_Gerstl_001.jpg/177px-Richard_Gerstl_001.jpg',\n",
       " 'https://upload.wikimedia.org/wikipedia/commons/thumb/9/9c/Richard_Gerstl_002.jpg/240px-Richard_Gerstl_002.jpg',\n",
       " 'https://upload.wikimedia.org/wikipedia/commons/thumb/2/20/Richard_Gerstl_005.jpg/185px-Richard_Gerstl_005.jpg',\n",
       " 'https://upload.wikimedia.org/wikipedia/commons/thumb/f/f7/Richard_Gerstl_006.jpg/240px-Richard_Gerstl_006.jpg',\n",
       " 'https://upload.wikimedia.org/wikipedia/commons/thumb/1/16/Richard_Gerstl_007.jpg/240px-Richard_Gerstl_007.jpg',\n",
       " 'https://upload.wikimedia.org/wikipedia/commons/thumb/c/ca/Richard_Gerstl_008.jpg/125px-Richard_Gerstl_008.jpg',\n",
       " 'https://upload.wikimedia.org/wikipedia/commons/thumb/7/73/Ripe_cornfield_near_Bourtange%2C_the_Neatherlands%2C_landscape_painting_on_pasper_by_Dutch_artist_Fons_Heijnsbroek.jpg/240px-Ripe_cornfield_near_Bourtange%2C_the_Neatherlands%2C_landscape_painting_on_pasper_by_Dutch_artist_Fons_Heijnsbroek.jpg',\n",
       " 'https://upload.wikimedia.org/wikipedia/commons/thumb/8/80/Robert_Delaunay_-_Portrait_of_Stravinsky.tif/lossy-page1-195px-Robert_Delaunay_-_Portrait_of_Stravinsky.tif.jpg',\n",
       " 'https://upload.wikimedia.org/wikipedia/commons/thumb/8/8c/Rohlfs_-_Lee_Hoetger_und_ihre_Schwester.jpg/240px-Rohlfs_-_Lee_Hoetger_und_ihre_Schwester.jpg',\n",
       " 'https://upload.wikimedia.org/wikipedia/commons/thumb/2/26/Rolf-Nesch-Bro-Over-Elben.jpg/240px-Rolf-Nesch-Bro-Over-Elben.jpg',\n",
       " 'https://upload.wikimedia.org/wikipedia/commons/thumb/3/39/Schiel01.jpg/237px-Schiel01.jpg',\n",
       " 'https://upload.wikimedia.org/wikipedia/commons/thumb/e/e1/Schiele_K_Z_45.jpg/168px-Schiele_K_Z_45.jpg',\n",
       " 'https://upload.wikimedia.org/wikipedia/commons/thumb/2/27/Egon_Schiele_012.jpg/240px-Egon_Schiele_012.jpg',\n",
       " 'https://upload.wikimedia.org/wikipedia/commons/thumb/6/61/Egon_Schiele_-_Die_Familie_%281918%29.jpg/240px-Egon_Schiele_-_Die_Familie_%281918%29.jpg',\n",
       " 'https://upload.wikimedia.org/wikipedia/commons/thumb/9/95/Egon_Schiele_014.jpg/240px-Egon_Schiele_014.jpg',\n",
       " 'https://upload.wikimedia.org/wikipedia/commons/thumb/f/fc/Egon_Schiele_094.jpg/240px-Egon_Schiele_094.jpg',\n",
       " 'https://upload.wikimedia.org/wikipedia/commons/thumb/d/d9/Egon_Schiele_-_Umarmung_%281917%29.jpg/240px-Egon_Schiele_-_Umarmung_%281917%29.jpg',\n",
       " 'https://upload.wikimedia.org/wikipedia/commons/thumb/4/46/Egon_Schiele_016.jpg/240px-Egon_Schiele_016.jpg',\n",
       " 'https://upload.wikimedia.org/wikipedia/commons/thumb/c/cc/Egon_Schiele_-_Alter_Giebel_-_1913.jpeg/240px-Egon_Schiele_-_Alter_Giebel_-_1913.jpeg',\n",
       " 'https://upload.wikimedia.org/wikipedia/commons/thumb/0/0d/Egon_Schiele_005.jpg/240px-Egon_Schiele_005.jpg',\n",
       " 'https://upload.wikimedia.org/wikipedia/commons/thumb/7/77/Schiele-tote-stadt.jpg/192px-Schiele-tote-stadt.jpg',\n",
       " 'https://upload.wikimedia.org/wikipedia/commons/thumb/8/87/Egon_Schiele_-_Krumau_%281916%29.jpg/240px-Egon_Schiele_-_Krumau_%281916%29.jpg',\n",
       " 'https://upload.wikimedia.org/wikipedia/commons/thumb/e/ec/ESchiele_Landscape_of_Krumau-1916.png/240px-ESchiele_Landscape_of_Krumau-1916.png',\n",
       " 'https://upload.wikimedia.org/wikipedia/commons/thumb/b/bd/Egon_Schiele_059.jpg/185px-Egon_Schiele_059.jpg',\n",
       " 'https://upload.wikimedia.org/wikipedia/commons/thumb/b/b3/Self_portrait_Egon_Schiele_1911.jpg/240px-Self_portrait_Egon_Schiele_1911.jpg',\n",
       " 'https://upload.wikimedia.org/wikipedia/commons/thumb/b/bc/Self-portrait_by_Paula_Modersohn-Becker.jpg/154px-Self-portrait_by_Paula_Modersohn-Becker.jpg',\n",
       " 'https://upload.wikimedia.org/wikipedia/commons/thumb/b/b6/Semi-Nude_self_portrait_Richard_Gerstl.jpg/164px-Semi-Nude_self_portrait_Richard_Gerstl.jpg',\n",
       " 'https://upload.wikimedia.org/wikipedia/commons/thumb/5/5a/Stra%C3%9Fe_mit_Kirche_in_Kandern.jpg/183px-Stra%C3%9Fe_mit_Kirche_in_Kandern.jpg',\n",
       " 'https://upload.wikimedia.org/wikipedia/commons/thumb/9/9d/The_Scream_by_Edvard_Munch%2C_1893_-_Nasjonalgalleriet.png/193px-The_Scream_by_Edvard_Munch%2C_1893_-_Nasjonalgalleriet.png',\n",
       " 'https://upload.wikimedia.org/wikipedia/commons/thumb/f/f4/The_Scream.jpg/188px-The_Scream.jpg',\n",
       " 'https://upload.wikimedia.org/wikipedia/commons/thumb/8/8f/Urteaga2008.jpg/180px-Urteaga2008.jpg',\n",
       " 'https://upload.wikimedia.org/wikipedia/commons/thumb/8/8b/Wilhelm_Morgner_001.jpg/240px-Wilhelm_Morgner_001.jpg',\n",
       " '',\n",
       " '/static/images/wikimedia-button-2x.png',\n",
       " '/static/images/poweredby_mediawiki_176x62.png']"
      ]
     },
     "execution_count": 11,
     "metadata": {},
     "output_type": "execute_result"
    }
   ],
   "source": [
    "url_list"
   ]
  },
  {
   "cell_type": "markdown",
   "metadata": {},
   "source": [
    "# end of scrape"
   ]
  },
  {
   "cell_type": "code",
   "execution_count": null,
   "metadata": {
    "collapsed": true
   },
   "outputs": [],
   "source": []
  }
 ],
 "metadata": {
  "kernelspec": {
   "display_name": "specialization",
   "language": "python",
   "name": "specialization"
  },
  "language_info": {
   "codemirror_mode": {
    "name": "ipython",
    "version": 2
   },
   "file_extension": ".py",
   "mimetype": "text/x-python",
   "name": "python",
   "nbconvert_exporter": "python",
   "pygments_lexer": "ipython2",
   "version": "2.7.13"
  }
 },
 "nbformat": 4,
 "nbformat_minor": 1
}
