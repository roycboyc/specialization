{
 "cells": [
  {
   "cell_type": "code",
   "execution_count": 1,
   "metadata": {
    "collapsed": true
   },
   "outputs": [],
   "source": [
    "#scrapes Cubist Paintings on Wikimedia, stores all images as jpeg links in url_list at bottom\n",
    "\n",
    "import cv2\n",
    "from bs4 import BeautifulSoup\n",
    "import requests"
   ]
  },
  {
   "cell_type": "code",
   "execution_count": 3,
   "metadata": {
    "collapsed": false
   },
   "outputs": [],
   "source": [
    "r  = requests.get(\"https://commons.wikimedia.org/wiki/Category:Cubist_paintings\")\n",
    "\n",
    "data = r.text\n",
    "\n",
    "soup = BeautifulSoup(data, \"html.parser\")"
   ]
  },
  {
   "cell_type": "code",
   "execution_count": 4,
   "metadata": {
    "collapsed": false
   },
   "outputs": [],
   "source": [
    "imgBank = soup.find_all(\"img\")"
   ]
  },
  {
   "cell_type": "code",
   "execution_count": 5,
   "metadata": {
    "collapsed": false
   },
   "outputs": [],
   "source": [
    "st = str(imgBank[0])"
   ]
  },
  {
   "cell_type": "code",
   "execution_count": 6,
   "metadata": {
    "collapsed": false
   },
   "outputs": [
    {
     "name": "stdout",
     "output_type": "stream",
     "text": [
      "https://upload.wikimedia.org/wikipedia/commons/thumb/e/e3/%27_Tribal_Warrior_with_Yellow_Bird_%27%2C_a_Supercubist_Portrait%2C_Misha._Oil_on_Masonite.a_%28_begun%291995%2C_2015.jpeg/240px-%27_Tribal_Warrior_with_Yellow_Bird_%27%2C_a_Supercubist_Portrait%2C_Misha._Oil_on_Masonite.a_%28_begun%291995%2C_2015.jpeg\n"
     ]
    }
   ],
   "source": [
    "def find_between( s, first, last ):\n",
    "    try:\n",
    "        start = s.index( first ) + len( first )\n",
    "        end = s.index( last, start )\n",
    "        return s[start:end]\n",
    "    except ValueError:\n",
    "        return \"\"\n",
    "\n",
    "def find_between_r( s, first, last ):\n",
    "    try:\n",
    "        start = s.rindex( first ) + len( first )\n",
    "        end = s.rindex( last, start )\n",
    "        return s[start:end]\n",
    "    except ValueError:\n",
    "        return \"\"\n",
    "\n",
    "\n",
    "print find_between( st, \"1.5x, \", ' 2x' )\n"
   ]
  },
  {
   "cell_type": "code",
   "execution_count": 7,
   "metadata": {
    "collapsed": false
   },
   "outputs": [],
   "source": [
    "url_list = []\n",
    "for i in range(len(imgBank)):\n",
    "    st = str(imgBank[i])\n",
    "    url_list.append(find_between( st, \"1.5x, \", ' 2x' ))"
   ]
  },
  {
   "cell_type": "code",
   "execution_count": 8,
   "metadata": {
    "collapsed": false
   },
   "outputs": [
    {
     "data": {
      "text/plain": [
       "73"
      ]
     },
     "execution_count": 8,
     "metadata": {},
     "output_type": "execute_result"
    }
   ],
   "source": [
    "len(url_list)"
   ]
  },
  {
   "cell_type": "code",
   "execution_count": 9,
   "metadata": {
    "collapsed": false
   },
   "outputs": [
    {
     "data": {
      "text/plain": [
       "['https://upload.wikimedia.org/wikipedia/commons/thumb/e/e3/%27_Tribal_Warrior_with_Yellow_Bird_%27%2C_a_Supercubist_Portrait%2C_Misha._Oil_on_Masonite.a_%28_begun%291995%2C_2015.jpeg/240px-%27_Tribal_Warrior_with_Yellow_Bird_%27%2C_a_Supercubist_Portrait%2C_Misha._Oil_on_Masonite.a_%28_begun%291995%2C_2015.jpeg',\n",
       " 'https://upload.wikimedia.org/wikipedia/commons/thumb/3/32/Makowski_Woman_with_buckets.jpg/161px-Makowski_Woman_with_buckets.jpg',\n",
       " 'https://upload.wikimedia.org/wikipedia/commons/thumb/e/e0/1914_Gris_Le_Petit_D%C3%A9jeuner.jpg/176px-1914_Gris_Le_Petit_D%C3%A9jeuner.jpg',\n",
       " 'https://upload.wikimedia.org/wikipedia/commons/thumb/2/27/Waliszewski_Cubist_still_life.jpg/162px-Waliszewski_Cubist_still_life.jpg',\n",
       " 'https://upload.wikimedia.org/wikipedia/commons/thumb/2/21/1916_Gris_Spielkarten_und_Siphon_anagoria.JPG/240px-1916_Gris_Spielkarten_und_Siphon_anagoria.JPG',\n",
       " 'https://upload.wikimedia.org/wikipedia/commons/thumb/f/f3/1917_Blanchard_Frau_mit_Gitarre.JPG/182px-1917_Blanchard_Frau_mit_Gitarre.JPG',\n",
       " 'https://upload.wikimedia.org/wikipedia/commons/thumb/2/2c/A_subercubist_portrait_20151221_182350.JPG/240px-A_subercubist_portrait_20151221_182350.JPG',\n",
       " 'https://upload.wikimedia.org/wikipedia/commons/thumb/b/b0/A_supercubist_portrait_20151221_192055.JPG/240px-A_supercubist_portrait_20151221_192055.JPG',\n",
       " 'https://upload.wikimedia.org/wikipedia/commons/thumb/5/58/Armory_Show%2C_1913%2C_the_Cubist_room%2C_Raymond_Duchamp-Villon%2C_Albert_Gleizes%2C_Marcel_Duchamp%2C_Alexander_Archipenko%2C_New_York_Tribune%2C_17_February_1913%2C_p._7.jpg/240px-Armory_Show%2C_1913%2C_the_Cubist_room%2C_Raymond_Duchamp-Villon%2C_Albert_Gleizes%2C_Marcel_Duchamp%2C_Alexander_Archipenko%2C_New_York_Tribune%2C_17_February_1913%2C_p._7.jpg',\n",
       " 'https://upload.wikimedia.org/wikipedia/commons/thumb/f/fe/Bijan_Life.jpg/160px-Bijan_Life.jpg',\n",
       " 'https://upload.wikimedia.org/wikipedia/commons/thumb/c/c1/Brooklyn_Museum_-_The_Cellist_-_Max_Weber_-_overall.jpg/188px-Brooklyn_Museum_-_The_Cellist_-_Max_Weber_-_overall.jpg',\n",
       " 'https://upload.wikimedia.org/wikipedia/commons/thumb/7/70/Paul_C%C3%A9zanne_075.jpg/240px-Paul_C%C3%A9zanne_075.jpg',\n",
       " 'https://upload.wikimedia.org/wikipedia/commons/thumb/e/e2/Charles_H._Walther_-_Abstract_Landscape_-_Google_Art_Project.jpg/123px-Charles_H._Walther_-_Abstract_Landscape_-_Google_Art_Project.jpg',\n",
       " 'https://upload.wikimedia.org/wikipedia/commons/thumb/c/c8/Pierre_Dumont%2C_Cath%C3%A9drale_de_Rouen_%28Rouen_Cathedral%29%2C_c.1912%2C_oil_on_canvas%2C_138.75_x_92.41_cm%2C_Milwaukee_Art_Museum.jpg/172px-Pierre_Dumont%2C_Cath%C3%A9drale_de_Rouen_%28Rouen_Cathedral%29%2C_c.1912%2C_oil_on_canvas%2C_138.75_x_92.41_cm%2C_Milwaukee_Art_Museum.jpg',\n",
       " 'https://upload.wikimedia.org/wikipedia/commons/thumb/a/a5/Emilio_Notte_-_La_strage_di_Melissa_-_1953.jpg/227px-Emilio_Notte_-_La_strage_di_Melissa_-_1953.jpg',\n",
       " 'https://upload.wikimedia.org/wikipedia/commons/thumb/2/27/Fritz_Baumann_Kubistische_Komposition_1918.jpg/204px-Fritz_Baumann_Kubistische_Komposition_1918.jpg',\n",
       " 'https://upload.wikimedia.org/wikipedia/commons/thumb/1/10/Fritz_Baumann_Schicksal_1918.jpg/240px-Fritz_Baumann_Schicksal_1918.jpg',\n",
       " 'https://upload.wikimedia.org/wikipedia/commons/thumb/4/4d/Georges_Valmier%2C_1914-15%2C_Portrait_de_Commandant_Lambert%2C_gouache_and_watercolor_over_pencil%2C_63.2_x_50.8_cm.jpg/191px-Georges_Valmier%2C_1914-15%2C_Portrait_de_Commandant_Lambert%2C_gouache_and_watercolor_over_pencil%2C_63.2_x_50.8_cm.jpg',\n",
       " 'https://upload.wikimedia.org/wikipedia/commons/thumb/3/39/%27Nature_Mort_avec_Compotier_et_Journal%27_by_Juan_Gris%2C_1916.jpg/199px-%27Nature_Mort_avec_Compotier_et_Journal%27_by_Juan_Gris%2C_1916.jpg',\n",
       " 'https://upload.wikimedia.org/wikipedia/commons/thumb/5/52/1913_Gris_violin_and_guitar_anagoria.JPG/189px-1913_Gris_violin_and_guitar_anagoria.JPG',\n",
       " 'https://upload.wikimedia.org/wikipedia/commons/thumb/3/32/1914_Gris_La_botella_de_anis_anagoria.JPG/149px-1914_Gris_La_botella_de_anis_anagoria.JPG',\n",
       " 'https://upload.wikimedia.org/wikipedia/commons/thumb/2/23/1916_Gris_Krug_und_Glas_anagoria.JPG/185px-1916_Gris_Krug_und_Glas_anagoria.JPG',\n",
       " 'https://upload.wikimedia.org/wikipedia/commons/thumb/2/2e/Juan_Gris_-_Guitar_and_Pipe.jpg/183px-Juan_Gris_-_Guitar_and_Pipe.jpg',\n",
       " 'https://upload.wikimedia.org/wikipedia/commons/thumb/6/6a/Gris2.jpg/172px-Gris2.jpg',\n",
       " 'https://upload.wikimedia.org/wikipedia/commons/thumb/7/71/Henri_le_Fauconnier%2C_1908%2C_Ploumanac%27h.jpg/240px-Henri_le_Fauconnier%2C_1908%2C_Ploumanac%27h.jpg',\n",
       " 'https://upload.wikimedia.org/wikipedia/commons/thumb/3/37/Ismael_Nery_-_Nu_no_Cabide%2C_c._1927.jpg/200px-Ismael_Nery_-_Nu_no_Cabide%2C_c._1927.jpg',\n",
       " 'https://upload.wikimedia.org/wikipedia/commons/thumb/6/67/Ismael_Nery_-_Nude_woman_crouching_-_sd.jpg/155px-Ismael_Nery_-_Nude_woman_crouching_-_sd.jpg',\n",
       " 'https://upload.wikimedia.org/wikipedia/commons/thumb/c/ca/Ismael_Nery_-_N%C3%B3s.jpg/201px-Ismael_Nery_-_N%C3%B3s.jpg',\n",
       " 'https://upload.wikimedia.org/wikipedia/commons/thumb/9/94/Jean_Marchand%2C_Still_life_with_fruit_and_flower_pot%2C_c.1912.jpg/190px-Jean_Marchand%2C_Still_life_with_fruit_and_flower_pot%2C_c.1912.jpg',\n",
       " 'https://upload.wikimedia.org/wikipedia/commons/thumb/4/4c/Jean_Marchand%2C_Vue_de_Moscou%2C_c._1911.jpg/240px-Jean_Marchand%2C_Vue_de_Moscou%2C_c._1911.jpg',\n",
       " 'https://upload.wikimedia.org/wikipedia/commons/thumb/e/e4/Jean_Metzinger%2C_L%27Oiseau_Bleu_%28left%29%2C_Andr%C3%A9_Lhote_%28right%29%2C_Mus%C3%A9e_d%27Art_Moderne_de_la_Ville_de_Paris.jpg/240px-Jean_Metzinger%2C_L%27Oiseau_Bleu_%28left%29%2C_Andr%C3%A9_Lhote_%28right%29%2C_Mus%C3%A9e_d%27Art_Moderne_de_la_Ville_de_Paris.jpg',\n",
       " 'https://upload.wikimedia.org/wikipedia/commons/thumb/0/03/Jean_Metzinger%2C_L%27Oiseau_Bleu_%28left%29%2C_Andr%C3%A9_Lhote%2C_two_works_%28center%29%2C_Albert_Gleizes%2C_Baigneuse_%28right%29%2C_Mus%C3%A9e_d%27Art_Moderne_de_la_Ville_de_Paris.jpg/240px-Jean_Metzinger%2C_L%27Oiseau_Bleu_%28left%29%2C_Andr%C3%A9_Lhote%2C_two_works_%28center%29%2C_Albert_Gleizes%2C_Baigneuse_%28right%29%2C_Mus%C3%A9e_d%27Art_Moderne_de_la_Ville_de_Paris.jpg',\n",
       " 'https://upload.wikimedia.org/wikipedia/commons/thumb/a/a2/Jean-Hippolyte-Marchand%2C_La_Source%2C_1911.jpg/178px-Jean-Hippolyte-Marchand%2C_La_Source%2C_1911.jpg',\n",
       " 'https://upload.wikimedia.org/wikipedia/commons/thumb/f/fe/Josef_%C4%8Capek_-_U_vody.jpg/180px-Josef_%C4%8Capek_-_U_vody.jpg',\n",
       " 'https://upload.wikimedia.org/wikipedia/commons/thumb/0/01/Josef_%C4%8Capek_Selfportrait.jpg/156px-Josef_%C4%8Capek_Selfportrait.jpg',\n",
       " 'https://upload.wikimedia.org/wikipedia/commons/thumb/7/77/Jovinges_1933.jpg/188px-Jovinges_1933.jpg',\n",
       " 'https://upload.wikimedia.org/wikipedia/commons/thumb/c/ce/Juan_Gris_-_Guitar_on_a_table_-_Google_Art_Project.jpg/240px-Juan_Gris_-_Guitar_on_a_table_-_Google_Art_Project.jpg',\n",
       " 'https://upload.wikimedia.org/wikipedia/commons/thumb/1/18/Juan_Gris_-_Portrait_of_Pablo_Picasso_-_Google_Art_Project.jpg/189px-Juan_Gris_-_Portrait_of_Pablo_Picasso_-_Google_Art_Project.jpg',\n",
       " 'https://upload.wikimedia.org/wikipedia/commons/thumb/0/05/Juan_Gris_001.jpg/188px-Juan_Gris_001.jpg',\n",
       " 'https://upload.wikimedia.org/wikipedia/commons/thumb/e/ef/Juan_Gris_002.jpg/240px-Juan_Gris_002.jpg',\n",
       " 'https://upload.wikimedia.org/wikipedia/commons/thumb/9/99/Juan_Gris%2C_1912%2C_La_Guitare_%28Guitar_and_Glasses%29%2C_oil_on_canvas%2C_30_x_58_cm%2C_private_collection.jpg/240px-Juan_Gris%2C_1912%2C_La_Guitare_%28Guitar_and_Glasses%29%2C_oil_on_canvas%2C_30_x_58_cm%2C_private_collection.jpg',\n",
       " 'https://upload.wikimedia.org/wikipedia/commons/thumb/c/cf/Juan_Gris%2C_1912%2C_Les_Cigares_%28The_Packet_of_Cigars%29%2C_oil_on_canvas%2C_22_x_28_cm%2C_private_collection.jpg/240px-Juan_Gris%2C_1912%2C_Les_Cigares_%28The_Packet_of_Cigars%29%2C_oil_on_canvas%2C_22_x_28_cm%2C_private_collection.jpg',\n",
       " 'https://upload.wikimedia.org/wikipedia/commons/thumb/4/49/Juan_Gris%2C_1912%2C_Portrait_%28Etude_pour_le_Portrait_de_Germaine_Raynal%29%2C_pencil_and_charcoal_on_paper%2C_36_x_26.5_cm%2C_private_collection.jpg/139px-Juan_Gris%2C_1912%2C_Portrait_%28Etude_pour_le_Portrait_de_Germaine_Raynal%29%2C_pencil_and_charcoal_on_paper%2C_36_x_26.5_cm%2C_private_collection.jpg',\n",
       " 'https://upload.wikimedia.org/wikipedia/commons/thumb/8/81/JuanGris.Portrait_of_Picasso.jpg/186px-JuanGris.Portrait_of_Picasso.jpg',\n",
       " 'https://upload.wikimedia.org/wikipedia/commons/thumb/9/92/Lionel_Feininger_Gaswerk_Sch%C3%B6neberg.jpg/240px-Lionel_Feininger_Gaswerk_Sch%C3%B6neberg.jpg',\n",
       " 'https://upload.wikimedia.org/wikipedia/commons/thumb/7/7e/Louis_Marcoussis_Composition_cubiste_au_portrait_1926.jpg/178px-Louis_Marcoussis_Composition_cubiste_au_portrait_1926.jpg',\n",
       " 'https://upload.wikimedia.org/wikipedia/commons/thumb/9/94/Louis_Marcoussis_Personnage_%C3%A9crivant_c1931.jpg/173px-Louis_Marcoussis_Personnage_%C3%A9crivant_c1931.jpg',\n",
       " 'https://upload.wikimedia.org/wikipedia/commons/thumb/3/30/Max_Weber_-_The_Cellist_-_Google_Art_Project.jpg/192px-Max_Weber_-_The_Cellist_-_Google_Art_Project.jpg',\n",
       " 'https://upload.wikimedia.org/wikipedia/commons/thumb/b/b6/Mblanchard3.jpg/178px-Mblanchard3.jpg',\n",
       " 'https://upload.wikimedia.org/wikipedia/commons/thumb/1/1b/Naturemortedejeux.jpg/188px-Naturemortedejeux.jpg',\n",
       " 'https://upload.wikimedia.org/wikipedia/commons/thumb/a/a0/Overzicht_voorgevel_en_rechter_zijgevel%2C_blokvormige_villa_-_Kollum_-_20345568_-_RCE.jpg/235px-Overzicht_voorgevel_en_rechter_zijgevel%2C_blokvormige_villa_-_Kollum_-_20345568_-_RCE.jpg',\n",
       " 'https://upload.wikimedia.org/wikipedia/commons/thumb/f/f5/Paul_C%C3%A9zanne_108.jpg/240px-Paul_C%C3%A9zanne_108.jpg',\n",
       " 'https://upload.wikimedia.org/wikipedia/commons/thumb/3/30/Paul_C%C3%A9zanne_109.jpg/240px-Paul_C%C3%A9zanne_109.jpg',\n",
       " 'https://upload.wikimedia.org/wikipedia/commons/thumb/6/64/Paul_C%C3%A9zanne_110.jpg/240px-Paul_C%C3%A9zanne_110.jpg',\n",
       " 'https://upload.wikimedia.org/wikipedia/commons/thumb/b/b6/Paul_C%C3%A9zanne_111.jpg/240px-Paul_C%C3%A9zanne_111.jpg',\n",
       " 'https://upload.wikimedia.org/wikipedia/commons/thumb/2/25/Paul_C%C3%A9zanne_116.jpg/240px-Paul_C%C3%A9zanne_116.jpg',\n",
       " 'https://upload.wikimedia.org/wikipedia/commons/thumb/b/b6/Pedrobayonacuadros.jpg/240px-Pedrobayonacuadros.jpg',\n",
       " 'https://upload.wikimedia.org/wikipedia/commons/thumb/9/9c/Philip_Absolon._Cassie_Thinking_About_Cubism.jpg/240px-Philip_Absolon._Cassie_Thinking_About_Cubism.jpg',\n",
       " 'https://upload.wikimedia.org/wikipedia/commons/thumb/7/78/Popova_Air_Man_Space.jpg/193px-Popova_Air_Man_Space.jpg',\n",
       " 'https://upload.wikimedia.org/wikipedia/commons/thumb/f/fd/Roger-de-La-Fresnaye_-_Sitting_Man.jpg/240px-Roger-de-La-Fresnaye_-_Sitting_Man.jpg',\n",
       " 'https://upload.wikimedia.org/wikipedia/commons/thumb/3/39/Roger-No%C3%ABl-Fran%C3%A7ois_de_La_Fresnaye_001.jpg/240px-Roger-No%C3%ABl-Fran%C3%A7ois_de_La_Fresnaye_001.jpg',\n",
       " 'https://upload.wikimedia.org/wikipedia/commons/thumb/4/4b/Shield_of_R-26_-_Georges_Vantongerloo.jpg/240px-Shield_of_R-26_-_Georges_Vantongerloo.jpg',\n",
       " 'https://upload.wikimedia.org/wikipedia/commons/thumb/6/64/Siyahkal.jpg/185px-Siyahkal.jpg',\n",
       " 'https://upload.wikimedia.org/wikipedia/commons/thumb/7/73/Thomas_Hart_Benton_-_House_in_Cubist_Landscape.jpg/185px-Thomas_Hart_Benton_-_House_in_Cubist_Landscape.jpg',\n",
       " 'https://upload.wikimedia.org/wikipedia/commons/thumb/d/db/Thorvald_Hellesen_001.jpg/233px-Thorvald_Hellesen_001.jpg',\n",
       " 'https://upload.wikimedia.org/wikipedia/commons/thumb/2/27/Thorvald_Hellesen_Les_deux_amies.jpg/240px-Thorvald_Hellesen_Les_deux_amies.jpg',\n",
       " 'https://upload.wikimedia.org/wikipedia/commons/thumb/2/2d/Torsten_Jovinge_Kvarteret_Bergsund_1931.jpg/198px-Torsten_Jovinge_Kvarteret_Bergsund_1931.jpg',\n",
       " 'https://upload.wikimedia.org/wikipedia/commons/thumb/e/e0/Vera_Rockline_The_Card_Players.jpg/187px-Vera_Rockline_The_Card_Players.jpg',\n",
       " 'https://upload.wikimedia.org/wikipedia/commons/thumb/d/dd/%22At_the_Wharf%22%2C_1960_-_NARA_-_559032.jpg/240px-%22At_the_Wharf%22%2C_1960_-_NARA_-_559032.jpg',\n",
       " 'https://upload.wikimedia.org/wikipedia/commons/thumb/f/ff/%22At_the_Wharf%22%2C_1960_-_NARA_-_559032.tif/lossy-page1-240px-%22At_the_Wharf%22%2C_1960_-_NARA_-_559032.tif.jpg',\n",
       " '',\n",
       " '/static/images/wikimedia-button-2x.png',\n",
       " '/static/images/poweredby_mediawiki_176x62.png']"
      ]
     },
     "execution_count": 9,
     "metadata": {},
     "output_type": "execute_result"
    }
   ],
   "source": [
    "url_list"
   ]
  },
  {
   "cell_type": "markdown",
   "metadata": {},
   "source": [
    "# end of scrape"
   ]
  },
  {
   "cell_type": "code",
   "execution_count": null,
   "metadata": {
    "collapsed": true
   },
   "outputs": [],
   "source": []
  }
 ],
 "metadata": {
  "kernelspec": {
   "display_name": "specialization",
   "language": "python",
   "name": "specialization"
  },
  "language_info": {
   "codemirror_mode": {
    "name": "ipython",
    "version": 2
   },
   "file_extension": ".py",
   "mimetype": "text/x-python",
   "name": "python",
   "nbconvert_exporter": "python",
   "pygments_lexer": "ipython2",
   "version": "2.7.13"
  }
 },
 "nbformat": 4,
 "nbformat_minor": 1
}
